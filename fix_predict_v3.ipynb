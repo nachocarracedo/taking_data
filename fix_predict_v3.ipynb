{
 "cells": [
  {
   "cell_type": "code",
   "execution_count": 1,
   "metadata": {
    "collapsed": true
   },
   "outputs": [],
   "source": [
    "import pandas as pd\n",
    "import numpy as np\n",
    "from scipy import sparse\n",
    "from sklearn.feature_extraction import FeatureHasher\n",
    "from sklearn.feature_extraction.text import CountVectorizer, TfidfVectorizer\n",
    "from sklearn.preprocessing import LabelEncoder, OneHotEncoder, scale\n",
    "from sklearn.decomposition import TruncatedSVD, SparsePCA\n",
    "from sklearn.cross_validation import train_test_split, cross_val_score\n",
    "from sklearn.feature_selection import SelectPercentile, f_classif, chi2, SelectKBest\n",
    "from sklearn.linear_model import LogisticRegression, SGDClassifier\n",
    "from sklearn.ensemble import RandomForestClassifier, AdaBoostClassifier\n",
    "from sklearn.metrics import log_loss\n",
    "from sklearn import pipeline, grid_search"
   ]
  },
  {
   "cell_type": "code",
   "execution_count": 2,
   "metadata": {
    "collapsed": false
   },
   "outputs": [
    {
     "data": {
      "text/html": [
       "<div>\n",
       "<table border=\"1\" class=\"dataframe\">\n",
       "  <thead>\n",
       "    <tr style=\"text-align: right;\">\n",
       "      <th></th>\n",
       "      <th>event_id</th>\n",
       "      <th>app_id</th>\n",
       "      <th>is_installed</th>\n",
       "      <th>is_active</th>\n",
       "    </tr>\n",
       "  </thead>\n",
       "  <tbody>\n",
       "    <tr>\n",
       "      <th>0</th>\n",
       "      <td>2</td>\n",
       "      <td>5927333115845830913</td>\n",
       "      <td>1</td>\n",
       "      <td>1</td>\n",
       "    </tr>\n",
       "    <tr>\n",
       "      <th>1</th>\n",
       "      <td>2</td>\n",
       "      <td>-5720078949152207372</td>\n",
       "      <td>1</td>\n",
       "      <td>0</td>\n",
       "    </tr>\n",
       "    <tr>\n",
       "      <th>2</th>\n",
       "      <td>2</td>\n",
       "      <td>-1633887856876571208</td>\n",
       "      <td>1</td>\n",
       "      <td>0</td>\n",
       "    </tr>\n",
       "    <tr>\n",
       "      <th>3</th>\n",
       "      <td>2</td>\n",
       "      <td>-653184325010919369</td>\n",
       "      <td>1</td>\n",
       "      <td>1</td>\n",
       "    </tr>\n",
       "    <tr>\n",
       "      <th>4</th>\n",
       "      <td>2</td>\n",
       "      <td>8693964245073640147</td>\n",
       "      <td>1</td>\n",
       "      <td>1</td>\n",
       "    </tr>\n",
       "  </tbody>\n",
       "</table>\n",
       "</div>"
      ],
      "text/plain": [
       "   event_id                app_id  is_installed  is_active\n",
       "0         2   5927333115845830913             1          1\n",
       "1         2  -5720078949152207372             1          0\n",
       "2         2  -1633887856876571208             1          0\n",
       "3         2   -653184325010919369             1          1\n",
       "4         2   8693964245073640147             1          1"
      ]
     },
     "execution_count": 2,
     "metadata": {},
     "output_type": "execute_result"
    }
   ],
   "source": [
    "app_ev = pd.read_csv(\".\\\\raw_data\\\\app_events.csv\", dtype={'app_id': np.str})\n",
    "app_ev.head()"
   ]
  },
  {
   "cell_type": "code",
   "execution_count": 3,
   "metadata": {
    "collapsed": false
   },
   "outputs": [
    {
     "name": "stdout",
     "output_type": "stream",
     "text": [
      "(930, 2)\n"
     ]
    },
    {
     "data": {
      "text/html": [
       "<div>\n",
       "<table border=\"1\" class=\"dataframe\">\n",
       "  <thead>\n",
       "    <tr style=\"text-align: right;\">\n",
       "      <th></th>\n",
       "      <th>label_id</th>\n",
       "      <th>category</th>\n",
       "    </tr>\n",
       "  </thead>\n",
       "  <tbody>\n",
       "    <tr>\n",
       "      <th>0</th>\n",
       "      <td>1</td>\n",
       "      <td>Other</td>\n",
       "    </tr>\n",
       "    <tr>\n",
       "      <th>1</th>\n",
       "      <td>2</td>\n",
       "      <td>game-game type</td>\n",
       "    </tr>\n",
       "    <tr>\n",
       "      <th>2</th>\n",
       "      <td>3</td>\n",
       "      <td>game-Game themes</td>\n",
       "    </tr>\n",
       "    <tr>\n",
       "      <th>3</th>\n",
       "      <td>4</td>\n",
       "      <td>game-Art Style</td>\n",
       "    </tr>\n",
       "    <tr>\n",
       "      <th>4</th>\n",
       "      <td>5</td>\n",
       "      <td>game-Leisure time</td>\n",
       "    </tr>\n",
       "  </tbody>\n",
       "</table>\n",
       "</div>"
      ],
      "text/plain": [
       "   label_id           category\n",
       "0         1              Other\n",
       "1         2     game-game type\n",
       "2         3   game-Game themes\n",
       "3         4     game-Art Style\n",
       "4         5  game-Leisure time"
      ]
     },
     "execution_count": 3,
     "metadata": {},
     "output_type": "execute_result"
    }
   ],
   "source": [
    "label_cat = pd.read_csv('.\\\\raw_data\\\\label_categories.csv')\n",
    "print(label_cat.shape)\n",
    "label_cat = label_cat.fillna('Other')\n",
    "label_cat.head()"
   ]
  },
  {
   "cell_type": "code",
   "execution_count": 4,
   "metadata": {
    "collapsed": false
   },
   "outputs": [
    {
     "name": "stdout",
     "output_type": "stream",
     "text": [
      "(459943, 2)\n"
     ]
    },
    {
     "data": {
      "text/html": [
       "<div>\n",
       "<table border=\"1\" class=\"dataframe\">\n",
       "  <thead>\n",
       "    <tr style=\"text-align: right;\">\n",
       "      <th></th>\n",
       "      <th>app_id</th>\n",
       "      <th>label_id</th>\n",
       "    </tr>\n",
       "  </thead>\n",
       "  <tbody>\n",
       "    <tr>\n",
       "      <th>0</th>\n",
       "      <td>7324884708820027918</td>\n",
       "      <td>251</td>\n",
       "    </tr>\n",
       "    <tr>\n",
       "      <th>1</th>\n",
       "      <td>-4494216993218550286</td>\n",
       "      <td>251</td>\n",
       "    </tr>\n",
       "    <tr>\n",
       "      <th>2</th>\n",
       "      <td>6058196446775239644</td>\n",
       "      <td>406</td>\n",
       "    </tr>\n",
       "    <tr>\n",
       "      <th>3</th>\n",
       "      <td>6058196446775239644</td>\n",
       "      <td>407</td>\n",
       "    </tr>\n",
       "    <tr>\n",
       "      <th>4</th>\n",
       "      <td>8694625920731541625</td>\n",
       "      <td>406</td>\n",
       "    </tr>\n",
       "  </tbody>\n",
       "</table>\n",
       "</div>"
      ],
      "text/plain": [
       "                 app_id  label_id\n",
       "0   7324884708820027918       251\n",
       "1  -4494216993218550286       251\n",
       "2   6058196446775239644       406\n",
       "3   6058196446775239644       407\n",
       "4   8694625920731541625       406"
      ]
     },
     "execution_count": 4,
     "metadata": {},
     "output_type": "execute_result"
    }
   ],
   "source": [
    "app_labels = pd.read_csv('.\\\\raw_data\\\\app_labels.csv',dtype={'app_id': np.str})\n",
    "print(app_labels.shape)\n",
    "app_labels.head()"
   ]
  },
  {
   "cell_type": "code",
   "execution_count": 5,
   "metadata": {
    "collapsed": false
   },
   "outputs": [
    {
     "name": "stdout",
     "output_type": "stream",
     "text": [
      "(459943, 2)\n"
     ]
    },
    {
     "data": {
      "text/html": [
       "<div>\n",
       "<table border=\"1\" class=\"dataframe\">\n",
       "  <thead>\n",
       "    <tr style=\"text-align: right;\">\n",
       "      <th></th>\n",
       "      <th>app_id</th>\n",
       "      <th>category</th>\n",
       "    </tr>\n",
       "  </thead>\n",
       "  <tbody>\n",
       "    <tr>\n",
       "      <th>0</th>\n",
       "      <td>7324884708820027918</td>\n",
       "      <td>Finance</td>\n",
       "    </tr>\n",
       "    <tr>\n",
       "      <th>1</th>\n",
       "      <td>-4494216993218550286</td>\n",
       "      <td>Finance</td>\n",
       "    </tr>\n",
       "    <tr>\n",
       "      <th>2</th>\n",
       "      <td>8756705988821000489</td>\n",
       "      <td>Finance</td>\n",
       "    </tr>\n",
       "    <tr>\n",
       "      <th>3</th>\n",
       "      <td>1061207043315821111</td>\n",
       "      <td>Finance</td>\n",
       "    </tr>\n",
       "    <tr>\n",
       "      <th>4</th>\n",
       "      <td>-1491198667294647703</td>\n",
       "      <td>Finance</td>\n",
       "    </tr>\n",
       "  </tbody>\n",
       "</table>\n",
       "</div>"
      ],
      "text/plain": [
       "                 app_id category\n",
       "0   7324884708820027918  Finance\n",
       "1  -4494216993218550286  Finance\n",
       "2   8756705988821000489  Finance\n",
       "3   1061207043315821111  Finance\n",
       "4  -1491198667294647703  Finance"
      ]
     },
     "execution_count": 5,
     "metadata": {},
     "output_type": "execute_result"
    }
   ],
   "source": [
    "app_labels = pd.merge(app_labels, label_cat, how='inner',on='label_id')\n",
    "app_labels.drop('label_id',axis=1, inplace=True)\n",
    "print(app_labels.shape)\n",
    "del label_cat\n",
    "app_labels.head()"
   ]
  },
  {
   "cell_type": "code",
   "execution_count": 6,
   "metadata": {
    "collapsed": true
   },
   "outputs": [],
   "source": [
    "app_labels = app_labels.groupby(\"app_id\")[\"category\"].apply(lambda x: \" \".join(set(\"category:\" + str(s).replace(\" \",\"_\") for s in x)))"
   ]
  },
  {
   "cell_type": "code",
   "execution_count": 7,
   "metadata": {
    "collapsed": false
   },
   "outputs": [],
   "source": [
    "app_ev = pd.merge(app_ev,pd.DataFrame(app_labels).reset_index(), how='left',on='app_id')"
   ]
  },
  {
   "cell_type": "code",
   "execution_count": 8,
   "metadata": {
    "collapsed": false
   },
   "outputs": [
    {
     "data": {
      "text/html": [
       "<div>\n",
       "<table border=\"1\" class=\"dataframe\">\n",
       "  <thead>\n",
       "    <tr style=\"text-align: right;\">\n",
       "      <th></th>\n",
       "      <th>event_id</th>\n",
       "      <th>app_id</th>\n",
       "      <th>is_installed</th>\n",
       "      <th>is_active</th>\n",
       "      <th>category</th>\n",
       "    </tr>\n",
       "  </thead>\n",
       "  <tbody>\n",
       "    <tr>\n",
       "      <th>0</th>\n",
       "      <td>2</td>\n",
       "      <td>5927333115845830913</td>\n",
       "      <td>1</td>\n",
       "      <td>1</td>\n",
       "      <td>category:Property_Industry_1.0 category:IM cat...</td>\n",
       "    </tr>\n",
       "    <tr>\n",
       "      <th>1</th>\n",
       "      <td>2</td>\n",
       "      <td>-5720078949152207372</td>\n",
       "      <td>1</td>\n",
       "      <td>0</td>\n",
       "      <td>category:Personal_Effectiveness_1 category:unk...</td>\n",
       "    </tr>\n",
       "    <tr>\n",
       "      <th>2</th>\n",
       "      <td>2</td>\n",
       "      <td>-1633887856876571208</td>\n",
       "      <td>1</td>\n",
       "      <td>0</td>\n",
       "      <td>category:Higher_income category:P2P_net_loan c...</td>\n",
       "    </tr>\n",
       "    <tr>\n",
       "      <th>3</th>\n",
       "      <td>2</td>\n",
       "      <td>-653184325010919369</td>\n",
       "      <td>1</td>\n",
       "      <td>1</td>\n",
       "      <td>category:Medium_risk category:Finance category...</td>\n",
       "    </tr>\n",
       "    <tr>\n",
       "      <th>4</th>\n",
       "      <td>2</td>\n",
       "      <td>8693964245073640147</td>\n",
       "      <td>1</td>\n",
       "      <td>1</td>\n",
       "      <td>category:Property_Industry_1.0 category:IM cat...</td>\n",
       "    </tr>\n",
       "  </tbody>\n",
       "</table>\n",
       "</div>"
      ],
      "text/plain": [
       "   event_id                app_id  is_installed  is_active  \\\n",
       "0         2   5927333115845830913             1          1   \n",
       "1         2  -5720078949152207372             1          0   \n",
       "2         2  -1633887856876571208             1          0   \n",
       "3         2   -653184325010919369             1          1   \n",
       "4         2   8693964245073640147             1          1   \n",
       "\n",
       "                                            category  \n",
       "0  category:Property_Industry_1.0 category:IM cat...  \n",
       "1  category:Personal_Effectiveness_1 category:unk...  \n",
       "2  category:Higher_income category:P2P_net_loan c...  \n",
       "3  category:Medium_risk category:Finance category...  \n",
       "4  category:Property_Industry_1.0 category:IM cat...  "
      ]
     },
     "execution_count": 8,
     "metadata": {},
     "output_type": "execute_result"
    }
   ],
   "source": [
    "app_ev.head()"
   ]
  },
  {
   "cell_type": "code",
   "execution_count": 9,
   "metadata": {
    "collapsed": true
   },
   "outputs": [],
   "source": [
    "app_ev1 = app_ev.groupby(\"event_id\")[\"app_id\"].apply(lambda x: \" \".join(set(\"app_id:\" + str(s) for s in x)))"
   ]
  },
  {
   "cell_type": "code",
   "execution_count": 10,
   "metadata": {
    "collapsed": false
   },
   "outputs": [],
   "source": [
    "pd.DataFrame(app_ev1).reset_index().to_csv('.\\\\transformed_data\\\\app_ev1.csv',index=False)\n",
    "del app_ev1\n",
    "#events = events.reset_index(name=\"app_id\")"
   ]
  },
  {
   "cell_type": "code",
   "execution_count": 11,
   "metadata": {
    "collapsed": true
   },
   "outputs": [],
   "source": [
    "app_ev2 = app_ev.groupby(\"event_id\")[\"category\"].apply(lambda x: \" \".join(set(str(\" \".join(str(s) for s in x)).split(\" \"))))\n",
    "pd.DataFrame(app_ev2).reset_index().to_csv('.\\\\transformed_data\\\\app_ev2.csv',index=False)\n",
    "del app_ev2"
   ]
  },
  {
   "cell_type": "code",
   "execution_count": 12,
   "metadata": {
    "collapsed": false
   },
   "outputs": [],
   "source": [
    "del app_ev\n",
    "app_ev = pd.merge(pd.read_csv('.\\\\transformed_data\\\\app_ev1.csv'),pd.read_csv('.\\\\transformed_data\\\\app_ev2.csv'),\n",
    "                   how='inner',on='event_id')"
   ]
  },
  {
   "cell_type": "code",
   "execution_count": 13,
   "metadata": {
    "collapsed": false
   },
   "outputs": [
    {
     "data": {
      "text/html": [
       "<div>\n",
       "<table border=\"1\" class=\"dataframe\">\n",
       "  <thead>\n",
       "    <tr style=\"text-align: right;\">\n",
       "      <th></th>\n",
       "      <th>event_id</th>\n",
       "      <th>app_id</th>\n",
       "      <th>category</th>\n",
       "    </tr>\n",
       "  </thead>\n",
       "  <tbody>\n",
       "    <tr>\n",
       "      <th>0</th>\n",
       "      <td>2</td>\n",
       "      <td>app_id:701031210314548601 app_id:3717049149426...</td>\n",
       "      <td>category:Consumer_loans category:Financial_Ser...</td>\n",
       "    </tr>\n",
       "    <tr>\n",
       "      <th>1</th>\n",
       "      <td>6</td>\n",
       "      <td>app_id:1261332316628097511 app_id:-58398582699...</td>\n",
       "      <td>category:Financial_Services category:fixed_inc...</td>\n",
       "    </tr>\n",
       "    <tr>\n",
       "      <th>2</th>\n",
       "      <td>7</td>\n",
       "      <td>app_id:-5372083417770193025 app_id:-5839858269...</td>\n",
       "      <td>category:Consumer_loans category:Financial_Ser...</td>\n",
       "    </tr>\n",
       "    <tr>\n",
       "      <th>3</th>\n",
       "      <td>9</td>\n",
       "      <td>app_id:-5839858269967688123 app_id:-7020654533...</td>\n",
       "      <td>category:Financial_Services category:fixed_inc...</td>\n",
       "    </tr>\n",
       "    <tr>\n",
       "      <th>4</th>\n",
       "      <td>16</td>\n",
       "      <td>app_id:4811881744526295139 app_id:-17633617655...</td>\n",
       "      <td>category:Consumer_loans category:Financial_Ser...</td>\n",
       "    </tr>\n",
       "  </tbody>\n",
       "</table>\n",
       "</div>"
      ],
      "text/plain": [
       "   event_id                                             app_id  \\\n",
       "0         2  app_id:701031210314548601 app_id:3717049149426...   \n",
       "1         6  app_id:1261332316628097511 app_id:-58398582699...   \n",
       "2         7  app_id:-5372083417770193025 app_id:-5839858269...   \n",
       "3         9  app_id:-5839858269967688123 app_id:-7020654533...   \n",
       "4        16  app_id:4811881744526295139 app_id:-17633617655...   \n",
       "\n",
       "                                            category  \n",
       "0  category:Consumer_loans category:Financial_Ser...  \n",
       "1  category:Financial_Services category:fixed_inc...  \n",
       "2  category:Consumer_loans category:Financial_Ser...  \n",
       "3  category:Financial_Services category:fixed_inc...  \n",
       "4  category:Consumer_loans category:Financial_Ser...  "
      ]
     },
     "execution_count": 13,
     "metadata": {},
     "output_type": "execute_result"
    }
   ],
   "source": [
    "app_ev.head()"
   ]
  },
  {
   "cell_type": "code",
   "execution_count": 14,
   "metadata": {
    "collapsed": false
   },
   "outputs": [],
   "source": [
    "events = pd.read_csv(\".\\\\raw_data\\\\events.csv\", dtype={'device_id': np.str})"
   ]
  },
  {
   "cell_type": "code",
   "execution_count": 15,
   "metadata": {
    "collapsed": false
   },
   "outputs": [
    {
     "data": {
      "text/html": [
       "<div>\n",
       "<table border=\"1\" class=\"dataframe\">\n",
       "  <thead>\n",
       "    <tr style=\"text-align: right;\">\n",
       "      <th></th>\n",
       "      <th>event_id</th>\n",
       "      <th>device_id</th>\n",
       "      <th>timestamp</th>\n",
       "      <th>longitude</th>\n",
       "      <th>latitude</th>\n",
       "    </tr>\n",
       "  </thead>\n",
       "  <tbody>\n",
       "    <tr>\n",
       "      <th>0</th>\n",
       "      <td>1</td>\n",
       "      <td>29182687948017175</td>\n",
       "      <td>2016-05-01 00:55:25</td>\n",
       "      <td>121.38</td>\n",
       "      <td>31.24</td>\n",
       "    </tr>\n",
       "    <tr>\n",
       "      <th>1</th>\n",
       "      <td>2</td>\n",
       "      <td>-6401643145415154744</td>\n",
       "      <td>2016-05-01 00:54:12</td>\n",
       "      <td>103.65</td>\n",
       "      <td>30.97</td>\n",
       "    </tr>\n",
       "    <tr>\n",
       "      <th>2</th>\n",
       "      <td>3</td>\n",
       "      <td>-4833982096941402721</td>\n",
       "      <td>2016-05-01 00:08:05</td>\n",
       "      <td>106.60</td>\n",
       "      <td>29.70</td>\n",
       "    </tr>\n",
       "    <tr>\n",
       "      <th>3</th>\n",
       "      <td>4</td>\n",
       "      <td>-6815121365017318426</td>\n",
       "      <td>2016-05-01 00:06:40</td>\n",
       "      <td>104.27</td>\n",
       "      <td>23.28</td>\n",
       "    </tr>\n",
       "    <tr>\n",
       "      <th>4</th>\n",
       "      <td>5</td>\n",
       "      <td>-5373797595892518570</td>\n",
       "      <td>2016-05-01 00:07:18</td>\n",
       "      <td>115.88</td>\n",
       "      <td>28.66</td>\n",
       "    </tr>\n",
       "  </tbody>\n",
       "</table>\n",
       "</div>"
      ],
      "text/plain": [
       "   event_id             device_id            timestamp  longitude  latitude\n",
       "0         1     29182687948017175  2016-05-01 00:55:25     121.38     31.24\n",
       "1         2  -6401643145415154744  2016-05-01 00:54:12     103.65     30.97\n",
       "2         3  -4833982096941402721  2016-05-01 00:08:05     106.60     29.70\n",
       "3         4  -6815121365017318426  2016-05-01 00:06:40     104.27     23.28\n",
       "4         5  -5373797595892518570  2016-05-01 00:07:18     115.88     28.66"
      ]
     },
     "execution_count": 15,
     "metadata": {},
     "output_type": "execute_result"
    }
   ],
   "source": [
    "events.head()"
   ]
  },
  {
   "cell_type": "code",
   "execution_count": 16,
   "metadata": {
    "collapsed": false
   },
   "outputs": [],
   "source": [
    "events[\"category\"] = events[\"event_id\"].map(pd.Series(data=app_ev.category, index=app_ev.event_id))\n",
    "events[\"app_id\"] = events[\"event_id\"].map(pd.Series(data=app_ev.app_id, index=app_ev.event_id))"
   ]
  },
  {
   "cell_type": "code",
   "execution_count": 17,
   "metadata": {
    "collapsed": false
   },
   "outputs": [
    {
     "name": "stdout",
     "output_type": "stream",
     "text": [
      "(680651, 7)\n",
      "event_id     0\n",
      "device_id    0\n",
      "timestamp    0\n",
      "longitude    0\n",
      "latitude     0\n",
      "category     0\n",
      "app_id       0\n",
      "dtype: int64\n"
     ]
    }
   ],
   "source": [
    "events = events.dropna()\n",
    "print(events.shape)\n",
    "print(events.isnull().sum())\n",
    "del app_ev"
   ]
  },
  {
   "cell_type": "code",
   "execution_count": 18,
   "metadata": {
    "collapsed": false,
    "scrolled": true
   },
   "outputs": [
    {
     "name": "stdout",
     "output_type": "stream",
     "text": [
      "(680651, 7)\n"
     ]
    },
    {
     "data": {
      "text/html": [
       "<div>\n",
       "<table border=\"1\" class=\"dataframe\">\n",
       "  <thead>\n",
       "    <tr style=\"text-align: right;\">\n",
       "      <th></th>\n",
       "      <th>event_id</th>\n",
       "      <th>device_id</th>\n",
       "      <th>timestamp</th>\n",
       "      <th>longitude</th>\n",
       "      <th>latitude</th>\n",
       "      <th>category</th>\n",
       "      <th>app_id</th>\n",
       "    </tr>\n",
       "  </thead>\n",
       "  <tbody>\n",
       "    <tr>\n",
       "      <th>1</th>\n",
       "      <td>2</td>\n",
       "      <td>-6401643145415154744</td>\n",
       "      <td>2016-05-01 00:54:12</td>\n",
       "      <td>103.65</td>\n",
       "      <td>30.97</td>\n",
       "      <td>category:Consumer_loans category:Financial_Ser...</td>\n",
       "      <td>app_id:-5372083417770193025 app_id:-5839858269...</td>\n",
       "    </tr>\n",
       "    <tr>\n",
       "      <th>5</th>\n",
       "      <td>6</td>\n",
       "      <td>1476664663289716375</td>\n",
       "      <td>2016-05-01 00:27:21</td>\n",
       "      <td>0.00</td>\n",
       "      <td>0.00</td>\n",
       "      <td>category:Financial_Services category:fixed_inc...</td>\n",
       "      <td>app_id:-4950143259631681001 app_id:-2339074173...</td>\n",
       "    </tr>\n",
       "    <tr>\n",
       "      <th>6</th>\n",
       "      <td>7</td>\n",
       "      <td>5990807147117726237</td>\n",
       "      <td>2016-05-01 00:15:13</td>\n",
       "      <td>113.73</td>\n",
       "      <td>23.00</td>\n",
       "      <td>category:Consumer_loans category:Financial_Ser...</td>\n",
       "      <td>app_id:-3864848260969172656 app_id:-5839858269...</td>\n",
       "    </tr>\n",
       "    <tr>\n",
       "      <th>8</th>\n",
       "      <td>9</td>\n",
       "      <td>-2073340001552902943</td>\n",
       "      <td>2016-05-01 00:15:33</td>\n",
       "      <td>0.00</td>\n",
       "      <td>0.00</td>\n",
       "      <td>category:1_free category:Low_risk category:Pro...</td>\n",
       "      <td>app_id:2632326908921001951 app_id:592733311584...</td>\n",
       "    </tr>\n",
       "    <tr>\n",
       "      <th>15</th>\n",
       "      <td>16</td>\n",
       "      <td>9070651185984875886</td>\n",
       "      <td>2016-05-01 00:06:06</td>\n",
       "      <td>0.00</td>\n",
       "      <td>0.00</td>\n",
       "      <td>category:Book_hotel_complex category:service c...</td>\n",
       "      <td>app_id:-5577604742451702341 app_id:73483404052...</td>\n",
       "    </tr>\n",
       "  </tbody>\n",
       "</table>\n",
       "</div>"
      ],
      "text/plain": [
       "    event_id             device_id            timestamp  longitude  latitude  \\\n",
       "1          2  -6401643145415154744  2016-05-01 00:54:12     103.65     30.97   \n",
       "5          6   1476664663289716375  2016-05-01 00:27:21       0.00      0.00   \n",
       "6          7   5990807147117726237  2016-05-01 00:15:13     113.73     23.00   \n",
       "8          9  -2073340001552902943  2016-05-01 00:15:33       0.00      0.00   \n",
       "15        16   9070651185984875886  2016-05-01 00:06:06       0.00      0.00   \n",
       "\n",
       "                                             category  \\\n",
       "1   category:Consumer_loans category:Financial_Ser...   \n",
       "5   category:Financial_Services category:fixed_inc...   \n",
       "6   category:Consumer_loans category:Financial_Ser...   \n",
       "8   category:1_free category:Low_risk category:Pro...   \n",
       "15  category:Book_hotel_complex category:service c...   \n",
       "\n",
       "                                               app_id  \n",
       "1   app_id:-5372083417770193025 app_id:-5839858269...  \n",
       "5   app_id:-4950143259631681001 app_id:-2339074173...  \n",
       "6   app_id:-3864848260969172656 app_id:-5839858269...  \n",
       "8   app_id:2632326908921001951 app_id:592733311584...  \n",
       "15  app_id:-5577604742451702341 app_id:73483404052...  "
      ]
     },
     "execution_count": 18,
     "metadata": {},
     "output_type": "execute_result"
    }
   ],
   "source": [
    "print(events.shape)\n",
    "events.head()"
   ]
  },
  {
   "cell_type": "code",
   "execution_count": 19,
   "metadata": {
    "collapsed": false
   },
   "outputs": [],
   "source": [
    "events['timestamp'] = pd.to_datetime(events['timestamp'])\n",
    "events['hour'] = events['timestamp'].map(lambda x : x.hour)\n",
    "events['min'] = events['timestamp'].map(lambda x : x.minute)"
   ]
  },
  {
   "cell_type": "code",
   "execution_count": 20,
   "metadata": {
    "collapsed": false
   },
   "outputs": [
    {
     "data": {
      "text/plain": [
       "53161"
      ]
     },
     "execution_count": 20,
     "metadata": {},
     "output_type": "execute_result"
    }
   ],
   "source": [
    "len(events['device_id'].unique())"
   ]
  },
  {
   "cell_type": "code",
   "execution_count": 21,
   "metadata": {
    "collapsed": false
   },
   "outputs": [],
   "source": [
    "gd = events.groupby('device_id')\n",
    "longitude = gd['longitude'].agg([np.max, np.min, np.mean, np.std, np.median]).reset_index()\n",
    "longitude = longitude.rename(columns={'amax':'long_max','amin':'long_min','mean':'long_mean','median':'long_median','std':'long_std'})\n",
    "longitude['long_std'].fillna(0,inplace=True)"
   ]
  },
  {
   "cell_type": "code",
   "execution_count": 22,
   "metadata": {
    "collapsed": false
   },
   "outputs": [],
   "source": [
    "latitude = gd['longitude'].agg([np.max, np.min, np.mean, np.std, np.median]).reset_index()\n",
    "latitude = latitude.rename(columns={'amax':'lat_max','amin':'lat_min','mean':'lat_mean','median':'lat_median','std':'lat_std'})\n",
    "latitude['lat_std'].fillna(0,inplace=True)"
   ]
  },
  {
   "cell_type": "code",
   "execution_count": 23,
   "metadata": {
    "collapsed": true
   },
   "outputs": [],
   "source": [
    "hour = gd['hour'].agg([np.max, np.min, np.mean, np.std, np.median]).reset_index()\n",
    "hour = hour.rename(columns={'amax':'hour_max','amin':'hour_min','mean':'hour_mean','median':'hour_median','std':'hour_std'})\n",
    "hour['hour_std'].fillna(0,inplace=True)"
   ]
  },
  {
   "cell_type": "code",
   "execution_count": 24,
   "metadata": {
    "collapsed": false
   },
   "outputs": [],
   "source": [
    "minute = gd['min'].agg([np.max, np.min, np.mean, np.std, np.median]).reset_index()\n",
    "minute = minute.rename(columns={'amax':'min_max','amin':'min_min','mean':'min_mean','median':'min_median','std':'min_std'})\n",
    "minute['min_std'].fillna(0,inplace=True)"
   ]
  },
  {
   "cell_type": "code",
   "execution_count": 26,
   "metadata": {
    "collapsed": false
   },
   "outputs": [],
   "source": [
    "events1 = events[[\"device_id\", \"app_id\"]]\n",
    "# remove duplicates(app_id)\n",
    "events1 = events1.groupby(\"device_id\")[\"app_id\"].apply(lambda x: \" \".join(set(str(\" \".join(str(s) for s in x)).split(\" \"))))\n",
    "events1 = events1.reset_index(name=\"app_id\")"
   ]
  },
  {
   "cell_type": "code",
   "execution_count": 27,
   "metadata": {
    "collapsed": false
   },
   "outputs": [],
   "source": [
    "events2 = events[[\"device_id\", \"category\"]]\n",
    "# remove duplicates(app_id)\n",
    "events2 = events2.groupby(\"device_id\")[\"category\"].apply(lambda x: \" \".join(set(str(\" \".join(str(s) for s in x)).split(\" \"))))\n",
    "events2 = events2.reset_index(name=\"category\")"
   ]
  },
  {
   "cell_type": "code",
   "execution_count": 28,
   "metadata": {
    "collapsed": true
   },
   "outputs": [],
   "source": [
    "del events"
   ]
  },
  {
   "cell_type": "code",
   "execution_count": 29,
   "metadata": {
    "collapsed": false
   },
   "outputs": [
    {
     "name": "stdout",
     "output_type": "stream",
     "text": [
      "# Read Phone Brand\n"
     ]
    }
   ],
   "source": [
    "print(\"# Read Phone Brand\")\n",
    "pbd = pd.read_csv(\".\\\\raw_data\\phone_brand_device_model.csv\",dtype={'device_id': np.str})\n",
    "pbd.drop_duplicates('device_id', keep='first', inplace=True)"
   ]
  },
  {
   "cell_type": "code",
   "execution_count": 30,
   "metadata": {
    "collapsed": true
   },
   "outputs": [],
   "source": [
    "train = pd.read_csv(\".\\\\raw_data\\gender_age_train.csv\",dtype={'device_id': np.str})\n",
    "train.drop([\"age\", \"gender\"], axis=1, inplace=True)\n",
    "\n",
    "test = pd.read_csv(\".\\\\raw_data\\gender_age_test.csv\",dtype={'device_id': np.str})\n",
    "test[\"group\"] = np.nan"
   ]
  },
  {
   "cell_type": "code",
   "execution_count": 31,
   "metadata": {
    "collapsed": false
   },
   "outputs": [
    {
     "name": "stdout",
     "output_type": "stream",
     "text": [
      "(53161, 2)\n"
     ]
    },
    {
     "data": {
      "text/html": [
       "<div>\n",
       "<table border=\"1\" class=\"dataframe\">\n",
       "  <thead>\n",
       "    <tr style=\"text-align: right;\">\n",
       "      <th></th>\n",
       "      <th>device_id</th>\n",
       "      <th>app_id</th>\n",
       "    </tr>\n",
       "  </thead>\n",
       "  <tbody>\n",
       "    <tr>\n",
       "      <th>0</th>\n",
       "      <td>-100015673884079572</td>\n",
       "      <td>app_id:-2573239141534432308 app_id:-3864848260...</td>\n",
       "    </tr>\n",
       "    <tr>\n",
       "      <th>1</th>\n",
       "      <td>-1000667340060427374</td>\n",
       "      <td>app_id:701031210314548601 app_id:-386484826096...</td>\n",
       "    </tr>\n",
       "    <tr>\n",
       "      <th>2</th>\n",
       "      <td>-100101996136889832</td>\n",
       "      <td>app_id:4419243384223088778 app_id:734834040520...</td>\n",
       "    </tr>\n",
       "    <tr>\n",
       "      <th>3</th>\n",
       "      <td>-1001337759327042486</td>\n",
       "      <td>app_id:701031210314548601 app_id:-583985826996...</td>\n",
       "    </tr>\n",
       "    <tr>\n",
       "      <th>4</th>\n",
       "      <td>-1001384358977718793</td>\n",
       "      <td>app_id:-3864848260969172656 app_id:-4310155758...</td>\n",
       "    </tr>\n",
       "  </tbody>\n",
       "</table>\n",
       "</div>"
      ],
      "text/plain": [
       "              device_id                                             app_id\n",
       "0   -100015673884079572  app_id:-2573239141534432308 app_id:-3864848260...\n",
       "1  -1000667340060427374  app_id:701031210314548601 app_id:-386484826096...\n",
       "2   -100101996136889832  app_id:4419243384223088778 app_id:734834040520...\n",
       "3  -1001337759327042486  app_id:701031210314548601 app_id:-583985826996...\n",
       "4  -1001384358977718793  app_id:-3864848260969172656 app_id:-4310155758..."
      ]
     },
     "execution_count": 31,
     "metadata": {},
     "output_type": "execute_result"
    }
   ],
   "source": [
    "print(events1.shape)\n",
    "events1.head()"
   ]
  },
  {
   "cell_type": "code",
   "execution_count": 32,
   "metadata": {
    "collapsed": false
   },
   "outputs": [
    {
     "name": "stdout",
     "output_type": "stream",
     "text": [
      "(53161, 2)\n"
     ]
    },
    {
     "data": {
      "text/html": [
       "<div>\n",
       "<table border=\"1\" class=\"dataframe\">\n",
       "  <thead>\n",
       "    <tr style=\"text-align: right;\">\n",
       "      <th></th>\n",
       "      <th>device_id</th>\n",
       "      <th>category</th>\n",
       "    </tr>\n",
       "  </thead>\n",
       "  <tbody>\n",
       "    <tr>\n",
       "      <th>0</th>\n",
       "      <td>-100015673884079572</td>\n",
       "      <td>category:Consumer_loans category:Cool_trendy c...</td>\n",
       "    </tr>\n",
       "    <tr>\n",
       "      <th>1</th>\n",
       "      <td>-1000667340060427374</td>\n",
       "      <td>category:Consumer_loans category:Cool_trendy c...</td>\n",
       "    </tr>\n",
       "    <tr>\n",
       "      <th>2</th>\n",
       "      <td>-100101996136889832</td>\n",
       "      <td>category:fixed_income category:Sports_News cat...</td>\n",
       "    </tr>\n",
       "    <tr>\n",
       "      <th>3</th>\n",
       "      <td>-1001337759327042486</td>\n",
       "      <td>category:Consumer_loans category:Contacts cate...</td>\n",
       "    </tr>\n",
       "    <tr>\n",
       "      <th>4</th>\n",
       "      <td>-1001384358977718793</td>\n",
       "      <td>category:Financial_Services category:1_free ca...</td>\n",
       "    </tr>\n",
       "  </tbody>\n",
       "</table>\n",
       "</div>"
      ],
      "text/plain": [
       "              device_id                                           category\n",
       "0   -100015673884079572  category:Consumer_loans category:Cool_trendy c...\n",
       "1  -1000667340060427374  category:Consumer_loans category:Cool_trendy c...\n",
       "2   -100101996136889832  category:fixed_income category:Sports_News cat...\n",
       "3  -1001337759327042486  category:Consumer_loans category:Contacts cate...\n",
       "4  -1001384358977718793  category:Financial_Services category:1_free ca..."
      ]
     },
     "execution_count": 32,
     "metadata": {},
     "output_type": "execute_result"
    }
   ],
   "source": [
    "print(events2.shape)\n",
    "events2.head()"
   ]
  },
  {
   "cell_type": "code",
   "execution_count": 33,
   "metadata": {
    "collapsed": false
   },
   "outputs": [
    {
     "name": "stdout",
     "output_type": "stream",
     "text": [
      "(53161, 6)\n"
     ]
    },
    {
     "data": {
      "text/html": [
       "<div>\n",
       "<table border=\"1\" class=\"dataframe\">\n",
       "  <thead>\n",
       "    <tr style=\"text-align: right;\">\n",
       "      <th></th>\n",
       "      <th>device_id</th>\n",
       "      <th>long_max</th>\n",
       "      <th>long_min</th>\n",
       "      <th>long_mean</th>\n",
       "      <th>long_std</th>\n",
       "      <th>long_median</th>\n",
       "    </tr>\n",
       "  </thead>\n",
       "  <tbody>\n",
       "    <tr>\n",
       "      <th>0</th>\n",
       "      <td>-100015673884079572</td>\n",
       "      <td>0.00</td>\n",
       "      <td>0.0</td>\n",
       "      <td>0.000000</td>\n",
       "      <td>0.000000</td>\n",
       "      <td>0.000</td>\n",
       "    </tr>\n",
       "    <tr>\n",
       "      <th>1</th>\n",
       "      <td>-1000667340060427374</td>\n",
       "      <td>116.69</td>\n",
       "      <td>0.0</td>\n",
       "      <td>24.024412</td>\n",
       "      <td>47.892567</td>\n",
       "      <td>0.000</td>\n",
       "    </tr>\n",
       "    <tr>\n",
       "      <th>2</th>\n",
       "      <td>-100101996136889832</td>\n",
       "      <td>114.40</td>\n",
       "      <td>114.4</td>\n",
       "      <td>114.400000</td>\n",
       "      <td>0.000000</td>\n",
       "      <td>114.400</td>\n",
       "    </tr>\n",
       "    <tr>\n",
       "      <th>3</th>\n",
       "      <td>-1001337759327042486</td>\n",
       "      <td>120.20</td>\n",
       "      <td>119.5</td>\n",
       "      <td>119.791538</td>\n",
       "      <td>0.267098</td>\n",
       "      <td>119.655</td>\n",
       "    </tr>\n",
       "    <tr>\n",
       "      <th>4</th>\n",
       "      <td>-1001384358977718793</td>\n",
       "      <td>0.00</td>\n",
       "      <td>0.0</td>\n",
       "      <td>0.000000</td>\n",
       "      <td>0.000000</td>\n",
       "      <td>0.000</td>\n",
       "    </tr>\n",
       "  </tbody>\n",
       "</table>\n",
       "</div>"
      ],
      "text/plain": [
       "              device_id  long_max  long_min   long_mean   long_std  \\\n",
       "0   -100015673884079572      0.00       0.0    0.000000   0.000000   \n",
       "1  -1000667340060427374    116.69       0.0   24.024412  47.892567   \n",
       "2   -100101996136889832    114.40     114.4  114.400000   0.000000   \n",
       "3  -1001337759327042486    120.20     119.5  119.791538   0.267098   \n",
       "4  -1001384358977718793      0.00       0.0    0.000000   0.000000   \n",
       "\n",
       "   long_median  \n",
       "0        0.000  \n",
       "1        0.000  \n",
       "2      114.400  \n",
       "3      119.655  \n",
       "4        0.000  "
      ]
     },
     "execution_count": 33,
     "metadata": {},
     "output_type": "execute_result"
    }
   ],
   "source": [
    "print(longitude.shape)\n",
    "longitude.head()"
   ]
  },
  {
   "cell_type": "code",
   "execution_count": 34,
   "metadata": {
    "collapsed": false
   },
   "outputs": [
    {
     "name": "stdout",
     "output_type": "stream",
     "text": [
      "(53161, 6)\n"
     ]
    },
    {
     "data": {
      "text/html": [
       "<div>\n",
       "<table border=\"1\" class=\"dataframe\">\n",
       "  <thead>\n",
       "    <tr style=\"text-align: right;\">\n",
       "      <th></th>\n",
       "      <th>device_id</th>\n",
       "      <th>lat_max</th>\n",
       "      <th>lat_min</th>\n",
       "      <th>lat_mean</th>\n",
       "      <th>lat_std</th>\n",
       "      <th>lat_median</th>\n",
       "    </tr>\n",
       "  </thead>\n",
       "  <tbody>\n",
       "    <tr>\n",
       "      <th>0</th>\n",
       "      <td>-100015673884079572</td>\n",
       "      <td>0.00</td>\n",
       "      <td>0.0</td>\n",
       "      <td>0.000000</td>\n",
       "      <td>0.000000</td>\n",
       "      <td>0.000</td>\n",
       "    </tr>\n",
       "    <tr>\n",
       "      <th>1</th>\n",
       "      <td>-1000667340060427374</td>\n",
       "      <td>116.69</td>\n",
       "      <td>0.0</td>\n",
       "      <td>24.024412</td>\n",
       "      <td>47.892567</td>\n",
       "      <td>0.000</td>\n",
       "    </tr>\n",
       "    <tr>\n",
       "      <th>2</th>\n",
       "      <td>-100101996136889832</td>\n",
       "      <td>114.40</td>\n",
       "      <td>114.4</td>\n",
       "      <td>114.400000</td>\n",
       "      <td>0.000000</td>\n",
       "      <td>114.400</td>\n",
       "    </tr>\n",
       "    <tr>\n",
       "      <th>3</th>\n",
       "      <td>-1001337759327042486</td>\n",
       "      <td>120.20</td>\n",
       "      <td>119.5</td>\n",
       "      <td>119.791538</td>\n",
       "      <td>0.267098</td>\n",
       "      <td>119.655</td>\n",
       "    </tr>\n",
       "    <tr>\n",
       "      <th>4</th>\n",
       "      <td>-1001384358977718793</td>\n",
       "      <td>0.00</td>\n",
       "      <td>0.0</td>\n",
       "      <td>0.000000</td>\n",
       "      <td>0.000000</td>\n",
       "      <td>0.000</td>\n",
       "    </tr>\n",
       "  </tbody>\n",
       "</table>\n",
       "</div>"
      ],
      "text/plain": [
       "              device_id  lat_max  lat_min    lat_mean    lat_std  lat_median\n",
       "0   -100015673884079572     0.00      0.0    0.000000   0.000000       0.000\n",
       "1  -1000667340060427374   116.69      0.0   24.024412  47.892567       0.000\n",
       "2   -100101996136889832   114.40    114.4  114.400000   0.000000     114.400\n",
       "3  -1001337759327042486   120.20    119.5  119.791538   0.267098     119.655\n",
       "4  -1001384358977718793     0.00      0.0    0.000000   0.000000       0.000"
      ]
     },
     "execution_count": 34,
     "metadata": {},
     "output_type": "execute_result"
    }
   ],
   "source": [
    "print(latitude.shape)\n",
    "latitude.head()"
   ]
  },
  {
   "cell_type": "code",
   "execution_count": 35,
   "metadata": {
    "collapsed": false
   },
   "outputs": [
    {
     "name": "stdout",
     "output_type": "stream",
     "text": [
      "(53161, 6)\n"
     ]
    },
    {
     "data": {
      "text/html": [
       "<div>\n",
       "<table border=\"1\" class=\"dataframe\">\n",
       "  <thead>\n",
       "    <tr style=\"text-align: right;\">\n",
       "      <th></th>\n",
       "      <th>device_id</th>\n",
       "      <th>hour_max</th>\n",
       "      <th>hour_min</th>\n",
       "      <th>hour_mean</th>\n",
       "      <th>hour_std</th>\n",
       "      <th>hour_median</th>\n",
       "    </tr>\n",
       "  </thead>\n",
       "  <tbody>\n",
       "    <tr>\n",
       "      <th>0</th>\n",
       "      <td>-100015673884079572</td>\n",
       "      <td>23</td>\n",
       "      <td>0</td>\n",
       "      <td>9.750000</td>\n",
       "      <td>7.440112</td>\n",
       "      <td>8.0</td>\n",
       "    </tr>\n",
       "    <tr>\n",
       "      <th>1</th>\n",
       "      <td>-1000667340060427374</td>\n",
       "      <td>23</td>\n",
       "      <td>0</td>\n",
       "      <td>14.058824</td>\n",
       "      <td>5.954073</td>\n",
       "      <td>13.0</td>\n",
       "    </tr>\n",
       "    <tr>\n",
       "      <th>2</th>\n",
       "      <td>-100101996136889832</td>\n",
       "      <td>22</td>\n",
       "      <td>22</td>\n",
       "      <td>22.000000</td>\n",
       "      <td>0.000000</td>\n",
       "      <td>22.0</td>\n",
       "    </tr>\n",
       "    <tr>\n",
       "      <th>3</th>\n",
       "      <td>-1001337759327042486</td>\n",
       "      <td>16</td>\n",
       "      <td>8</td>\n",
       "      <td>10.346154</td>\n",
       "      <td>2.208027</td>\n",
       "      <td>10.0</td>\n",
       "    </tr>\n",
       "    <tr>\n",
       "      <th>4</th>\n",
       "      <td>-1001384358977718793</td>\n",
       "      <td>10</td>\n",
       "      <td>0</td>\n",
       "      <td>4.333333</td>\n",
       "      <td>5.131601</td>\n",
       "      <td>3.0</td>\n",
       "    </tr>\n",
       "  </tbody>\n",
       "</table>\n",
       "</div>"
      ],
      "text/plain": [
       "              device_id  hour_max  hour_min  hour_mean  hour_std  hour_median\n",
       "0   -100015673884079572        23         0   9.750000  7.440112          8.0\n",
       "1  -1000667340060427374        23         0  14.058824  5.954073         13.0\n",
       "2   -100101996136889832        22        22  22.000000  0.000000         22.0\n",
       "3  -1001337759327042486        16         8  10.346154  2.208027         10.0\n",
       "4  -1001384358977718793        10         0   4.333333  5.131601          3.0"
      ]
     },
     "execution_count": 35,
     "metadata": {},
     "output_type": "execute_result"
    }
   ],
   "source": [
    "print(hour.shape)\n",
    "hour.head()"
   ]
  },
  {
   "cell_type": "code",
   "execution_count": 36,
   "metadata": {
    "collapsed": false
   },
   "outputs": [
    {
     "name": "stdout",
     "output_type": "stream",
     "text": [
      "(53161, 6)\n"
     ]
    },
    {
     "data": {
      "text/html": [
       "<div>\n",
       "<table border=\"1\" class=\"dataframe\">\n",
       "  <thead>\n",
       "    <tr style=\"text-align: right;\">\n",
       "      <th></th>\n",
       "      <th>device_id</th>\n",
       "      <th>min_max</th>\n",
       "      <th>min_min</th>\n",
       "      <th>min_mean</th>\n",
       "      <th>min_std</th>\n",
       "      <th>min_median</th>\n",
       "    </tr>\n",
       "  </thead>\n",
       "  <tbody>\n",
       "    <tr>\n",
       "      <th>0</th>\n",
       "      <td>-100015673884079572</td>\n",
       "      <td>51</td>\n",
       "      <td>1</td>\n",
       "      <td>25.800000</td>\n",
       "      <td>16.227332</td>\n",
       "      <td>28.0</td>\n",
       "    </tr>\n",
       "    <tr>\n",
       "      <th>1</th>\n",
       "      <td>-1000667340060427374</td>\n",
       "      <td>57</td>\n",
       "      <td>0</td>\n",
       "      <td>19.441176</td>\n",
       "      <td>20.365138</td>\n",
       "      <td>5.5</td>\n",
       "    </tr>\n",
       "    <tr>\n",
       "      <th>2</th>\n",
       "      <td>-100101996136889832</td>\n",
       "      <td>50</td>\n",
       "      <td>50</td>\n",
       "      <td>50.000000</td>\n",
       "      <td>0.000000</td>\n",
       "      <td>50.0</td>\n",
       "    </tr>\n",
       "    <tr>\n",
       "      <th>3</th>\n",
       "      <td>-1001337759327042486</td>\n",
       "      <td>59</td>\n",
       "      <td>0</td>\n",
       "      <td>22.115385</td>\n",
       "      <td>13.066987</td>\n",
       "      <td>19.5</td>\n",
       "    </tr>\n",
       "    <tr>\n",
       "      <th>4</th>\n",
       "      <td>-1001384358977718793</td>\n",
       "      <td>42</td>\n",
       "      <td>11</td>\n",
       "      <td>27.666667</td>\n",
       "      <td>15.631165</td>\n",
       "      <td>30.0</td>\n",
       "    </tr>\n",
       "  </tbody>\n",
       "</table>\n",
       "</div>"
      ],
      "text/plain": [
       "              device_id  min_max  min_min   min_mean    min_std  min_median\n",
       "0   -100015673884079572       51        1  25.800000  16.227332        28.0\n",
       "1  -1000667340060427374       57        0  19.441176  20.365138         5.5\n",
       "2   -100101996136889832       50       50  50.000000   0.000000        50.0\n",
       "3  -1001337759327042486       59        0  22.115385  13.066987        19.5\n",
       "4  -1001384358977718793       42       11  27.666667  15.631165        30.0"
      ]
     },
     "execution_count": 36,
     "metadata": {},
     "output_type": "execute_result"
    }
   ],
   "source": [
    "print(minute.shape)\n",
    "minute.head()"
   ]
  },
  {
   "cell_type": "code",
   "execution_count": 37,
   "metadata": {
    "collapsed": false
   },
   "outputs": [
    {
     "name": "stdout",
     "output_type": "stream",
     "text": [
      "(74645, 2)\n",
      "(112071, 2)\n"
     ]
    }
   ],
   "source": [
    "print(train.shape)\n",
    "print(test.shape)\n",
    "split_len = len(train)\n",
    "Df = pd.concat((train, test), axis=0, ignore_index=True)"
   ]
  },
  {
   "cell_type": "code",
   "execution_count": 38,
   "metadata": {
    "collapsed": false,
    "scrolled": true
   },
   "outputs": [],
   "source": [
    "e = pd.merge(events1, events2, how='inner',on='device_id')\n",
    "m = pd.merge(e, hour, how='inner',on='device_id')\n",
    "m1 = pd.merge(m, minute, how='inner',on='device_id')\n",
    "m2 = pd.merge(m1, latitude, how='inner',on='device_id')\n",
    "device_info = pd.merge(m2, longitude, how='inner',on='device_id')\n",
    "\n",
    "del e\n",
    "del m\n",
    "del m1\n",
    "del m2"
   ]
  },
  {
   "cell_type": "code",
   "execution_count": 39,
   "metadata": {
    "collapsed": false
   },
   "outputs": [
    {
     "name": "stdout",
     "output_type": "stream",
     "text": [
      "(53161, 23)\n"
     ]
    },
    {
     "data": {
      "text/plain": [
       "Index(['device_id', 'app_id', 'category', 'hour_max', 'hour_min', 'hour_mean',\n",
       "       'hour_std', 'hour_median', 'min_max', 'min_min', 'min_mean', 'min_std',\n",
       "       'min_median', 'lat_max', 'lat_min', 'lat_mean', 'lat_std', 'lat_median',\n",
       "       'long_max', 'long_min', 'long_mean', 'long_std', 'long_median'],\n",
       "      dtype='object')"
      ]
     },
     "execution_count": 39,
     "metadata": {},
     "output_type": "execute_result"
    }
   ],
   "source": [
    "print(device_info.shape)\n",
    "device_info.columns"
   ]
  },
  {
   "cell_type": "code",
   "execution_count": 40,
   "metadata": {
    "collapsed": true
   },
   "outputs": [],
   "source": [
    "device_info[\"hour_max\"] = device_info[\"hour_max\"].apply(lambda x: \"hour_max:\" + str(x))\n",
    "device_info[\"hour_min\"] = device_info[\"hour_min\"].apply(lambda x: \"hour_min:\" + str(x))\n",
    "device_info[\"hour_mean\"] = device_info[\"hour_mean\"].apply(lambda x: \"hour_mean:\" + str(x))\n",
    "device_info[\"hour_std\"] = device_info[\"hour_std\"].apply(lambda x: \"hour_std:\" + str(x))\n",
    "device_info[\"hour_median\"] = device_info[\"hour_median\"].apply(lambda x: \"hour_median:\" + str(x))\n",
    "device_info[\"min_max\"] = device_info[\"min_max\"].apply(lambda x: \"min_max:\" + str(x))\n",
    "device_info[\"min_min\"] = device_info[\"min_min\"].apply(lambda x: \"min_min:\" + str(x))\n",
    "device_info[\"min_std\"] = device_info[\"min_std\"].apply(lambda x: \"min_std:\" + str(x))\n",
    "device_info[\"min_median\"] = device_info[\"min_median\"].apply(lambda x: \"min_median:\" + str(x))\n",
    "device_info[\"min_mean\"] = device_info[\"min_mean\"].apply(lambda x: \"min_mean:\" + str(x))\n",
    "device_info[\"lat_max\"] = device_info[\"lat_max\"].apply(lambda x: \"min_lat_maxmax:\" + str(x))\n",
    "device_info[\"lat_min\"] = device_info[\"lat_min\"].apply(lambda x: \"lat_min:\" + str(x))\n",
    "device_info[\"lat_std\"] = device_info[\"lat_std\"].apply(lambda x: \"lat_std:\" + str(x))\n",
    "device_info[\"lat_median\"] = device_info[\"lat_median\"].apply(lambda x: \"lat_median:\" + str(x))\n",
    "device_info[\"lat_mean\"] = device_info[\"lat_mean\"].apply(lambda x: \"lat_mean:\" + str(x))\n",
    "device_info[\"long_max\"] = device_info[\"long_max\"].apply(lambda x: \"long_max:\" + str(x))\n",
    "device_info[\"long_min\"] = device_info[\"long_min\"].apply(lambda x: \"long_min:\" + str(x))\n",
    "device_info[\"long_mean\"] = device_info[\"long_mean\"].apply(lambda x: \"long_mean:\" + str(x))\n",
    "device_info[\"long_std\"] = device_info[\"long_std\"].apply(lambda x: \"long_std:\" + str(x))\n",
    "device_info[\"long_median\"] = device_info[\"long_median\"].apply(lambda x: \"long_median:\" + str(x))"
   ]
  },
  {
   "cell_type": "code",
   "execution_count": 41,
   "metadata": {
    "collapsed": false
   },
   "outputs": [],
   "source": [
    "# Group Labels\n",
    "Y_train = train[\"group\"]\n",
    "lable_group = LabelEncoder()\n",
    "Y_train = lable_group.fit_transform(Y_train)\n",
    "device_id = test[\"device_id\"]\n",
    "\n",
    "Df = pd.merge(Df, pbd, how=\"left\", on=\"device_id\")\n",
    "Df[\"phone_brand\"] = Df[\"phone_brand\"].apply(lambda x: \"phone_brand:\" + str(x))\n",
    "Df[\"device_model\"] = Df[\"device_model\"].apply(lambda x: \"device_model:\" + str(x))"
   ]
  },
  {
   "cell_type": "code",
   "execution_count": 42,
   "metadata": {
    "collapsed": false
   },
   "outputs": [],
   "source": [
    "###################\n",
    "#  Concat Feature\n",
    "###################\n",
    "\n",
    "apps = pd.concat([pd.Series(row['device_id'], row['app_id'].split(' '))for _, row in device_info.iterrows()]).reset_index()\n",
    "apps.columns = ['app_id', 'device_id']\n",
    "\n",
    "cats = pd.concat([pd.Series(row['device_id'], row['category'].split(' '))for _, row in device_info.iterrows()]).reset_index()\n",
    "cats.columns = ['category', 'device_id']\n",
    "\n",
    "\n",
    "f1 = Df[[\"device_id\", \"phone_brand\"]]   # phone_brand\n",
    "f2 = Df[[\"device_id\", \"device_model\"]]  # device_model\n",
    "f3 = apps[[\"device_id\", \"app_id\"]]    # app_id\n",
    "f4 = device_info[[\"device_id\",\"hour_max\"]]\n",
    "f5 = device_info[[\"device_id\",\"hour_min\"]]\n",
    "f6 = device_info[[\"device_id\",\"hour_mean\"]]\n",
    "f7 = device_info[[\"device_id\",\"hour_std\"]]\n",
    "f8 = device_info[[\"device_id\",\"hour_median\"]]\n",
    "f9 = device_info[[\"device_id\",\"min_max\"]]\n",
    "f10 = device_info[[\"device_id\",\"min_min\"]]\n",
    "f11 = device_info[[\"device_id\",\"min_mean\"]]\n",
    "f12 = device_info[[\"device_id\",\"min_median\"]]\n",
    "f13 = device_info[[\"device_id\",\"lat_max\"]]\n",
    "f14 = device_info[[\"device_id\",\"lat_min\"]]\n",
    "f15 = device_info[[\"device_id\",\"lat_mean\"]]\n",
    "f16 = device_info[[\"device_id\",\"lat_std\"]]\n",
    "f17 = device_info[[\"device_id\",\"lat_median\"]]\n",
    "f18 = device_info[[\"device_id\",\"long_max\"]]\n",
    "f19 = device_info[[\"device_id\",\"long_min\"]]\n",
    "f20 = device_info[[\"device_id\",\"long_mean\"]]\n",
    "f21 = device_info[[\"device_id\",\"long_std\"]]\n",
    "f22 = device_info[[\"device_id\",\"long_median\"]]\n",
    "f23 = cats[[\"device_id\", \"category\"]]    # app_id\n",
    "\n",
    "del apps\n",
    "del Df\n",
    "del device_info\n",
    "\n",
    "f1.columns.values[1] = \"feature\"\n",
    "f2.columns.values[1] = \"feature\"\n",
    "f3.columns.values[1] = \"feature\"\n",
    "f4.columns.values[1] = \"feature\"\n",
    "f5.columns.values[1] = \"feature\"\n",
    "f6.columns.values[1] = \"feature\"\n",
    "f7.columns.values[1] = \"feature\"\n",
    "f8.columns.values[1] = \"feature\"\n",
    "f9.columns.values[1] = \"feature\"\n",
    "f10.columns.values[1] = \"feature\"\n",
    "f11.columns.values[1] = \"feature\"\n",
    "f12.columns.values[1] = \"feature\"\n",
    "f13.columns.values[1] = \"feature\"\n",
    "f14.columns.values[1] = \"feature\"\n",
    "f15.columns.values[1] = \"feature\"\n",
    "f16.columns.values[1] = \"feature\"\n",
    "f17.columns.values[1] = \"feature\"\n",
    "f18.columns.values[1] = \"feature\"\n",
    "f19.columns.values[1] = \"feature\"\n",
    "f20.columns.values[1] = \"feature\"\n",
    "f21.columns.values[1] = \"feature\"\n",
    "f22.columns.values[1] = \"feature\"\n",
    "f23.columns.values[1] = \"feature\"\n",
    "\n",
    "FLS = pd.concat((f1, f2, f3, f4, f5, f6, f7, f8, f9, f10, f11, f12, f13, f14, f15, f16, f17, f18, f19,\n",
    "                 f20, f21, f22,f23), axis=0, ignore_index=True)"
   ]
  },
  {
   "cell_type": "code",
   "execution_count": 43,
   "metadata": {
    "collapsed": false
   },
   "outputs": [],
   "source": [
    "#FLS[FLS.device_id == '-8260683887967679142']"
   ]
  },
  {
   "cell_type": "code",
   "execution_count": 44,
   "metadata": {
    "collapsed": false
   },
   "outputs": [
    {
     "name": "stdout",
     "output_type": "stream",
     "text": [
      "# User-Item-Feature\n",
      "16195606\n",
      "16195606\n",
      "188653\n",
      "146988\n",
      "(16195606,)\n"
     ]
    }
   ],
   "source": [
    "###################\n",
    "# User-Item Feature\n",
    "###################\n",
    "print(\"# User-Item-Feature\")\n",
    "\n",
    "device_ids = FLS[\"device_id\"].unique()\n",
    "feature_cs = FLS[\"feature\"].unique()\n",
    "\n",
    "data = np.ones(len(FLS))\n",
    "dec = LabelEncoder().fit(FLS[\"device_id\"])\n",
    "row = dec.transform(FLS[\"device_id\"])\n",
    "col = LabelEncoder().fit_transform(FLS[\"feature\"])\n",
    "print(len(row))\n",
    "print(len(col))\n",
    "print(len(device_ids))\n",
    "print(len(feature_cs))\n",
    "print(data.shape)\n",
    "sparse_matrix = sparse.csr_matrix((data, (row, col)), shape=(len(device_ids), len(feature_cs)))\n",
    "\n",
    "sparse_matrix = sparse_matrix[:, sparse_matrix.getnnz(0) > 0]"
   ]
  },
  {
   "cell_type": "code",
   "execution_count": 45,
   "metadata": {
    "collapsed": false
   },
   "outputs": [
    {
     "data": {
      "text/plain": [
       "<188653x146988 sparse matrix of type '<class 'numpy.float64'>'\n",
       "\twith 16195606 stored elements in Compressed Sparse Row format>"
      ]
     },
     "execution_count": 45,
     "metadata": {},
     "output_type": "execute_result"
    }
   ],
   "source": [
    "sparse_matrix"
   ]
  },
  {
   "cell_type": "code",
   "execution_count": 49,
   "metadata": {
    "collapsed": false
   },
   "outputs": [],
   "source": [
    "train_row = dec.transform(train[\"device_id\"])\n",
    "X_train = sparse_matrix[train_row, :]\n",
    "\n",
    "test_row = dec.transform(test[\"device_id\"])\n",
    "X_test = sparse_matrix[test_row, :]"
   ]
  },
  {
   "cell_type": "code",
   "execution_count": 50,
   "metadata": {
    "collapsed": false
   },
   "outputs": [
    {
     "name": "stdout",
     "output_type": "stream",
     "text": [
      "# Feature Selection\n"
     ]
    },
    {
     "name": "stderr",
     "output_type": "stream",
     "text": [
      "C:\\Anaconda3\\lib\\site-packages\\sklearn\\feature_selection\\univariate_selection.py:113: UserWarning: Features [0 0 0 ..., 0 0 0] are constant.\n",
      "  UserWarning)\n"
     ]
    },
    {
     "name": "stdout",
     "output_type": "stream",
     "text": [
      "# Num of Features:  14698\n"
     ]
    }
   ],
   "source": [
    "##################\n",
    "#   Feature Sel\n",
    "##################\n",
    "print(\"# Feature Selection\")\n",
    "selector = SelectPercentile(f_classif, percentile=10)\n",
    "\n",
    "selector.fit(X_train, Y_train)\n",
    "\n",
    "X_train = selector.transform(X_train)\n",
    "X_test = selector.transform(X_test)\n",
    "\n",
    "print(\"# Num of Features: \", X_train.shape[1])"
   ]
  },
  {
   "cell_type": "code",
   "execution_count": null,
   "metadata": {
    "collapsed": false
   },
   "outputs": [],
   "source": []
  },
  {
   "cell_type": "code",
   "execution_count": null,
   "metadata": {
    "collapsed": false
   },
   "outputs": [],
   "source": []
  },
  {
   "cell_type": "code",
   "execution_count": 48,
   "metadata": {
    "collapsed": false
   },
   "outputs": [
    {
     "name": "stderr",
     "output_type": "stream",
     "text": [
      "C:\\Anaconda3\\lib\\site-packages\\sklearn\\feature_selection\\univariate_selection.py:113: UserWarning: Features [0 0 0 ..., 0 0 0] are constant.\n",
      "  UserWarning)\n"
     ]
    },
    {
     "name": "stdout",
     "output_type": "stream",
     "text": [
      "Fitting 5 folds for each of 1 candidates, totalling 5 fits\n"
     ]
    },
    {
     "name": "stderr",
     "output_type": "stream",
     "text": [
      "[Parallel(n_jobs=-1)]: Done   5 out of   5 | elapsed:  2.4min finished\n"
     ]
    },
    {
     "name": "stdout",
     "output_type": "stream",
     "text": [
      "Feature sel % 3\n",
      "# Num of Features:  4409\n",
      "Best parameters found by grid search: {'C': 0.1}\n",
      "Best CV score: -2.49878866947\n",
      "Best CV score: [mean: -2.49879, std: 0.02829, params: {'C': 0.1}]\n"
     ]
    },
    {
     "name": "stderr",
     "output_type": "stream",
     "text": [
      "C:\\Anaconda3\\lib\\site-packages\\sklearn\\feature_selection\\univariate_selection.py:113: UserWarning: Features [0 0 0 ..., 0 0 0] are constant.\n",
      "  UserWarning)\n"
     ]
    },
    {
     "name": "stdout",
     "output_type": "stream",
     "text": [
      "Fitting 5 folds for each of 1 candidates, totalling 5 fits\n"
     ]
    },
    {
     "ename": "KeyboardInterrupt",
     "evalue": "",
     "output_type": "error",
     "traceback": [
      "\u001b[1;31m---------------------------------------------------------------------------\u001b[0m",
      "\u001b[1;31mKeyboardInterrupt\u001b[0m                         Traceback (most recent call last)",
      "\u001b[1;32m<ipython-input-48-c3b28997c9bd>\u001b[0m in \u001b[0;36m<module>\u001b[1;34m()\u001b[0m\n\u001b[0;32m     16\u001b[0m     \u001b[0mparam_grid\u001b[0m \u001b[1;33m=\u001b[0m \u001b[1;33m{\u001b[0m\u001b[1;34m'C'\u001b[0m\u001b[1;33m:\u001b[0m \u001b[1;33m[\u001b[0m\u001b[1;36m0.1\u001b[0m\u001b[1;33m]\u001b[0m\u001b[1;33m}\u001b[0m\u001b[1;33m\u001b[0m\u001b[0m\n\u001b[0;32m     17\u001b[0m     \u001b[0mlg_gs\u001b[0m \u001b[1;33m=\u001b[0m \u001b[0mgrid_search\u001b[0m\u001b[1;33m.\u001b[0m\u001b[0mGridSearchCV\u001b[0m\u001b[1;33m(\u001b[0m\u001b[0mestimator\u001b[0m \u001b[1;33m=\u001b[0m \u001b[0mlg\u001b[0m\u001b[1;33m,\u001b[0m \u001b[0mparam_grid\u001b[0m \u001b[1;33m=\u001b[0m \u001b[0mparam_grid\u001b[0m\u001b[1;33m,\u001b[0m \u001b[0mcv\u001b[0m \u001b[1;33m=\u001b[0m \u001b[1;36m5\u001b[0m\u001b[1;33m,\u001b[0m \u001b[0mn_jobs\u001b[0m\u001b[1;33m=\u001b[0m\u001b[1;33m-\u001b[0m\u001b[1;36m1\u001b[0m\u001b[1;33m,\u001b[0m \u001b[0mscoring\u001b[0m\u001b[1;33m=\u001b[0m\u001b[1;34m'log_loss'\u001b[0m\u001b[1;33m,\u001b[0m \u001b[0merror_score\u001b[0m\u001b[1;33m=\u001b[0m\u001b[1;36m0\u001b[0m\u001b[1;33m,\u001b[0m \u001b[0mverbose\u001b[0m\u001b[1;33m=\u001b[0m\u001b[1;36m2\u001b[0m\u001b[1;33m)\u001b[0m\u001b[1;33m\u001b[0m\u001b[0m\n\u001b[1;32m---> 18\u001b[1;33m     \u001b[0mlg_gs\u001b[0m\u001b[1;33m.\u001b[0m\u001b[0mfit\u001b[0m\u001b[1;33m(\u001b[0m\u001b[0mX_train\u001b[0m\u001b[1;33m,\u001b[0m \u001b[0mY_train\u001b[0m\u001b[1;33m)\u001b[0m\u001b[1;33m\u001b[0m\u001b[0m\n\u001b[0m\u001b[0;32m     19\u001b[0m     \u001b[0mprint\u001b[0m\u001b[1;33m(\u001b[0m\u001b[1;34m\"Feature sel %\"\u001b[0m\u001b[1;33m,\u001b[0m\u001b[0mi\u001b[0m\u001b[1;33m)\u001b[0m\u001b[1;33m\u001b[0m\u001b[0m\n\u001b[0;32m     20\u001b[0m     \u001b[0mprint\u001b[0m\u001b[1;33m(\u001b[0m\u001b[1;34m\"# Num of Features: \"\u001b[0m\u001b[1;33m,\u001b[0m \u001b[0mX_train\u001b[0m\u001b[1;33m.\u001b[0m\u001b[0mshape\u001b[0m\u001b[1;33m[\u001b[0m\u001b[1;36m1\u001b[0m\u001b[1;33m]\u001b[0m\u001b[1;33m)\u001b[0m\u001b[1;33m\u001b[0m\u001b[0m\n",
      "\u001b[1;32mC:\\Anaconda3\\lib\\site-packages\\sklearn\\grid_search.py\u001b[0m in \u001b[0;36mfit\u001b[1;34m(self, X, y)\u001b[0m\n\u001b[0;32m    802\u001b[0m \u001b[1;33m\u001b[0m\u001b[0m\n\u001b[0;32m    803\u001b[0m         \"\"\"\n\u001b[1;32m--> 804\u001b[1;33m         \u001b[1;32mreturn\u001b[0m \u001b[0mself\u001b[0m\u001b[1;33m.\u001b[0m\u001b[0m_fit\u001b[0m\u001b[1;33m(\u001b[0m\u001b[0mX\u001b[0m\u001b[1;33m,\u001b[0m \u001b[0my\u001b[0m\u001b[1;33m,\u001b[0m \u001b[0mParameterGrid\u001b[0m\u001b[1;33m(\u001b[0m\u001b[0mself\u001b[0m\u001b[1;33m.\u001b[0m\u001b[0mparam_grid\u001b[0m\u001b[1;33m)\u001b[0m\u001b[1;33m)\u001b[0m\u001b[1;33m\u001b[0m\u001b[0m\n\u001b[0m\u001b[0;32m    805\u001b[0m \u001b[1;33m\u001b[0m\u001b[0m\n\u001b[0;32m    806\u001b[0m \u001b[1;33m\u001b[0m\u001b[0m\n",
      "\u001b[1;32mC:\\Anaconda3\\lib\\site-packages\\sklearn\\grid_search.py\u001b[0m in \u001b[0;36m_fit\u001b[1;34m(self, X, y, parameter_iterable)\u001b[0m\n\u001b[0;32m    551\u001b[0m                                     \u001b[0mself\u001b[0m\u001b[1;33m.\u001b[0m\u001b[0mfit_params\u001b[0m\u001b[1;33m,\u001b[0m \u001b[0mreturn_parameters\u001b[0m\u001b[1;33m=\u001b[0m\u001b[1;32mTrue\u001b[0m\u001b[1;33m,\u001b[0m\u001b[1;33m\u001b[0m\u001b[0m\n\u001b[0;32m    552\u001b[0m                                     error_score=self.error_score)\n\u001b[1;32m--> 553\u001b[1;33m                 \u001b[1;32mfor\u001b[0m \u001b[0mparameters\u001b[0m \u001b[1;32min\u001b[0m \u001b[0mparameter_iterable\u001b[0m\u001b[1;33m\u001b[0m\u001b[0m\n\u001b[0m\u001b[0;32m    554\u001b[0m                 for train, test in cv)\n\u001b[0;32m    555\u001b[0m \u001b[1;33m\u001b[0m\u001b[0m\n",
      "\u001b[1;32mC:\\Anaconda3\\lib\\site-packages\\sklearn\\externals\\joblib\\parallel.py\u001b[0m in \u001b[0;36m__call__\u001b[1;34m(self, iterable)\u001b[0m\n\u001b[0;32m    808\u001b[0m                 \u001b[1;31m# consumption.\u001b[0m\u001b[1;33m\u001b[0m\u001b[1;33m\u001b[0m\u001b[0m\n\u001b[0;32m    809\u001b[0m                 \u001b[0mself\u001b[0m\u001b[1;33m.\u001b[0m\u001b[0m_iterating\u001b[0m \u001b[1;33m=\u001b[0m \u001b[1;32mFalse\u001b[0m\u001b[1;33m\u001b[0m\u001b[0m\n\u001b[1;32m--> 810\u001b[1;33m             \u001b[0mself\u001b[0m\u001b[1;33m.\u001b[0m\u001b[0mretrieve\u001b[0m\u001b[1;33m(\u001b[0m\u001b[1;33m)\u001b[0m\u001b[1;33m\u001b[0m\u001b[0m\n\u001b[0m\u001b[0;32m    811\u001b[0m             \u001b[1;31m# Make sure that we get a last message telling us we are done\u001b[0m\u001b[1;33m\u001b[0m\u001b[1;33m\u001b[0m\u001b[0m\n\u001b[0;32m    812\u001b[0m             \u001b[0melapsed_time\u001b[0m \u001b[1;33m=\u001b[0m \u001b[0mtime\u001b[0m\u001b[1;33m.\u001b[0m\u001b[0mtime\u001b[0m\u001b[1;33m(\u001b[0m\u001b[1;33m)\u001b[0m \u001b[1;33m-\u001b[0m \u001b[0mself\u001b[0m\u001b[1;33m.\u001b[0m\u001b[0m_start_time\u001b[0m\u001b[1;33m\u001b[0m\u001b[0m\n",
      "\u001b[1;32mC:\\Anaconda3\\lib\\site-packages\\sklearn\\externals\\joblib\\parallel.py\u001b[0m in \u001b[0;36mretrieve\u001b[1;34m(self)\u001b[0m\n\u001b[0;32m    755\u001b[0m                     \u001b[1;31m# a working pool as they expect.\u001b[0m\u001b[1;33m\u001b[0m\u001b[1;33m\u001b[0m\u001b[0m\n\u001b[0;32m    756\u001b[0m                     \u001b[0mself\u001b[0m\u001b[1;33m.\u001b[0m\u001b[0m_initialize_pool\u001b[0m\u001b[1;33m(\u001b[0m\u001b[1;33m)\u001b[0m\u001b[1;33m\u001b[0m\u001b[0m\n\u001b[1;32m--> 757\u001b[1;33m                 \u001b[1;32mraise\u001b[0m \u001b[0mexception\u001b[0m\u001b[1;33m\u001b[0m\u001b[0m\n\u001b[0m\u001b[0;32m    758\u001b[0m \u001b[1;33m\u001b[0m\u001b[0m\n\u001b[0;32m    759\u001b[0m     \u001b[1;32mdef\u001b[0m \u001b[0m__call__\u001b[0m\u001b[1;33m(\u001b[0m\u001b[0mself\u001b[0m\u001b[1;33m,\u001b[0m \u001b[0miterable\u001b[0m\u001b[1;33m)\u001b[0m\u001b[1;33m:\u001b[0m\u001b[1;33m\u001b[0m\u001b[0m\n",
      "\u001b[1;32mC:\\Anaconda3\\lib\\site-packages\\sklearn\\externals\\joblib\\parallel.py\u001b[0m in \u001b[0;36mretrieve\u001b[1;34m(self)\u001b[0m\n\u001b[0;32m    725\u001b[0m                 \u001b[0mjob\u001b[0m \u001b[1;33m=\u001b[0m \u001b[0mself\u001b[0m\u001b[1;33m.\u001b[0m\u001b[0m_jobs\u001b[0m\u001b[1;33m.\u001b[0m\u001b[0mpop\u001b[0m\u001b[1;33m(\u001b[0m\u001b[1;36m0\u001b[0m\u001b[1;33m)\u001b[0m\u001b[1;33m\u001b[0m\u001b[0m\n\u001b[0;32m    726\u001b[0m             \u001b[1;32mtry\u001b[0m\u001b[1;33m:\u001b[0m\u001b[1;33m\u001b[0m\u001b[0m\n\u001b[1;32m--> 727\u001b[1;33m                 \u001b[0mself\u001b[0m\u001b[1;33m.\u001b[0m\u001b[0m_output\u001b[0m\u001b[1;33m.\u001b[0m\u001b[0mextend\u001b[0m\u001b[1;33m(\u001b[0m\u001b[0mjob\u001b[0m\u001b[1;33m.\u001b[0m\u001b[0mget\u001b[0m\u001b[1;33m(\u001b[0m\u001b[1;33m)\u001b[0m\u001b[1;33m)\u001b[0m\u001b[1;33m\u001b[0m\u001b[0m\n\u001b[0m\u001b[0;32m    728\u001b[0m             \u001b[1;32mexcept\u001b[0m \u001b[0mtuple\u001b[0m\u001b[1;33m(\u001b[0m\u001b[0mself\u001b[0m\u001b[1;33m.\u001b[0m\u001b[0mexceptions\u001b[0m\u001b[1;33m)\u001b[0m \u001b[1;32mas\u001b[0m \u001b[0mexception\u001b[0m\u001b[1;33m:\u001b[0m\u001b[1;33m\u001b[0m\u001b[0m\n\u001b[0;32m    729\u001b[0m                 \u001b[1;31m# Stop dispatching any new job in the async callback thread\u001b[0m\u001b[1;33m\u001b[0m\u001b[1;33m\u001b[0m\u001b[0m\n",
      "\u001b[1;32mC:\\Anaconda3\\lib\\multiprocessing\\pool.py\u001b[0m in \u001b[0;36mget\u001b[1;34m(self, timeout)\u001b[0m\n\u001b[0;32m    600\u001b[0m \u001b[1;33m\u001b[0m\u001b[0m\n\u001b[0;32m    601\u001b[0m     \u001b[1;32mdef\u001b[0m \u001b[0mget\u001b[0m\u001b[1;33m(\u001b[0m\u001b[0mself\u001b[0m\u001b[1;33m,\u001b[0m \u001b[0mtimeout\u001b[0m\u001b[1;33m=\u001b[0m\u001b[1;32mNone\u001b[0m\u001b[1;33m)\u001b[0m\u001b[1;33m:\u001b[0m\u001b[1;33m\u001b[0m\u001b[0m\n\u001b[1;32m--> 602\u001b[1;33m         \u001b[0mself\u001b[0m\u001b[1;33m.\u001b[0m\u001b[0mwait\u001b[0m\u001b[1;33m(\u001b[0m\u001b[0mtimeout\u001b[0m\u001b[1;33m)\u001b[0m\u001b[1;33m\u001b[0m\u001b[0m\n\u001b[0m\u001b[0;32m    603\u001b[0m         \u001b[1;32mif\u001b[0m \u001b[1;32mnot\u001b[0m \u001b[0mself\u001b[0m\u001b[1;33m.\u001b[0m\u001b[0mready\u001b[0m\u001b[1;33m(\u001b[0m\u001b[1;33m)\u001b[0m\u001b[1;33m:\u001b[0m\u001b[1;33m\u001b[0m\u001b[0m\n\u001b[0;32m    604\u001b[0m             \u001b[1;32mraise\u001b[0m \u001b[0mTimeoutError\u001b[0m\u001b[1;33m\u001b[0m\u001b[0m\n",
      "\u001b[1;32mC:\\Anaconda3\\lib\\multiprocessing\\pool.py\u001b[0m in \u001b[0;36mwait\u001b[1;34m(self, timeout)\u001b[0m\n\u001b[0;32m    597\u001b[0m \u001b[1;33m\u001b[0m\u001b[0m\n\u001b[0;32m    598\u001b[0m     \u001b[1;32mdef\u001b[0m \u001b[0mwait\u001b[0m\u001b[1;33m(\u001b[0m\u001b[0mself\u001b[0m\u001b[1;33m,\u001b[0m \u001b[0mtimeout\u001b[0m\u001b[1;33m=\u001b[0m\u001b[1;32mNone\u001b[0m\u001b[1;33m)\u001b[0m\u001b[1;33m:\u001b[0m\u001b[1;33m\u001b[0m\u001b[0m\n\u001b[1;32m--> 599\u001b[1;33m         \u001b[0mself\u001b[0m\u001b[1;33m.\u001b[0m\u001b[0m_event\u001b[0m\u001b[1;33m.\u001b[0m\u001b[0mwait\u001b[0m\u001b[1;33m(\u001b[0m\u001b[0mtimeout\u001b[0m\u001b[1;33m)\u001b[0m\u001b[1;33m\u001b[0m\u001b[0m\n\u001b[0m\u001b[0;32m    600\u001b[0m \u001b[1;33m\u001b[0m\u001b[0m\n\u001b[0;32m    601\u001b[0m     \u001b[1;32mdef\u001b[0m \u001b[0mget\u001b[0m\u001b[1;33m(\u001b[0m\u001b[0mself\u001b[0m\u001b[1;33m,\u001b[0m \u001b[0mtimeout\u001b[0m\u001b[1;33m=\u001b[0m\u001b[1;32mNone\u001b[0m\u001b[1;33m)\u001b[0m\u001b[1;33m:\u001b[0m\u001b[1;33m\u001b[0m\u001b[0m\n",
      "\u001b[1;32mC:\\Anaconda3\\lib\\threading.py\u001b[0m in \u001b[0;36mwait\u001b[1;34m(self, timeout)\u001b[0m\n\u001b[0;32m    547\u001b[0m             \u001b[0msignaled\u001b[0m \u001b[1;33m=\u001b[0m \u001b[0mself\u001b[0m\u001b[1;33m.\u001b[0m\u001b[0m_flag\u001b[0m\u001b[1;33m\u001b[0m\u001b[0m\n\u001b[0;32m    548\u001b[0m             \u001b[1;32mif\u001b[0m \u001b[1;32mnot\u001b[0m \u001b[0msignaled\u001b[0m\u001b[1;33m:\u001b[0m\u001b[1;33m\u001b[0m\u001b[0m\n\u001b[1;32m--> 549\u001b[1;33m                 \u001b[0msignaled\u001b[0m \u001b[1;33m=\u001b[0m \u001b[0mself\u001b[0m\u001b[1;33m.\u001b[0m\u001b[0m_cond\u001b[0m\u001b[1;33m.\u001b[0m\u001b[0mwait\u001b[0m\u001b[1;33m(\u001b[0m\u001b[0mtimeout\u001b[0m\u001b[1;33m)\u001b[0m\u001b[1;33m\u001b[0m\u001b[0m\n\u001b[0m\u001b[0;32m    550\u001b[0m             \u001b[1;32mreturn\u001b[0m \u001b[0msignaled\u001b[0m\u001b[1;33m\u001b[0m\u001b[0m\n\u001b[0;32m    551\u001b[0m \u001b[1;33m\u001b[0m\u001b[0m\n",
      "\u001b[1;32mC:\\Anaconda3\\lib\\threading.py\u001b[0m in \u001b[0;36mwait\u001b[1;34m(self, timeout)\u001b[0m\n\u001b[0;32m    291\u001b[0m         \u001b[1;32mtry\u001b[0m\u001b[1;33m:\u001b[0m    \u001b[1;31m# restore state no matter what (e.g., KeyboardInterrupt)\u001b[0m\u001b[1;33m\u001b[0m\u001b[0m\n\u001b[0;32m    292\u001b[0m             \u001b[1;32mif\u001b[0m \u001b[0mtimeout\u001b[0m \u001b[1;32mis\u001b[0m \u001b[1;32mNone\u001b[0m\u001b[1;33m:\u001b[0m\u001b[1;33m\u001b[0m\u001b[0m\n\u001b[1;32m--> 293\u001b[1;33m                 \u001b[0mwaiter\u001b[0m\u001b[1;33m.\u001b[0m\u001b[0macquire\u001b[0m\u001b[1;33m(\u001b[0m\u001b[1;33m)\u001b[0m\u001b[1;33m\u001b[0m\u001b[0m\n\u001b[0m\u001b[0;32m    294\u001b[0m                 \u001b[0mgotit\u001b[0m \u001b[1;33m=\u001b[0m \u001b[1;32mTrue\u001b[0m\u001b[1;33m\u001b[0m\u001b[0m\n\u001b[0;32m    295\u001b[0m             \u001b[1;32melse\u001b[0m\u001b[1;33m:\u001b[0m\u001b[1;33m\u001b[0m\u001b[0m\n",
      "\u001b[1;31mKeyboardInterrupt\u001b[0m: "
     ]
    }
   ],
   "source": [
    "#('f_classif','chi2','SelectKBest'):\n",
    "for i in (3,5):\n",
    "    train_row = dec.transform(train[\"device_id\"])\n",
    "    X_train = sparse_matrix[train_row, :]\n",
    "\n",
    "    test_row = dec.transform(test[\"device_id\"])\n",
    "    X_test = sparse_matrix[test_row, :]\n",
    "        \n",
    "    selector = SelectPercentile(f_classif, percentile=i)\n",
    "    selector.fit(X_train, Y_train)\n",
    "\n",
    "    X_train = selector.transform(X_train)\n",
    "    X_test = selector.transform(X_test)\n",
    "\n",
    "    lg = LogisticRegression(random_state=23, fit_intercept=True, class_weight= None)\n",
    "    param_grid = {'C': [0.1]}\n",
    "    lg_gs = grid_search.GridSearchCV(estimator = lg, param_grid = param_grid, cv = 5, n_jobs=-1, scoring='log_loss', error_score=0, verbose=2) \n",
    "    lg_gs.fit(X_train, Y_train)\n",
    "    print(\"Feature sel %\",i)\n",
    "    print(\"# Num of Features: \", X_train.shape[1])\n",
    "    print(\"Best parameters found by grid search:\", lg_gs.best_params_)\n",
    "    print(\"Best CV score:\", lg_gs.best_score_)\n",
    "    print(\"Best CV score:\", lg_gs.grid_scores_)\n",
    "#23%\n",
    "#Best parameters found by grid search: {'class_weight': None, 'C': 0.1}\n",
    "#Best CV score: -2.30189906196\n",
    "#10%\n",
    "#Best parameters found by grid search: {'class_weight': None, 'C': 0.1}\n",
    "#mean: -2.29573, std: 0.03596 LB: 2.28530\n",
    "#3%\n",
    "#mean: -2.31534, std: 0.03358"
   ]
  },
  {
   "cell_type": "code",
   "execution_count": null,
   "metadata": {
    "collapsed": false
   },
   "outputs": [],
   "source": [
    "abc = AdaBoostClassifier(n_estimators=100, random_state=3)\n",
    "param_grid = {'learning_rate': [0.01]}\n",
    "abc_gs = grid_search.GridSearchCV(estimator = abc, param_grid = param_grid, cv = 6, n_jobs=-1, scoring='log_loss', error_score=0, verbose=2) \n",
    "abc_gs.fit(X_train, Y_train)\n",
    "print(\"Best parameters found by grid search:\", abc_gs.best_params_)\n",
    "print(\"Best CV score:\", abc_gs.best_score_)\n",
    "print(\"Best CV score:\", abc_gs.grid_scores_)\n",
    "# 23%\n",
    "#Best parameters found by grid search: {'learning_rate': 0.1, n_estimators:100}\n",
    "#Best CV score: -2.45524182137"
   ]
  },
  {
   "cell_type": "code",
   "execution_count": null,
   "metadata": {
    "collapsed": false
   },
   "outputs": [
    {
     "name": "stdout",
     "output_type": "stream",
     "text": [
      "\n",
      "Training Ensamble Random Forest ....\n",
      "Fitting 6 folds for each of 2 candidates, totalling 12 fits\n"
     ]
    }
   ],
   "source": [
    "print(\"\\nTraining Ensamble Random Forest ....\")\n",
    "rfc = RandomForestClassifier(n_estimators = 100, n_jobs=-1, random_state=23)\n",
    "param_grid = {'min_samples_leaf': [2,5]}\n",
    "rfc_gs = grid_search.GridSearchCV(estimator = rfc, param_grid = param_grid, cv = 6, n_jobs=-1, scoring='log_loss', error_score=0, verbose=2) \n",
    "rfc_gs.fit(X_train, Y_train)\n",
    "print(\"Best parameters found by grid search:\", rfc_gs.best_params_)\n",
    "print(\"Best CV score:\", rfc_gs.best_score_)\n",
    "print(\"Best CV score:\", rfc_gs.grid_scores_)\n",
    "# 23%\n",
    "# 5:-2.35487, std: 0.01740, CV=LB=2.34511\n",
    "# 3% ('min_samples_leaf': 2)\n",
    "# mean: -2.32991, std: 0.02355"
   ]
  },
  {
   "cell_type": "code",
   "execution_count": null,
   "metadata": {
    "collapsed": false
   },
   "outputs": [],
   "source": [
    "rfc = RandomForestClassifier(n_estimators = 2, n_jobs=-1, random_state=23, min_samples_leaf= 5)\n",
    "rfc.fit(X_train, Y_train)\n",
    "features_lb = sorted(zip(map(lambda x: round(x, 4), rfc.feature_importances_), X_train.columns), reverse=True, key=lambda pair: pair[0])\n",
    "features_lb"
   ]
  },
  {
   "cell_type": "code",
   "execution_count": null,
   "metadata": {
    "collapsed": false
   },
   "outputs": [],
   "source": [
    "preds = lg_gs.predict_proba(X_test)"
   ]
  },
  {
   "cell_type": "code",
   "execution_count": null,
   "metadata": {
    "collapsed": false
   },
   "outputs": [],
   "source": [
    "result = pd.DataFrame(preds, columns=lable_group.classes_)\n",
    "result[\"device_id\"] = device_id\n",
    "#result = result.set_index(\"device_id\")"
   ]
  },
  {
   "cell_type": "code",
   "execution_count": null,
   "metadata": {
    "collapsed": true
   },
   "outputs": [],
   "source": [
    "result[\"device_id\"] = test['device_id'].values\n",
    "#order columns\n",
    "cols = result.columns.tolist()\n",
    "cols = cols[-1:] + cols[:-1]\n",
    "result = result[cols]"
   ]
  },
  {
   "cell_type": "code",
   "execution_count": null,
   "metadata": {
    "collapsed": false
   },
   "outputs": [],
   "source": [
    "result.head(10)"
   ]
  },
  {
   "cell_type": "code",
   "execution_count": null,
   "metadata": {
    "collapsed": false
   },
   "outputs": [],
   "source": [
    "result.to_csv('.\\\\submissions\\\\sub_lr.csv',index=False)"
   ]
  },
  {
   "cell_type": "code",
   "execution_count": null,
   "metadata": {
    "collapsed": true
   },
   "outputs": [],
   "source": []
  },
  {
   "cell_type": "code",
   "execution_count": null,
   "metadata": {
    "collapsed": false
   },
   "outputs": [],
   "source": [
    "import pandas as pd\n"
   ]
  },
  {
   "cell_type": "code",
   "execution_count": null,
   "metadata": {
    "collapsed": false
   },
   "outputs": [],
   "source": [
    "print(label_categories.shape)\n",
    "label_categories.category.value_counts()"
   ]
  },
  {
   "cell_type": "code",
   "execution_count": null,
   "metadata": {
    "collapsed": false
   },
   "outputs": [],
   "source": [
    "label_categories.head()"
   ]
  },
  {
   "cell_type": "code",
   "execution_count": null,
   "metadata": {
    "collapsed": false
   },
   "outputs": [],
   "source": [
    "label_categories.isnull().sum()"
   ]
  },
  {
   "cell_type": "code",
   "execution_count": null,
   "metadata": {
    "collapsed": false
   },
   "outputs": [],
   "source": [
    "for cat in label_categories.category:\n",
    "    print(cat)"
   ]
  },
  {
   "cell_type": "code",
   "execution_count": null,
   "metadata": {
    "collapsed": true
   },
   "outputs": [],
   "source": []
  }
 ],
 "metadata": {
  "kernelspec": {
   "display_name": "Python 3",
   "language": "python",
   "name": "python3"
  },
  "language_info": {
   "codemirror_mode": {
    "name": "ipython",
    "version": 3
   },
   "file_extension": ".py",
   "mimetype": "text/x-python",
   "name": "python",
   "nbconvert_exporter": "python",
   "pygments_lexer": "ipython3",
   "version": "3.5.1"
  }
 },
 "nbformat": 4,
 "nbformat_minor": 0
}
