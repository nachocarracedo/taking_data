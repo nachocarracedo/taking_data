{
 "cells": [
  {
   "cell_type": "markdown",
   "metadata": {
    "collapsed": false
   },
   "source": [
    "This script is based on https://www.kaggle.com/dvasyukova/talkingdata-mobile-user-demographics/a-linear-model-on-apps-and-labels/discussion\n",
    "\n",
    "The script loads, tranforms, and merger the data. Then it constructs a sparce Matrix and applies Logistic Regression to classify each device_id. Then a Random Forest is applied on these prediction and other feature enginering. \n"
   ]
  },
  {
   "cell_type": "code",
   "execution_count": 1,
   "metadata": {
    "collapsed": false,
    "scrolled": true
   },
   "outputs": [
    {
     "name": "stderr",
     "output_type": "stream",
     "text": [
      "C:\\Anaconda3\\lib\\site-packages\\matplotlib\\__init__.py:872: UserWarning: axes.color_cycle is deprecated and replaced with axes.prop_cycle; please use the latter.\n",
      "  warnings.warn(self.msg_depr % (key, alt_key))\n"
     ]
    }
   ],
   "source": [
    "import pandas as pd\n",
    "import numpy as np\n",
    "%matplotlib inline\n",
    "import seaborn as sns\n",
    "import matplotlib.pyplot as plt\n",
    "import os\n",
    "from sklearn.preprocessing import LabelEncoder\n",
    "from scipy.sparse import csr_matrix, hstack\n",
    "from sklearn.linear_model import LogisticRegression\n",
    "from sklearn.cross_validation import StratifiedKFold\n",
    "from sklearn.metrics import log_loss\n",
    "from sklearn.feature_selection import SelectPercentile, f_classif, chi2, SelectKBest\n",
    "from sklearn import pipeline, grid_search\n",
    "from sklearn.ensemble import RandomForestClassifier, AdaBoostClassifier, GradientBoostingClassifier, ExtraTreesClassifier\n",
    "from scipy import stats"
   ]
  },
  {
   "cell_type": "markdown",
   "metadata": {},
   "source": [
    "Load data and check how it looks (More detailed info on the data can be found in EDA_Taking_Data notebook)"
   ]
  },
  {
   "cell_type": "code",
   "execution_count": 2,
   "metadata": {
    "collapsed": false
   },
   "outputs": [],
   "source": [
    "datadir = './raw_data'\n",
    "train = pd.read_csv(os.path.join(datadir,'gender_age_train.csv'),index_col='device_id')\n",
    "test = pd.read_csv(os.path.join(datadir,'gender_age_test.csv'), index_col = 'device_id')\n",
    "phone = pd.read_csv(os.path.join(datadir,'phone_brand_device_model.csv'))\n",
    "\n",
    "# Get rid of duplicate device ids in phone\n",
    "phone = phone.drop_duplicates('device_id',keep='first').set_index('device_id')\n",
    "\n",
    "events = pd.read_csv(os.path.join(datadir,'events.csv'),parse_dates=['timestamp'], index_col='event_id')\n",
    "appevents = pd.read_csv(os.path.join(datadir,'app_events.csv'),usecols=['event_id','app_id','is_active'],dtype={'is_active':bool})\n",
    "applabels = pd.read_csv(os.path.join(datadir,'app_labels.csv'))"
   ]
  },
  {
   "cell_type": "code",
   "execution_count": 3,
   "metadata": {
    "collapsed": false
   },
   "outputs": [
    {
     "data": {
      "text/html": [
       "<div>\n",
       "<table border=\"1\" class=\"dataframe\">\n",
       "  <thead>\n",
       "    <tr style=\"text-align: right;\">\n",
       "      <th></th>\n",
       "      <th>gender</th>\n",
       "      <th>age</th>\n",
       "      <th>group</th>\n",
       "    </tr>\n",
       "    <tr>\n",
       "      <th>device_id</th>\n",
       "      <th></th>\n",
       "      <th></th>\n",
       "      <th></th>\n",
       "    </tr>\n",
       "  </thead>\n",
       "  <tbody>\n",
       "    <tr>\n",
       "      <th>-8076087639492063270</th>\n",
       "      <td>M</td>\n",
       "      <td>35</td>\n",
       "      <td>M32-38</td>\n",
       "    </tr>\n",
       "    <tr>\n",
       "      <th>-2897161552818060146</th>\n",
       "      <td>M</td>\n",
       "      <td>35</td>\n",
       "      <td>M32-38</td>\n",
       "    </tr>\n",
       "    <tr>\n",
       "      <th>-8260683887967679142</th>\n",
       "      <td>M</td>\n",
       "      <td>35</td>\n",
       "      <td>M32-38</td>\n",
       "    </tr>\n",
       "    <tr>\n",
       "      <th>-4938849341048082022</th>\n",
       "      <td>M</td>\n",
       "      <td>30</td>\n",
       "      <td>M29-31</td>\n",
       "    </tr>\n",
       "    <tr>\n",
       "      <th>245133531816851882</th>\n",
       "      <td>M</td>\n",
       "      <td>30</td>\n",
       "      <td>M29-31</td>\n",
       "    </tr>\n",
       "  </tbody>\n",
       "</table>\n",
       "</div>"
      ],
      "text/plain": [
       "                     gender  age   group\n",
       "device_id                               \n",
       "-8076087639492063270      M   35  M32-38\n",
       "-2897161552818060146      M   35  M32-38\n",
       "-8260683887967679142      M   35  M32-38\n",
       "-4938849341048082022      M   30  M29-31\n",
       " 245133531816851882       M   30  M29-31"
      ]
     },
     "execution_count": 3,
     "metadata": {},
     "output_type": "execute_result"
    }
   ],
   "source": [
    "train.head()"
   ]
  },
  {
   "cell_type": "code",
   "execution_count": 4,
   "metadata": {
    "collapsed": false
   },
   "outputs": [
    {
     "data": {
      "text/html": [
       "<div>\n",
       "<table border=\"1\" class=\"dataframe\">\n",
       "  <thead>\n",
       "    <tr style=\"text-align: right;\">\n",
       "      <th></th>\n",
       "    </tr>\n",
       "    <tr>\n",
       "      <th>device_id</th>\n",
       "    </tr>\n",
       "  </thead>\n",
       "  <tbody>\n",
       "    <tr>\n",
       "      <th>1002079943728939269</th>\n",
       "    </tr>\n",
       "    <tr>\n",
       "      <th>-1547860181818787117</th>\n",
       "    </tr>\n",
       "    <tr>\n",
       "      <th>7374582448058474277</th>\n",
       "    </tr>\n",
       "    <tr>\n",
       "      <th>-6220210354783429585</th>\n",
       "    </tr>\n",
       "    <tr>\n",
       "      <th>-5893464122623104785</th>\n",
       "    </tr>\n",
       "  </tbody>\n",
       "</table>\n",
       "</div>"
      ],
      "text/plain": [
       "Empty DataFrame\n",
       "Columns: []\n",
       "Index: [1002079943728939269, -1547860181818787117, 7374582448058474277, -6220210354783429585, -5893464122623104785]"
      ]
     },
     "execution_count": 4,
     "metadata": {},
     "output_type": "execute_result"
    }
   ],
   "source": [
    "test.head()"
   ]
  },
  {
   "cell_type": "code",
   "execution_count": 5,
   "metadata": {
    "collapsed": false
   },
   "outputs": [
    {
     "data": {
      "text/html": [
       "<div>\n",
       "<table border=\"1\" class=\"dataframe\">\n",
       "  <thead>\n",
       "    <tr style=\"text-align: right;\">\n",
       "      <th></th>\n",
       "      <th>phone_brand</th>\n",
       "      <th>device_model</th>\n",
       "    </tr>\n",
       "    <tr>\n",
       "      <th>device_id</th>\n",
       "      <th></th>\n",
       "      <th></th>\n",
       "    </tr>\n",
       "  </thead>\n",
       "  <tbody>\n",
       "    <tr>\n",
       "      <th>-8890648629457979026</th>\n",
       "      <td>小米</td>\n",
       "      <td>红米</td>\n",
       "    </tr>\n",
       "    <tr>\n",
       "      <th>1277779817574759137</th>\n",
       "      <td>小米</td>\n",
       "      <td>MI 2</td>\n",
       "    </tr>\n",
       "    <tr>\n",
       "      <th>5137427614288105724</th>\n",
       "      <td>三星</td>\n",
       "      <td>Galaxy S4</td>\n",
       "    </tr>\n",
       "    <tr>\n",
       "      <th>3669464369358936369</th>\n",
       "      <td>SUGAR</td>\n",
       "      <td>时尚手机</td>\n",
       "    </tr>\n",
       "    <tr>\n",
       "      <th>-5019277647504317457</th>\n",
       "      <td>三星</td>\n",
       "      <td>Galaxy Note 2</td>\n",
       "    </tr>\n",
       "  </tbody>\n",
       "</table>\n",
       "</div>"
      ],
      "text/plain": [
       "                     phone_brand   device_model\n",
       "device_id                                      \n",
       "-8890648629457979026          小米             红米\n",
       " 1277779817574759137          小米           MI 2\n",
       " 5137427614288105724          三星      Galaxy S4\n",
       " 3669464369358936369       SUGAR           时尚手机\n",
       "-5019277647504317457          三星  Galaxy Note 2"
      ]
     },
     "execution_count": 5,
     "metadata": {},
     "output_type": "execute_result"
    }
   ],
   "source": [
    "phone.head()"
   ]
  },
  {
   "cell_type": "code",
   "execution_count": 7,
   "metadata": {
    "collapsed": false
   },
   "outputs": [
    {
     "data": {
      "text/html": [
       "<div>\n",
       "<table border=\"1\" class=\"dataframe\">\n",
       "  <thead>\n",
       "    <tr style=\"text-align: right;\">\n",
       "      <th></th>\n",
       "      <th>event_id</th>\n",
       "      <th>app_id</th>\n",
       "      <th>is_active</th>\n",
       "    </tr>\n",
       "  </thead>\n",
       "  <tbody>\n",
       "    <tr>\n",
       "      <th>0</th>\n",
       "      <td>2</td>\n",
       "      <td>5927333115845830913</td>\n",
       "      <td>True</td>\n",
       "    </tr>\n",
       "    <tr>\n",
       "      <th>1</th>\n",
       "      <td>2</td>\n",
       "      <td>-5720078949152207372</td>\n",
       "      <td>False</td>\n",
       "    </tr>\n",
       "    <tr>\n",
       "      <th>2</th>\n",
       "      <td>2</td>\n",
       "      <td>-1633887856876571208</td>\n",
       "      <td>False</td>\n",
       "    </tr>\n",
       "    <tr>\n",
       "      <th>3</th>\n",
       "      <td>2</td>\n",
       "      <td>-653184325010919369</td>\n",
       "      <td>True</td>\n",
       "    </tr>\n",
       "    <tr>\n",
       "      <th>4</th>\n",
       "      <td>2</td>\n",
       "      <td>8693964245073640147</td>\n",
       "      <td>True</td>\n",
       "    </tr>\n",
       "  </tbody>\n",
       "</table>\n",
       "</div>"
      ],
      "text/plain": [
       "   event_id               app_id is_active\n",
       "0         2  5927333115845830913      True\n",
       "1         2 -5720078949152207372     False\n",
       "2         2 -1633887856876571208     False\n",
       "3         2  -653184325010919369      True\n",
       "4         2  8693964245073640147      True"
      ]
     },
     "execution_count": 7,
     "metadata": {},
     "output_type": "execute_result"
    }
   ],
   "source": [
    "appevents.head()"
   ]
  },
  {
   "cell_type": "code",
   "execution_count": 8,
   "metadata": {
    "collapsed": false
   },
   "outputs": [
    {
     "data": {
      "text/html": [
       "<div>\n",
       "<table border=\"1\" class=\"dataframe\">\n",
       "  <thead>\n",
       "    <tr style=\"text-align: right;\">\n",
       "      <th></th>\n",
       "      <th>app_id</th>\n",
       "      <th>label_id</th>\n",
       "    </tr>\n",
       "  </thead>\n",
       "  <tbody>\n",
       "    <tr>\n",
       "      <th>0</th>\n",
       "      <td>7324884708820027918</td>\n",
       "      <td>251</td>\n",
       "    </tr>\n",
       "    <tr>\n",
       "      <th>1</th>\n",
       "      <td>-4494216993218550286</td>\n",
       "      <td>251</td>\n",
       "    </tr>\n",
       "    <tr>\n",
       "      <th>2</th>\n",
       "      <td>6058196446775239644</td>\n",
       "      <td>406</td>\n",
       "    </tr>\n",
       "    <tr>\n",
       "      <th>3</th>\n",
       "      <td>6058196446775239644</td>\n",
       "      <td>407</td>\n",
       "    </tr>\n",
       "    <tr>\n",
       "      <th>4</th>\n",
       "      <td>8694625920731541625</td>\n",
       "      <td>406</td>\n",
       "    </tr>\n",
       "  </tbody>\n",
       "</table>\n",
       "</div>"
      ],
      "text/plain": [
       "                app_id  label_id\n",
       "0  7324884708820027918       251\n",
       "1 -4494216993218550286       251\n",
       "2  6058196446775239644       406\n",
       "3  6058196446775239644       407\n",
       "4  8694625920731541625       406"
      ]
     },
     "execution_count": 8,
     "metadata": {},
     "output_type": "execute_result"
    }
   ],
   "source": [
    "applabels.head()"
   ]
  },
  {
   "cell_type": "code",
   "execution_count": 9,
   "metadata": {
    "collapsed": false
   },
   "outputs": [],
   "source": [
    "# get size of train and test\n",
    "train['trainrow'] = np.arange(train.shape[0])\n",
    "test['testrow'] = np.arange(test.shape[0])"
   ]
  },
  {
   "cell_type": "markdown",
   "metadata": {},
   "source": [
    "Creation of sparce matrices for Brand, Model, Apps, and Apps Labels"
   ]
  },
  {
   "cell_type": "code",
   "execution_count": 10,
   "metadata": {
    "collapsed": false
   },
   "outputs": [
    {
     "name": "stdout",
     "output_type": "stream",
     "text": [
      "Brand features: train shape (74645, 131), test shape (112071, 131)\n"
     ]
    }
   ],
   "source": [
    "brandencoder = LabelEncoder().fit(phone.phone_brand)\n",
    "phone['brand'] = brandencoder.transform(phone['phone_brand'])\n",
    "\n",
    "train['brand'] = phone['brand']\n",
    "test['brand'] = phone['brand']\n",
    "\n",
    "Xtr_brand = csr_matrix((np.ones(train.shape[0]), (train.trainrow, train.brand)))\n",
    "Xte_brand = csr_matrix((np.ones(test.shape[0]), (test.testrow, test.brand)))\n",
    "\n",
    "print('Brand features: train shape {}, test shape {}'.format(Xtr_brand.shape, Xte_brand.shape))"
   ]
  },
  {
   "cell_type": "code",
   "execution_count": 11,
   "metadata": {
    "collapsed": false
   },
   "outputs": [
    {
     "name": "stdout",
     "output_type": "stream",
     "text": [
      "Model features: train shape (74645, 1667), test shape (112071, 1667)\n"
     ]
    }
   ],
   "source": [
    "m = phone.phone_brand.str.cat(phone.device_model)\n",
    "modelencoder = LabelEncoder().fit(m)\n",
    "phone['model'] = modelencoder.transform(m)\n",
    "train['model'] = phone['model']\n",
    "test['model'] = phone['model']\n",
    "Xtr_model = csr_matrix((np.ones(train.shape[0]), (train.trainrow, train.model)))\n",
    "Xte_model = csr_matrix((np.ones(test.shape[0]), (test.testrow, test.model)))\n",
    "print('Model features: train shape {}, test shape {}'.format(Xtr_model.shape, Xte_model.shape))\n",
    "del phone"
   ]
  },
  {
   "cell_type": "code",
   "execution_count": 13,
   "metadata": {
    "collapsed": false
   },
   "outputs": [
    {
     "data": {
      "text/html": [
       "<div>\n",
       "<table border=\"1\" class=\"dataframe\">\n",
       "  <thead>\n",
       "    <tr style=\"text-align: right;\">\n",
       "      <th></th>\n",
       "      <th>device_id</th>\n",
       "      <th>app</th>\n",
       "      <th>size</th>\n",
       "      <th>trainrow</th>\n",
       "      <th>testrow</th>\n",
       "    </tr>\n",
       "  </thead>\n",
       "  <tbody>\n",
       "    <tr>\n",
       "      <th>0</th>\n",
       "      <td>-9222956879900151005</td>\n",
       "      <td>548</td>\n",
       "      <td>18</td>\n",
       "      <td>21594.0</td>\n",
       "      <td>NaN</td>\n",
       "    </tr>\n",
       "    <tr>\n",
       "      <th>1</th>\n",
       "      <td>-9222956879900151005</td>\n",
       "      <td>1096</td>\n",
       "      <td>18</td>\n",
       "      <td>21594.0</td>\n",
       "      <td>NaN</td>\n",
       "    </tr>\n",
       "    <tr>\n",
       "      <th>2</th>\n",
       "      <td>-9222956879900151005</td>\n",
       "      <td>1248</td>\n",
       "      <td>26</td>\n",
       "      <td>21594.0</td>\n",
       "      <td>NaN</td>\n",
       "    </tr>\n",
       "    <tr>\n",
       "      <th>3</th>\n",
       "      <td>-9222956879900151005</td>\n",
       "      <td>1545</td>\n",
       "      <td>12</td>\n",
       "      <td>21594.0</td>\n",
       "      <td>NaN</td>\n",
       "    </tr>\n",
       "    <tr>\n",
       "      <th>4</th>\n",
       "      <td>-9222956879900151005</td>\n",
       "      <td>1664</td>\n",
       "      <td>18</td>\n",
       "      <td>21594.0</td>\n",
       "      <td>NaN</td>\n",
       "    </tr>\n",
       "  </tbody>\n",
       "</table>\n",
       "</div>"
      ],
      "text/plain": [
       "             device_id   app  size  trainrow  testrow\n",
       "0 -9222956879900151005   548    18   21594.0      NaN\n",
       "1 -9222956879900151005  1096    18   21594.0      NaN\n",
       "2 -9222956879900151005  1248    26   21594.0      NaN\n",
       "3 -9222956879900151005  1545    12   21594.0      NaN\n",
       "4 -9222956879900151005  1664    18   21594.0      NaN"
      ]
     },
     "execution_count": 13,
     "metadata": {},
     "output_type": "execute_result"
    }
   ],
   "source": [
    "appencoder = LabelEncoder().fit(appevents.app_id)\n",
    "appevents['app'] = appencoder.transform(appevents.app_id)\n",
    "napps = len(appencoder.classes_)\n",
    "\n",
    "deviceapps = (appevents.merge(events[['device_id']], how='left',left_on='event_id',right_index=True)\n",
    "                       .groupby(['device_id','app'])['app'].agg(['size'])\n",
    "                       .merge(train[['trainrow']], how='left', left_index=True, right_index=True)\n",
    "                       .merge(test[['testrow']], how='left', left_index=True, right_index=True)\n",
    "                       .reset_index())\n",
    "\n",
    "deviceapps.head()"
   ]
  },
  {
   "cell_type": "code",
   "execution_count": 14,
   "metadata": {
    "collapsed": true
   },
   "outputs": [],
   "source": [
    "events['timestamp'] = pd.to_datetime(events['timestamp'])\n",
    "events['hour'] = events['timestamp'].map(lambda x : x.hour)\n",
    "events['min'] = events['timestamp'].map(lambda x : x.minute)\n",
    "events['day'] = events['timestamp'].map(lambda x : x.day)\n"
   ]
  },
  {
   "cell_type": "markdown",
   "metadata": {
    "collapsed": false
   },
   "source": [
    "I fix latitude and longitud. There are many 0,0 values. These values are there when there was an error measuring. I'll change  this values to the mode of the device_id if this is not 0:"
   ]
  },
  {
   "cell_type": "code",
   "execution_count": null,
   "metadata": {
    "collapsed": false
   },
   "outputs": [],
   "source": [
    "# fix longitud and latitude \n",
    "ids_to_fix = list(events.loc[(events.longitude < 5) & (events.latitude < 5) & (events.latitude > -5) & (events.longitude > -5),'device_id'].unique())\n",
    "print(\"total entries to fix: \", len(ids_to_fix))\n",
    "print(\"progress ... \")\n",
    "\n",
    "counter = 0\n",
    "\n",
    "for i in ids_to_fix:\n",
    "    \n",
    "    all_long = events[events.device_id == i].longitude\n",
    "    all_lat = events[events.device_id == i].latitude\n",
    "    \n",
    "    try:\n",
    "        \n",
    "        mode_long = float(stats.mode(all_long[(all_long > 2) | (all_long < -2)])[0])\n",
    "        mode_lat = float(stats.mode(all_lat[(all_lat > 2) | (all_lat < -2)])[0])\n",
    "    \n",
    "        events.loc[(events.device_id==i) & (events.longitude < 2) & (events.longitude > -2), 'longitude'] = mode_long\n",
    "        events.loc[(events.device_id==i) & (events.latitude < 2) & (events.latitude > -2), 'latitude'] = mode_lat\n",
    "        \n",
    "    except:\n",
    "        events.loc[events.device_id == i,'longitude'] = 0\n",
    "        events.loc[events.device_id == i,'latitude'] = 0\n",
    "    \n",
    "    counter =  counter + 1\n",
    "    if counter % 5000 == 0: \n",
    "        print(counter)\n",
    "\n",
    "#events.to_csv('.\\\\transformed_data\\\\events.csv',index=False)"
   ]
  },
  {
   "cell_type": "code",
   "execution_count": 18,
   "metadata": {
    "collapsed": false
   },
   "outputs": [
    {
     "data": {
      "text/html": [
       "<div>\n",
       "<table border=\"1\" class=\"dataframe\">\n",
       "  <thead>\n",
       "    <tr style=\"text-align: right;\">\n",
       "      <th></th>\n",
       "      <th>device_id</th>\n",
       "      <th>timestamp</th>\n",
       "      <th>longitude</th>\n",
       "      <th>latitude</th>\n",
       "      <th>hour</th>\n",
       "      <th>min</th>\n",
       "      <th>day</th>\n",
       "    </tr>\n",
       "    <tr>\n",
       "      <th>event_id</th>\n",
       "      <th></th>\n",
       "      <th></th>\n",
       "      <th></th>\n",
       "      <th></th>\n",
       "      <th></th>\n",
       "      <th></th>\n",
       "      <th></th>\n",
       "    </tr>\n",
       "  </thead>\n",
       "  <tbody>\n",
       "    <tr>\n",
       "      <th>1</th>\n",
       "      <td>29182687948017175</td>\n",
       "      <td>2016-05-01 00:55:25</td>\n",
       "      <td>121.38</td>\n",
       "      <td>31.24</td>\n",
       "      <td>0</td>\n",
       "      <td>55</td>\n",
       "      <td>1</td>\n",
       "    </tr>\n",
       "    <tr>\n",
       "      <th>2</th>\n",
       "      <td>-6401643145415154744</td>\n",
       "      <td>2016-05-01 00:54:12</td>\n",
       "      <td>103.65</td>\n",
       "      <td>30.97</td>\n",
       "      <td>0</td>\n",
       "      <td>54</td>\n",
       "      <td>1</td>\n",
       "    </tr>\n",
       "    <tr>\n",
       "      <th>3</th>\n",
       "      <td>-4833982096941402721</td>\n",
       "      <td>2016-05-01 00:08:05</td>\n",
       "      <td>106.60</td>\n",
       "      <td>29.70</td>\n",
       "      <td>0</td>\n",
       "      <td>8</td>\n",
       "      <td>1</td>\n",
       "    </tr>\n",
       "    <tr>\n",
       "      <th>4</th>\n",
       "      <td>-6815121365017318426</td>\n",
       "      <td>2016-05-01 00:06:40</td>\n",
       "      <td>104.27</td>\n",
       "      <td>23.28</td>\n",
       "      <td>0</td>\n",
       "      <td>6</td>\n",
       "      <td>1</td>\n",
       "    </tr>\n",
       "    <tr>\n",
       "      <th>5</th>\n",
       "      <td>-5373797595892518570</td>\n",
       "      <td>2016-05-01 00:07:18</td>\n",
       "      <td>115.88</td>\n",
       "      <td>28.66</td>\n",
       "      <td>0</td>\n",
       "      <td>7</td>\n",
       "      <td>1</td>\n",
       "    </tr>\n",
       "  </tbody>\n",
       "</table>\n",
       "</div>"
      ],
      "text/plain": [
       "                    device_id           timestamp  longitude  latitude  hour  \\\n",
       "event_id                                                                       \n",
       "1           29182687948017175 2016-05-01 00:55:25     121.38     31.24     0   \n",
       "2        -6401643145415154744 2016-05-01 00:54:12     103.65     30.97     0   \n",
       "3        -4833982096941402721 2016-05-01 00:08:05     106.60     29.70     0   \n",
       "4        -6815121365017318426 2016-05-01 00:06:40     104.27     23.28     0   \n",
       "5        -5373797595892518570 2016-05-01 00:07:18     115.88     28.66     0   \n",
       "\n",
       "          min  day  \n",
       "event_id            \n",
       "1          55    1  \n",
       "2          54    1  \n",
       "3           8    1  \n",
       "4           6    1  \n",
       "5           7    1  "
      ]
     },
     "execution_count": 18,
     "metadata": {},
     "output_type": "execute_result"
    }
   ],
   "source": [
    "events.head()"
   ]
  },
  {
   "cell_type": "code",
   "execution_count": 20,
   "metadata": {
    "collapsed": false
   },
   "outputs": [
    {
     "data": {
      "text/html": [
       "<div>\n",
       "<table border=\"1\" class=\"dataframe\">\n",
       "  <thead>\n",
       "    <tr style=\"text-align: right;\">\n",
       "      <th></th>\n",
       "      <th>device_id</th>\n",
       "      <th>timestamp</th>\n",
       "      <th>longitude</th>\n",
       "      <th>latitude</th>\n",
       "      <th>hour</th>\n",
       "      <th>min</th>\n",
       "      <th>day</th>\n",
       "    </tr>\n",
       "  </thead>\n",
       "  <tbody>\n",
       "    <tr>\n",
       "      <th>0</th>\n",
       "      <td>29182687948017175</td>\n",
       "      <td>2016-05-01 00:55:25</td>\n",
       "      <td>121.38</td>\n",
       "      <td>31.24</td>\n",
       "      <td>0</td>\n",
       "      <td>55</td>\n",
       "      <td>1</td>\n",
       "    </tr>\n",
       "    <tr>\n",
       "      <th>1</th>\n",
       "      <td>-6401643145415154744</td>\n",
       "      <td>2016-05-01 00:54:12</td>\n",
       "      <td>103.65</td>\n",
       "      <td>30.97</td>\n",
       "      <td>0</td>\n",
       "      <td>54</td>\n",
       "      <td>1</td>\n",
       "    </tr>\n",
       "    <tr>\n",
       "      <th>2</th>\n",
       "      <td>-4833982096941402721</td>\n",
       "      <td>2016-05-01 00:08:05</td>\n",
       "      <td>106.60</td>\n",
       "      <td>29.70</td>\n",
       "      <td>0</td>\n",
       "      <td>8</td>\n",
       "      <td>1</td>\n",
       "    </tr>\n",
       "    <tr>\n",
       "      <th>3</th>\n",
       "      <td>-6815121365017318426</td>\n",
       "      <td>2016-05-01 00:06:40</td>\n",
       "      <td>104.27</td>\n",
       "      <td>23.28</td>\n",
       "      <td>0</td>\n",
       "      <td>6</td>\n",
       "      <td>1</td>\n",
       "    </tr>\n",
       "    <tr>\n",
       "      <th>4</th>\n",
       "      <td>-5373797595892518570</td>\n",
       "      <td>2016-05-01 00:07:18</td>\n",
       "      <td>115.88</td>\n",
       "      <td>28.66</td>\n",
       "      <td>0</td>\n",
       "      <td>7</td>\n",
       "      <td>1</td>\n",
       "    </tr>\n",
       "  </tbody>\n",
       "</table>\n",
       "</div>"
      ],
      "text/plain": [
       "             device_id            timestamp  longitude  latitude  hour  min  \\\n",
       "0    29182687948017175  2016-05-01 00:55:25     121.38     31.24     0   55   \n",
       "1 -6401643145415154744  2016-05-01 00:54:12     103.65     30.97     0   54   \n",
       "2 -4833982096941402721  2016-05-01 00:08:05     106.60     29.70     0    8   \n",
       "3 -6815121365017318426  2016-05-01 00:06:40     104.27     23.28     0    6   \n",
       "4 -5373797595892518570  2016-05-01 00:07:18     115.88     28.66     0    7   \n",
       "\n",
       "   day  \n",
       "0    1  \n",
       "1    1  \n",
       "2    1  \n",
       "3    1  \n",
       "4    1  "
      ]
     },
     "execution_count": 20,
     "metadata": {},
     "output_type": "execute_result"
    }
   ],
   "source": [
    "# Comment out to load events already tranformed\n",
    "\n",
    "#del events\n",
    "#events = pd.read_csv('.\\\\transformed_data\\\\events.csv')\n",
    "#events.head()"
   ]
  },
  {
   "cell_type": "code",
   "execution_count": 21,
   "metadata": {
    "collapsed": false
   },
   "outputs": [],
   "source": [
    "def replace (row):\n",
    "    if row['amax'] != -1 and row['std']==-1:\n",
    "        row['std']=0\n",
    "    return row\n",
    "\n",
    "gd = events.groupby('device_id')\n",
    "\n",
    "longitude = gd['longitude'].agg([np.max, np.min, np.mean, np.std, np.median, stats.mode]).reset_index()\n",
    "longitude['std'].fillna(-1,inplace=True)\n",
    "longitude.replace(to_replace=0, value=-1, inplace=True)\n",
    "longitude = longitude.rename(columns={'amax':'long_max','amin':'long_min','mean':'long_mean','median':'long_median','std':'long_std', 'mode':'long_mode'})\n",
    "\n",
    "\n",
    "latitude = gd['latitude'].agg([np.max, np.min, np.mean, np.std, np.median, stats.mode]).reset_index()\n",
    "latitude['std'].fillna(-1,inplace=True)\n",
    "latitude.replace(to_replace=0, value=-1, inplace=True)\n",
    "latitude = latitude.rename(columns={'amax':'lat_max','amin':'lat_min','mean':'lat_mean','median':'lat_median','std':'lat_std', 'mode':'lat_mode'})\n",
    "\n",
    "hour = gd['hour'].agg([np.max, np.min, np.mean, np.std, np.median, stats.mode]).reset_index()\n",
    "hour = hour.rename(columns={'amax':'hour_max','amin':'hour_min','mean':'hour_mean','median':'hour_median','std':'hour_std', 'mode':'hour_mode'})\n",
    "hour['hour_std'].fillna(0,inplace=True)\n",
    "\n",
    "\n",
    "minute = gd['min'].agg([np.max, np.min, np.mean, np.std, np.median, stats.mode]).reset_index()\n",
    "minute = minute.rename(columns={'amax':'min_max','amin':'min_min','mean':'min_mean','median':'min_median','std':'min_std', 'mode':'min_mode'})\n",
    "minute['min_std'].fillna(0,inplace=True)\n",
    "\n",
    "\n",
    "day = gd['day'].agg([np.max, np.min, np.mean, np.std, np.median, stats.mode]).reset_index()\n",
    "day = day.rename(columns={'amax':'day_max','amin':'day_min','mean':'day_mean','median':'day_median','std':'day_std', 'mode':'day_mode'})\n",
    "day['day_std'].fillna(0,inplace=True)\n",
    "\n",
    "\n",
    "\n",
    "#month = gd['month'].agg([np.max, np.min, np.mean, np.std, np.median]).reset_index()\n",
    "#month = month.rename(columns={'amax':'month_max','amin':'month_min','mean':'month_mean','median':'month_median','std':'month_std'})\n",
    "#month['month_std'].fillna(0,inplace=True)"
   ]
  },
  {
   "cell_type": "code",
   "execution_count": 22,
   "metadata": {
    "collapsed": false
   },
   "outputs": [],
   "source": [
    "longitude['long_mode'] = longitude['long_mode'].map(lambda x: float(x[0]) if float(x[0])!=0 else -1)\n",
    "latitude['lat_mode'] = latitude['lat_mode'].map(lambda x: float(x[0]) if float(x[0])!=0 else -1)\n",
    "hour['hour_mode'] = hour['hour_mode'].map(lambda x: float(x[0]) if float(x[0])!=0 else -1)\n",
    "minute['min_mode'] = minute['min_mode'].map(lambda x: float(x[0]) if float(x[0])!=0 else -1)\n",
    "day['day_mode'] = day['day_mode'].map(lambda x: float(x[0]) if float(x[0])!=0 else -1)"
   ]
  },
  {
   "cell_type": "code",
   "execution_count": null,
   "metadata": {
    "collapsed": true
   },
   "outputs": [],
   "source": []
  },
  {
   "cell_type": "code",
   "execution_count": 23,
   "metadata": {
    "collapsed": false
   },
   "outputs": [],
   "source": [
    "del events"
   ]
  },
  {
   "cell_type": "code",
   "execution_count": 24,
   "metadata": {
    "collapsed": false
   },
   "outputs": [
    {
     "data": {
      "text/html": [
       "<div>\n",
       "<table border=\"1\" class=\"dataframe\">\n",
       "  <thead>\n",
       "    <tr style=\"text-align: right;\">\n",
       "      <th></th>\n",
       "      <th>device_id</th>\n",
       "      <th>lat_max</th>\n",
       "      <th>lat_min</th>\n",
       "      <th>lat_mean</th>\n",
       "      <th>lat_std</th>\n",
       "      <th>lat_median</th>\n",
       "      <th>lat_mode</th>\n",
       "    </tr>\n",
       "  </thead>\n",
       "  <tbody>\n",
       "    <tr>\n",
       "      <th>0</th>\n",
       "      <td>-9222956879900151005</td>\n",
       "      <td>23.19</td>\n",
       "      <td>23.19</td>\n",
       "      <td>23.190000</td>\n",
       "      <td>-1.000000</td>\n",
       "      <td>23.190</td>\n",
       "      <td>23.19</td>\n",
       "    </tr>\n",
       "    <tr>\n",
       "      <th>1</th>\n",
       "      <td>-9222661944218806987</td>\n",
       "      <td>-1.00</td>\n",
       "      <td>-1.00</td>\n",
       "      <td>-1.000000</td>\n",
       "      <td>-1.000000</td>\n",
       "      <td>-1.000</td>\n",
       "      <td>-1.00</td>\n",
       "    </tr>\n",
       "    <tr>\n",
       "      <th>2</th>\n",
       "      <td>-9222399302879214035</td>\n",
       "      <td>-1.00</td>\n",
       "      <td>-1.00</td>\n",
       "      <td>-1.000000</td>\n",
       "      <td>-1.000000</td>\n",
       "      <td>-1.000</td>\n",
       "      <td>-1.00</td>\n",
       "    </tr>\n",
       "    <tr>\n",
       "      <th>3</th>\n",
       "      <td>-9221825537663503111</td>\n",
       "      <td>34.92</td>\n",
       "      <td>33.46</td>\n",
       "      <td>34.211818</td>\n",
       "      <td>0.652633</td>\n",
       "      <td>33.630</td>\n",
       "      <td>34.92</td>\n",
       "    </tr>\n",
       "    <tr>\n",
       "      <th>4</th>\n",
       "      <td>-9221767098072603291</td>\n",
       "      <td>-1.00</td>\n",
       "      <td>-1.00</td>\n",
       "      <td>-1.000000</td>\n",
       "      <td>-1.000000</td>\n",
       "      <td>-1.000</td>\n",
       "      <td>-1.00</td>\n",
       "    </tr>\n",
       "    <tr>\n",
       "      <th>5</th>\n",
       "      <td>-9221079146476055829</td>\n",
       "      <td>-1.00</td>\n",
       "      <td>-1.00</td>\n",
       "      <td>-1.000000</td>\n",
       "      <td>-1.000000</td>\n",
       "      <td>-1.000</td>\n",
       "      <td>-1.00</td>\n",
       "    </tr>\n",
       "    <tr>\n",
       "      <th>6</th>\n",
       "      <td>-9221026417907250887</td>\n",
       "      <td>30.89</td>\n",
       "      <td>30.87</td>\n",
       "      <td>30.871361</td>\n",
       "      <td>0.003993</td>\n",
       "      <td>30.870</td>\n",
       "      <td>30.87</td>\n",
       "    </tr>\n",
       "    <tr>\n",
       "      <th>7</th>\n",
       "      <td>-9220830859283101130</td>\n",
       "      <td>-1.00</td>\n",
       "      <td>-1.00</td>\n",
       "      <td>-1.000000</td>\n",
       "      <td>-1.000000</td>\n",
       "      <td>-1.000</td>\n",
       "      <td>-1.00</td>\n",
       "    </tr>\n",
       "    <tr>\n",
       "      <th>8</th>\n",
       "      <td>-9220452176650064280</td>\n",
       "      <td>-1.00</td>\n",
       "      <td>-1.00</td>\n",
       "      <td>-1.000000</td>\n",
       "      <td>-1.000000</td>\n",
       "      <td>-1.000</td>\n",
       "      <td>-1.00</td>\n",
       "    </tr>\n",
       "    <tr>\n",
       "      <th>9</th>\n",
       "      <td>-9220329415676028483</td>\n",
       "      <td>-1.00</td>\n",
       "      <td>-1.00</td>\n",
       "      <td>-1.000000</td>\n",
       "      <td>-1.000000</td>\n",
       "      <td>-1.000</td>\n",
       "      <td>-1.00</td>\n",
       "    </tr>\n",
       "    <tr>\n",
       "      <th>10</th>\n",
       "      <td>-9220061629197656378</td>\n",
       "      <td>46.65</td>\n",
       "      <td>46.60</td>\n",
       "      <td>46.614231</td>\n",
       "      <td>0.017861</td>\n",
       "      <td>46.600</td>\n",
       "      <td>46.60</td>\n",
       "    </tr>\n",
       "    <tr>\n",
       "      <th>11</th>\n",
       "      <td>-9220053820290758471</td>\n",
       "      <td>38.73</td>\n",
       "      <td>37.23</td>\n",
       "      <td>37.680000</td>\n",
       "      <td>0.699137</td>\n",
       "      <td>37.230</td>\n",
       "      <td>37.23</td>\n",
       "    </tr>\n",
       "    <tr>\n",
       "      <th>12</th>\n",
       "      <td>-9218960997324667698</td>\n",
       "      <td>-1.00</td>\n",
       "      <td>-1.00</td>\n",
       "      <td>-1.000000</td>\n",
       "      <td>-1.000000</td>\n",
       "      <td>-1.000</td>\n",
       "      <td>-1.00</td>\n",
       "    </tr>\n",
       "    <tr>\n",
       "      <th>13</th>\n",
       "      <td>-9218823910602782607</td>\n",
       "      <td>26.01</td>\n",
       "      <td>26.01</td>\n",
       "      <td>26.010000</td>\n",
       "      <td>-1.000000</td>\n",
       "      <td>26.010</td>\n",
       "      <td>26.01</td>\n",
       "    </tr>\n",
       "    <tr>\n",
       "      <th>14</th>\n",
       "      <td>-9218769147970107256</td>\n",
       "      <td>28.60</td>\n",
       "      <td>28.55</td>\n",
       "      <td>28.585000</td>\n",
       "      <td>0.023508</td>\n",
       "      <td>28.600</td>\n",
       "      <td>28.60</td>\n",
       "    </tr>\n",
       "    <tr>\n",
       "      <th>15</th>\n",
       "      <td>-9218056599942247372</td>\n",
       "      <td>-1.00</td>\n",
       "      <td>-1.00</td>\n",
       "      <td>-1.000000</td>\n",
       "      <td>-1.000000</td>\n",
       "      <td>-1.000</td>\n",
       "      <td>-1.00</td>\n",
       "    </tr>\n",
       "    <tr>\n",
       "      <th>16</th>\n",
       "      <td>-9217949267928255020</td>\n",
       "      <td>-1.00</td>\n",
       "      <td>-1.00</td>\n",
       "      <td>-1.000000</td>\n",
       "      <td>-1.000000</td>\n",
       "      <td>-1.000</td>\n",
       "      <td>-1.00</td>\n",
       "    </tr>\n",
       "    <tr>\n",
       "      <th>17</th>\n",
       "      <td>-9217813913945226286</td>\n",
       "      <td>-1.00</td>\n",
       "      <td>-1.00</td>\n",
       "      <td>-1.000000</td>\n",
       "      <td>-1.000000</td>\n",
       "      <td>-1.000</td>\n",
       "      <td>-1.00</td>\n",
       "    </tr>\n",
       "    <tr>\n",
       "      <th>18</th>\n",
       "      <td>-9217515328051764906</td>\n",
       "      <td>-1.00</td>\n",
       "      <td>-1.00</td>\n",
       "      <td>-1.000000</td>\n",
       "      <td>-1.000000</td>\n",
       "      <td>-1.000</td>\n",
       "      <td>-1.00</td>\n",
       "    </tr>\n",
       "    <tr>\n",
       "      <th>19</th>\n",
       "      <td>-9217193238265898015</td>\n",
       "      <td>-1.00</td>\n",
       "      <td>-1.00</td>\n",
       "      <td>-1.000000</td>\n",
       "      <td>-1.000000</td>\n",
       "      <td>-1.000</td>\n",
       "      <td>-1.00</td>\n",
       "    </tr>\n",
       "    <tr>\n",
       "      <th>20</th>\n",
       "      <td>-9216200545381120263</td>\n",
       "      <td>-1.00</td>\n",
       "      <td>-1.00</td>\n",
       "      <td>-1.000000</td>\n",
       "      <td>-1.000000</td>\n",
       "      <td>-1.000</td>\n",
       "      <td>-1.00</td>\n",
       "    </tr>\n",
       "    <tr>\n",
       "      <th>21</th>\n",
       "      <td>-9215964883962797708</td>\n",
       "      <td>-1.00</td>\n",
       "      <td>-1.00</td>\n",
       "      <td>-1.000000</td>\n",
       "      <td>-1.000000</td>\n",
       "      <td>-1.000</td>\n",
       "      <td>-1.00</td>\n",
       "    </tr>\n",
       "    <tr>\n",
       "      <th>22</th>\n",
       "      <td>-9215766592714662253</td>\n",
       "      <td>-1.00</td>\n",
       "      <td>-1.00</td>\n",
       "      <td>-1.000000</td>\n",
       "      <td>-1.000000</td>\n",
       "      <td>-1.000</td>\n",
       "      <td>-1.00</td>\n",
       "    </tr>\n",
       "    <tr>\n",
       "      <th>23</th>\n",
       "      <td>-9215722913042087294</td>\n",
       "      <td>31.69</td>\n",
       "      <td>31.17</td>\n",
       "      <td>31.324788</td>\n",
       "      <td>0.160736</td>\n",
       "      <td>31.270</td>\n",
       "      <td>31.27</td>\n",
       "    </tr>\n",
       "    <tr>\n",
       "      <th>24</th>\n",
       "      <td>-9215352913819638805</td>\n",
       "      <td>22.66</td>\n",
       "      <td>22.66</td>\n",
       "      <td>22.660000</td>\n",
       "      <td>-1.000000</td>\n",
       "      <td>22.660</td>\n",
       "      <td>22.66</td>\n",
       "    </tr>\n",
       "    <tr>\n",
       "      <th>25</th>\n",
       "      <td>-9214850807520229548</td>\n",
       "      <td>-1.00</td>\n",
       "      <td>-1.00</td>\n",
       "      <td>-1.000000</td>\n",
       "      <td>-1.000000</td>\n",
       "      <td>-1.000</td>\n",
       "      <td>-1.00</td>\n",
       "    </tr>\n",
       "    <tr>\n",
       "      <th>26</th>\n",
       "      <td>-9214243372173201436</td>\n",
       "      <td>-1.00</td>\n",
       "      <td>-1.00</td>\n",
       "      <td>-1.000000</td>\n",
       "      <td>-1.000000</td>\n",
       "      <td>-1.000</td>\n",
       "      <td>-1.00</td>\n",
       "    </tr>\n",
       "    <tr>\n",
       "      <th>27</th>\n",
       "      <td>-9213722931755358670</td>\n",
       "      <td>-1.00</td>\n",
       "      <td>-1.00</td>\n",
       "      <td>-1.000000</td>\n",
       "      <td>-1.000000</td>\n",
       "      <td>-1.000</td>\n",
       "      <td>-1.00</td>\n",
       "    </tr>\n",
       "    <tr>\n",
       "      <th>28</th>\n",
       "      <td>-9213411371629884254</td>\n",
       "      <td>36.70</td>\n",
       "      <td>36.68</td>\n",
       "      <td>36.684286</td>\n",
       "      <td>0.008516</td>\n",
       "      <td>36.680</td>\n",
       "      <td>36.68</td>\n",
       "    </tr>\n",
       "    <tr>\n",
       "      <th>29</th>\n",
       "      <td>-9212424538588397592</td>\n",
       "      <td>22.95</td>\n",
       "      <td>22.95</td>\n",
       "      <td>22.950000</td>\n",
       "      <td>-1.000000</td>\n",
       "      <td>22.950</td>\n",
       "      <td>22.95</td>\n",
       "    </tr>\n",
       "    <tr>\n",
       "      <th>...</th>\n",
       "      <td>...</td>\n",
       "      <td>...</td>\n",
       "      <td>...</td>\n",
       "      <td>...</td>\n",
       "      <td>...</td>\n",
       "      <td>...</td>\n",
       "      <td>...</td>\n",
       "    </tr>\n",
       "    <tr>\n",
       "      <th>60835</th>\n",
       "      <td>9213413734487005782</td>\n",
       "      <td>36.89</td>\n",
       "      <td>36.88</td>\n",
       "      <td>36.880208</td>\n",
       "      <td>0.001443</td>\n",
       "      <td>36.880</td>\n",
       "      <td>36.88</td>\n",
       "    </tr>\n",
       "    <tr>\n",
       "      <th>60836</th>\n",
       "      <td>9214077775178562796</td>\n",
       "      <td>31.00</td>\n",
       "      <td>30.99</td>\n",
       "      <td>30.991020</td>\n",
       "      <td>0.003058</td>\n",
       "      <td>30.990</td>\n",
       "      <td>30.99</td>\n",
       "    </tr>\n",
       "    <tr>\n",
       "      <th>60837</th>\n",
       "      <td>9214358787856237198</td>\n",
       "      <td>31.28</td>\n",
       "      <td>31.27</td>\n",
       "      <td>31.275000</td>\n",
       "      <td>0.005270</td>\n",
       "      <td>31.275</td>\n",
       "      <td>31.27</td>\n",
       "    </tr>\n",
       "    <tr>\n",
       "      <th>60838</th>\n",
       "      <td>9214455926389468622</td>\n",
       "      <td>39.94</td>\n",
       "      <td>39.94</td>\n",
       "      <td>39.940000</td>\n",
       "      <td>-1.000000</td>\n",
       "      <td>39.940</td>\n",
       "      <td>39.94</td>\n",
       "    </tr>\n",
       "    <tr>\n",
       "      <th>60839</th>\n",
       "      <td>9214713584881273123</td>\n",
       "      <td>-1.00</td>\n",
       "      <td>-1.00</td>\n",
       "      <td>-1.000000</td>\n",
       "      <td>-1.000000</td>\n",
       "      <td>-1.000</td>\n",
       "      <td>-1.00</td>\n",
       "    </tr>\n",
       "    <tr>\n",
       "      <th>60840</th>\n",
       "      <td>9214756902997105639</td>\n",
       "      <td>30.00</td>\n",
       "      <td>22.91</td>\n",
       "      <td>23.093585</td>\n",
       "      <td>0.966990</td>\n",
       "      <td>22.960</td>\n",
       "      <td>22.96</td>\n",
       "    </tr>\n",
       "    <tr>\n",
       "      <th>60841</th>\n",
       "      <td>9214819372388538787</td>\n",
       "      <td>26.17</td>\n",
       "      <td>26.17</td>\n",
       "      <td>26.170000</td>\n",
       "      <td>-1.000000</td>\n",
       "      <td>26.170</td>\n",
       "      <td>26.17</td>\n",
       "    </tr>\n",
       "    <tr>\n",
       "      <th>60842</th>\n",
       "      <td>9214973890298048476</td>\n",
       "      <td>-1.00</td>\n",
       "      <td>-1.00</td>\n",
       "      <td>-1.000000</td>\n",
       "      <td>-1.000000</td>\n",
       "      <td>-1.000</td>\n",
       "      <td>-1.00</td>\n",
       "    </tr>\n",
       "    <tr>\n",
       "      <th>60843</th>\n",
       "      <td>9215085115859659343</td>\n",
       "      <td>41.81</td>\n",
       "      <td>41.81</td>\n",
       "      <td>41.810000</td>\n",
       "      <td>-1.000000</td>\n",
       "      <td>41.810</td>\n",
       "      <td>41.81</td>\n",
       "    </tr>\n",
       "    <tr>\n",
       "      <th>60844</th>\n",
       "      <td>9215099017641499587</td>\n",
       "      <td>-1.00</td>\n",
       "      <td>-1.00</td>\n",
       "      <td>-1.000000</td>\n",
       "      <td>-1.000000</td>\n",
       "      <td>-1.000</td>\n",
       "      <td>-1.00</td>\n",
       "    </tr>\n",
       "    <tr>\n",
       "      <th>60845</th>\n",
       "      <td>9216703939077805910</td>\n",
       "      <td>-1.00</td>\n",
       "      <td>-1.00</td>\n",
       "      <td>-1.000000</td>\n",
       "      <td>-1.000000</td>\n",
       "      <td>-1.000</td>\n",
       "      <td>-1.00</td>\n",
       "    </tr>\n",
       "    <tr>\n",
       "      <th>60846</th>\n",
       "      <td>9216925254504446539</td>\n",
       "      <td>31.32</td>\n",
       "      <td>31.28</td>\n",
       "      <td>31.318899</td>\n",
       "      <td>0.005984</td>\n",
       "      <td>31.320</td>\n",
       "      <td>31.32</td>\n",
       "    </tr>\n",
       "    <tr>\n",
       "      <th>60847</th>\n",
       "      <td>9217447209795345367</td>\n",
       "      <td>-1.00</td>\n",
       "      <td>-1.00</td>\n",
       "      <td>-1.000000</td>\n",
       "      <td>-1.000000</td>\n",
       "      <td>-1.000</td>\n",
       "      <td>-1.00</td>\n",
       "    </tr>\n",
       "    <tr>\n",
       "      <th>60848</th>\n",
       "      <td>9217638755105369544</td>\n",
       "      <td>-1.00</td>\n",
       "      <td>-1.00</td>\n",
       "      <td>-1.000000</td>\n",
       "      <td>-1.000000</td>\n",
       "      <td>-1.000</td>\n",
       "      <td>-1.00</td>\n",
       "    </tr>\n",
       "    <tr>\n",
       "      <th>60849</th>\n",
       "      <td>9218059356897525342</td>\n",
       "      <td>37.37</td>\n",
       "      <td>37.37</td>\n",
       "      <td>37.370000</td>\n",
       "      <td>-1.000000</td>\n",
       "      <td>37.370</td>\n",
       "      <td>37.37</td>\n",
       "    </tr>\n",
       "    <tr>\n",
       "      <th>60850</th>\n",
       "      <td>9218283674097315131</td>\n",
       "      <td>38.56</td>\n",
       "      <td>36.10</td>\n",
       "      <td>37.089000</td>\n",
       "      <td>1.266039</td>\n",
       "      <td>36.110</td>\n",
       "      <td>36.11</td>\n",
       "    </tr>\n",
       "    <tr>\n",
       "      <th>60851</th>\n",
       "      <td>9218385100288809344</td>\n",
       "      <td>-1.00</td>\n",
       "      <td>-1.00</td>\n",
       "      <td>-1.000000</td>\n",
       "      <td>-1.000000</td>\n",
       "      <td>-1.000</td>\n",
       "      <td>-1.00</td>\n",
       "    </tr>\n",
       "    <tr>\n",
       "      <th>60852</th>\n",
       "      <td>9218742251459735564</td>\n",
       "      <td>-1.00</td>\n",
       "      <td>-1.00</td>\n",
       "      <td>-1.000000</td>\n",
       "      <td>-1.000000</td>\n",
       "      <td>-1.000</td>\n",
       "      <td>-1.00</td>\n",
       "    </tr>\n",
       "    <tr>\n",
       "      <th>60853</th>\n",
       "      <td>9218834552844225772</td>\n",
       "      <td>30.00</td>\n",
       "      <td>22.75</td>\n",
       "      <td>23.902000</td>\n",
       "      <td>2.318932</td>\n",
       "      <td>22.760</td>\n",
       "      <td>22.76</td>\n",
       "    </tr>\n",
       "    <tr>\n",
       "      <th>60854</th>\n",
       "      <td>9218976239652435877</td>\n",
       "      <td>-1.00</td>\n",
       "      <td>-1.00</td>\n",
       "      <td>-1.000000</td>\n",
       "      <td>-1.000000</td>\n",
       "      <td>-1.000</td>\n",
       "      <td>-1.00</td>\n",
       "    </tr>\n",
       "    <tr>\n",
       "      <th>60855</th>\n",
       "      <td>9219164468944552013</td>\n",
       "      <td>30.28</td>\n",
       "      <td>30.21</td>\n",
       "      <td>30.264128</td>\n",
       "      <td>0.011921</td>\n",
       "      <td>30.270</td>\n",
       "      <td>30.27</td>\n",
       "    </tr>\n",
       "    <tr>\n",
       "      <th>60856</th>\n",
       "      <td>9219842210460037807</td>\n",
       "      <td>26.66</td>\n",
       "      <td>26.52</td>\n",
       "      <td>26.524667</td>\n",
       "      <td>0.025560</td>\n",
       "      <td>26.520</td>\n",
       "      <td>26.52</td>\n",
       "    </tr>\n",
       "    <tr>\n",
       "      <th>60857</th>\n",
       "      <td>9219937375310355234</td>\n",
       "      <td>31.12</td>\n",
       "      <td>31.11</td>\n",
       "      <td>31.112115</td>\n",
       "      <td>0.004124</td>\n",
       "      <td>31.110</td>\n",
       "      <td>31.11</td>\n",
       "    </tr>\n",
       "    <tr>\n",
       "      <th>60858</th>\n",
       "      <td>9220562120895859549</td>\n",
       "      <td>33.60</td>\n",
       "      <td>33.01</td>\n",
       "      <td>33.526667</td>\n",
       "      <td>0.179525</td>\n",
       "      <td>33.600</td>\n",
       "      <td>33.60</td>\n",
       "    </tr>\n",
       "    <tr>\n",
       "      <th>60859</th>\n",
       "      <td>9220814716773471568</td>\n",
       "      <td>-1.00</td>\n",
       "      <td>-1.00</td>\n",
       "      <td>-1.000000</td>\n",
       "      <td>-1.000000</td>\n",
       "      <td>-1.000</td>\n",
       "      <td>-1.00</td>\n",
       "    </tr>\n",
       "    <tr>\n",
       "      <th>60860</th>\n",
       "      <td>9220914901466458680</td>\n",
       "      <td>32.67</td>\n",
       "      <td>32.59</td>\n",
       "      <td>32.668182</td>\n",
       "      <td>0.012060</td>\n",
       "      <td>32.670</td>\n",
       "      <td>32.67</td>\n",
       "    </tr>\n",
       "    <tr>\n",
       "      <th>60861</th>\n",
       "      <td>9221586026451102237</td>\n",
       "      <td>31.34</td>\n",
       "      <td>31.20</td>\n",
       "      <td>31.255444</td>\n",
       "      <td>0.056313</td>\n",
       "      <td>31.210</td>\n",
       "      <td>31.21</td>\n",
       "    </tr>\n",
       "    <tr>\n",
       "      <th>60862</th>\n",
       "      <td>9222110179000857683</td>\n",
       "      <td>-1.00</td>\n",
       "      <td>-1.00</td>\n",
       "      <td>-1.000000</td>\n",
       "      <td>-1.000000</td>\n",
       "      <td>-1.000</td>\n",
       "      <td>-1.00</td>\n",
       "    </tr>\n",
       "    <tr>\n",
       "      <th>60863</th>\n",
       "      <td>9222355582733155698</td>\n",
       "      <td>39.78</td>\n",
       "      <td>39.78</td>\n",
       "      <td>39.780000</td>\n",
       "      <td>-1.000000</td>\n",
       "      <td>39.780</td>\n",
       "      <td>39.78</td>\n",
       "    </tr>\n",
       "    <tr>\n",
       "      <th>60864</th>\n",
       "      <td>9222539910510672930</td>\n",
       "      <td>-1.00</td>\n",
       "      <td>-1.00</td>\n",
       "      <td>-1.000000</td>\n",
       "      <td>-1.000000</td>\n",
       "      <td>-1.000</td>\n",
       "      <td>-1.00</td>\n",
       "    </tr>\n",
       "  </tbody>\n",
       "</table>\n",
       "<p>60865 rows × 7 columns</p>\n",
       "</div>"
      ],
      "text/plain": [
       "                 device_id  lat_max  lat_min   lat_mean   lat_std  lat_median  \\\n",
       "0     -9222956879900151005    23.19    23.19  23.190000 -1.000000      23.190   \n",
       "1     -9222661944218806987    -1.00    -1.00  -1.000000 -1.000000      -1.000   \n",
       "2     -9222399302879214035    -1.00    -1.00  -1.000000 -1.000000      -1.000   \n",
       "3     -9221825537663503111    34.92    33.46  34.211818  0.652633      33.630   \n",
       "4     -9221767098072603291    -1.00    -1.00  -1.000000 -1.000000      -1.000   \n",
       "5     -9221079146476055829    -1.00    -1.00  -1.000000 -1.000000      -1.000   \n",
       "6     -9221026417907250887    30.89    30.87  30.871361  0.003993      30.870   \n",
       "7     -9220830859283101130    -1.00    -1.00  -1.000000 -1.000000      -1.000   \n",
       "8     -9220452176650064280    -1.00    -1.00  -1.000000 -1.000000      -1.000   \n",
       "9     -9220329415676028483    -1.00    -1.00  -1.000000 -1.000000      -1.000   \n",
       "10    -9220061629197656378    46.65    46.60  46.614231  0.017861      46.600   \n",
       "11    -9220053820290758471    38.73    37.23  37.680000  0.699137      37.230   \n",
       "12    -9218960997324667698    -1.00    -1.00  -1.000000 -1.000000      -1.000   \n",
       "13    -9218823910602782607    26.01    26.01  26.010000 -1.000000      26.010   \n",
       "14    -9218769147970107256    28.60    28.55  28.585000  0.023508      28.600   \n",
       "15    -9218056599942247372    -1.00    -1.00  -1.000000 -1.000000      -1.000   \n",
       "16    -9217949267928255020    -1.00    -1.00  -1.000000 -1.000000      -1.000   \n",
       "17    -9217813913945226286    -1.00    -1.00  -1.000000 -1.000000      -1.000   \n",
       "18    -9217515328051764906    -1.00    -1.00  -1.000000 -1.000000      -1.000   \n",
       "19    -9217193238265898015    -1.00    -1.00  -1.000000 -1.000000      -1.000   \n",
       "20    -9216200545381120263    -1.00    -1.00  -1.000000 -1.000000      -1.000   \n",
       "21    -9215964883962797708    -1.00    -1.00  -1.000000 -1.000000      -1.000   \n",
       "22    -9215766592714662253    -1.00    -1.00  -1.000000 -1.000000      -1.000   \n",
       "23    -9215722913042087294    31.69    31.17  31.324788  0.160736      31.270   \n",
       "24    -9215352913819638805    22.66    22.66  22.660000 -1.000000      22.660   \n",
       "25    -9214850807520229548    -1.00    -1.00  -1.000000 -1.000000      -1.000   \n",
       "26    -9214243372173201436    -1.00    -1.00  -1.000000 -1.000000      -1.000   \n",
       "27    -9213722931755358670    -1.00    -1.00  -1.000000 -1.000000      -1.000   \n",
       "28    -9213411371629884254    36.70    36.68  36.684286  0.008516      36.680   \n",
       "29    -9212424538588397592    22.95    22.95  22.950000 -1.000000      22.950   \n",
       "...                    ...      ...      ...        ...       ...         ...   \n",
       "60835  9213413734487005782    36.89    36.88  36.880208  0.001443      36.880   \n",
       "60836  9214077775178562796    31.00    30.99  30.991020  0.003058      30.990   \n",
       "60837  9214358787856237198    31.28    31.27  31.275000  0.005270      31.275   \n",
       "60838  9214455926389468622    39.94    39.94  39.940000 -1.000000      39.940   \n",
       "60839  9214713584881273123    -1.00    -1.00  -1.000000 -1.000000      -1.000   \n",
       "60840  9214756902997105639    30.00    22.91  23.093585  0.966990      22.960   \n",
       "60841  9214819372388538787    26.17    26.17  26.170000 -1.000000      26.170   \n",
       "60842  9214973890298048476    -1.00    -1.00  -1.000000 -1.000000      -1.000   \n",
       "60843  9215085115859659343    41.81    41.81  41.810000 -1.000000      41.810   \n",
       "60844  9215099017641499587    -1.00    -1.00  -1.000000 -1.000000      -1.000   \n",
       "60845  9216703939077805910    -1.00    -1.00  -1.000000 -1.000000      -1.000   \n",
       "60846  9216925254504446539    31.32    31.28  31.318899  0.005984      31.320   \n",
       "60847  9217447209795345367    -1.00    -1.00  -1.000000 -1.000000      -1.000   \n",
       "60848  9217638755105369544    -1.00    -1.00  -1.000000 -1.000000      -1.000   \n",
       "60849  9218059356897525342    37.37    37.37  37.370000 -1.000000      37.370   \n",
       "60850  9218283674097315131    38.56    36.10  37.089000  1.266039      36.110   \n",
       "60851  9218385100288809344    -1.00    -1.00  -1.000000 -1.000000      -1.000   \n",
       "60852  9218742251459735564    -1.00    -1.00  -1.000000 -1.000000      -1.000   \n",
       "60853  9218834552844225772    30.00    22.75  23.902000  2.318932      22.760   \n",
       "60854  9218976239652435877    -1.00    -1.00  -1.000000 -1.000000      -1.000   \n",
       "60855  9219164468944552013    30.28    30.21  30.264128  0.011921      30.270   \n",
       "60856  9219842210460037807    26.66    26.52  26.524667  0.025560      26.520   \n",
       "60857  9219937375310355234    31.12    31.11  31.112115  0.004124      31.110   \n",
       "60858  9220562120895859549    33.60    33.01  33.526667  0.179525      33.600   \n",
       "60859  9220814716773471568    -1.00    -1.00  -1.000000 -1.000000      -1.000   \n",
       "60860  9220914901466458680    32.67    32.59  32.668182  0.012060      32.670   \n",
       "60861  9221586026451102237    31.34    31.20  31.255444  0.056313      31.210   \n",
       "60862  9222110179000857683    -1.00    -1.00  -1.000000 -1.000000      -1.000   \n",
       "60863  9222355582733155698    39.78    39.78  39.780000 -1.000000      39.780   \n",
       "60864  9222539910510672930    -1.00    -1.00  -1.000000 -1.000000      -1.000   \n",
       "\n",
       "       lat_mode  \n",
       "0         23.19  \n",
       "1         -1.00  \n",
       "2         -1.00  \n",
       "3         34.92  \n",
       "4         -1.00  \n",
       "5         -1.00  \n",
       "6         30.87  \n",
       "7         -1.00  \n",
       "8         -1.00  \n",
       "9         -1.00  \n",
       "10        46.60  \n",
       "11        37.23  \n",
       "12        -1.00  \n",
       "13        26.01  \n",
       "14        28.60  \n",
       "15        -1.00  \n",
       "16        -1.00  \n",
       "17        -1.00  \n",
       "18        -1.00  \n",
       "19        -1.00  \n",
       "20        -1.00  \n",
       "21        -1.00  \n",
       "22        -1.00  \n",
       "23        31.27  \n",
       "24        22.66  \n",
       "25        -1.00  \n",
       "26        -1.00  \n",
       "27        -1.00  \n",
       "28        36.68  \n",
       "29        22.95  \n",
       "...         ...  \n",
       "60835     36.88  \n",
       "60836     30.99  \n",
       "60837     31.27  \n",
       "60838     39.94  \n",
       "60839     -1.00  \n",
       "60840     22.96  \n",
       "60841     26.17  \n",
       "60842     -1.00  \n",
       "60843     41.81  \n",
       "60844     -1.00  \n",
       "60845     -1.00  \n",
       "60846     31.32  \n",
       "60847     -1.00  \n",
       "60848     -1.00  \n",
       "60849     37.37  \n",
       "60850     36.11  \n",
       "60851     -1.00  \n",
       "60852     -1.00  \n",
       "60853     22.76  \n",
       "60854     -1.00  \n",
       "60855     30.27  \n",
       "60856     26.52  \n",
       "60857     31.11  \n",
       "60858     33.60  \n",
       "60859     -1.00  \n",
       "60860     32.67  \n",
       "60861     31.21  \n",
       "60862     -1.00  \n",
       "60863     39.78  \n",
       "60864     -1.00  \n",
       "\n",
       "[60865 rows x 7 columns]"
      ]
     },
     "execution_count": 24,
     "metadata": {},
     "output_type": "execute_result"
    }
   ],
   "source": [
    "latitude    "
   ]
  },
  {
   "cell_type": "code",
   "execution_count": 25,
   "metadata": {
    "collapsed": false
   },
   "outputs": [
    {
     "name": "stdout",
     "output_type": "stream",
     "text": [
      "Apps data: train shape (74645, 19237), test shape (112071, 19237)\n"
     ]
    }
   ],
   "source": [
    "d = deviceapps.dropna(subset=['trainrow'])\n",
    "Xtr_app = csr_matrix((np.ones(d.shape[0]), (d.trainrow, d.app)),shape=(train.shape[0],napps))\n",
    "d = deviceapps.dropna(subset=['testrow'])\n",
    "Xte_app = csr_matrix((np.ones(d.shape[0]), (d.testrow, d.app)), shape=(test.shape[0],napps))\n",
    "\n",
    "print('Apps data: train shape {}, test shape {}'.format(Xtr_app.shape, Xte_app.shape))"
   ]
  },
  {
   "cell_type": "code",
   "execution_count": 26,
   "metadata": {
    "collapsed": false
   },
   "outputs": [
    {
     "data": {
      "text/html": [
       "<div>\n",
       "<table border=\"1\" class=\"dataframe\">\n",
       "  <thead>\n",
       "    <tr style=\"text-align: right;\">\n",
       "      <th></th>\n",
       "      <th>app_id</th>\n",
       "      <th>label_id</th>\n",
       "    </tr>\n",
       "  </thead>\n",
       "  <tbody>\n",
       "    <tr>\n",
       "      <th>0</th>\n",
       "      <td>7324884708820027918</td>\n",
       "      <td>251</td>\n",
       "    </tr>\n",
       "    <tr>\n",
       "      <th>1</th>\n",
       "      <td>-4494216993218550286</td>\n",
       "      <td>251</td>\n",
       "    </tr>\n",
       "    <tr>\n",
       "      <th>2</th>\n",
       "      <td>6058196446775239644</td>\n",
       "      <td>406</td>\n",
       "    </tr>\n",
       "    <tr>\n",
       "      <th>3</th>\n",
       "      <td>6058196446775239644</td>\n",
       "      <td>407</td>\n",
       "    </tr>\n",
       "    <tr>\n",
       "      <th>4</th>\n",
       "      <td>8694625920731541625</td>\n",
       "      <td>406</td>\n",
       "    </tr>\n",
       "  </tbody>\n",
       "</table>\n",
       "</div>"
      ],
      "text/plain": [
       "                app_id  label_id\n",
       "0  7324884708820027918       251\n",
       "1 -4494216993218550286       251\n",
       "2  6058196446775239644       406\n",
       "3  6058196446775239644       407\n",
       "4  8694625920731541625       406"
      ]
     },
     "execution_count": 26,
     "metadata": {},
     "output_type": "execute_result"
    }
   ],
   "source": [
    "#applabels = pd.read_csv('./transformed_data/app_labels.csv')\n",
    "applabels.head()"
   ]
  },
  {
   "cell_type": "code",
   "execution_count": 28,
   "metadata": {
    "collapsed": false
   },
   "outputs": [],
   "source": [
    "applabels = applabels.loc[applabels.app_id.isin(appevents.app_id.unique())]\n",
    "applabels['app'] = appencoder.transform(applabels.app_id)\n",
    "labelencoder = LabelEncoder().fit(applabels.label_id)\n",
    "applabels['label'] = labelencoder.transform(applabels.label_id)\n",
    "nlabels = len(labelencoder.classes_)"
   ]
  },
  {
   "cell_type": "code",
   "execution_count": 29,
   "metadata": {
    "collapsed": false
   },
   "outputs": [
    {
     "data": {
      "text/plain": [
       "492"
      ]
     },
     "execution_count": 29,
     "metadata": {},
     "output_type": "execute_result"
    }
   ],
   "source": [
    "nlabels"
   ]
  },
  {
   "cell_type": "code",
   "execution_count": 30,
   "metadata": {
    "collapsed": false
   },
   "outputs": [
    {
     "data": {
      "text/html": [
       "<div>\n",
       "<table border=\"1\" class=\"dataframe\">\n",
       "  <thead>\n",
       "    <tr style=\"text-align: right;\">\n",
       "      <th></th>\n",
       "      <th>device_id</th>\n",
       "      <th>label</th>\n",
       "      <th>size</th>\n",
       "      <th>trainrow</th>\n",
       "      <th>testrow</th>\n",
       "    </tr>\n",
       "  </thead>\n",
       "  <tbody>\n",
       "    <tr>\n",
       "      <th>0</th>\n",
       "      <td>-9222956879900151005</td>\n",
       "      <td>117</td>\n",
       "      <td>1</td>\n",
       "      <td>21594.0</td>\n",
       "      <td>NaN</td>\n",
       "    </tr>\n",
       "    <tr>\n",
       "      <th>1</th>\n",
       "      <td>-9222956879900151005</td>\n",
       "      <td>120</td>\n",
       "      <td>1</td>\n",
       "      <td>21594.0</td>\n",
       "      <td>NaN</td>\n",
       "    </tr>\n",
       "    <tr>\n",
       "      <th>2</th>\n",
       "      <td>-9222956879900151005</td>\n",
       "      <td>126</td>\n",
       "      <td>1</td>\n",
       "      <td>21594.0</td>\n",
       "      <td>NaN</td>\n",
       "    </tr>\n",
       "    <tr>\n",
       "      <th>3</th>\n",
       "      <td>-9222956879900151005</td>\n",
       "      <td>138</td>\n",
       "      <td>2</td>\n",
       "      <td>21594.0</td>\n",
       "      <td>NaN</td>\n",
       "    </tr>\n",
       "    <tr>\n",
       "      <th>4</th>\n",
       "      <td>-9222956879900151005</td>\n",
       "      <td>147</td>\n",
       "      <td>2</td>\n",
       "      <td>21594.0</td>\n",
       "      <td>NaN</td>\n",
       "    </tr>\n",
       "  </tbody>\n",
       "</table>\n",
       "</div>"
      ],
      "text/plain": [
       "             device_id  label  size  trainrow  testrow\n",
       "0 -9222956879900151005    117     1   21594.0      NaN\n",
       "1 -9222956879900151005    120     1   21594.0      NaN\n",
       "2 -9222956879900151005    126     1   21594.0      NaN\n",
       "3 -9222956879900151005    138     2   21594.0      NaN\n",
       "4 -9222956879900151005    147     2   21594.0      NaN"
      ]
     },
     "execution_count": 30,
     "metadata": {},
     "output_type": "execute_result"
    }
   ],
   "source": [
    "devicelabels = (deviceapps[['device_id','app']]\n",
    "                .merge(applabels[['app','label']])\n",
    "                .groupby(['device_id','label'])['app'].agg(['size'])\n",
    "                .merge(train[['trainrow']], how='left', left_index=True, right_index=True)\n",
    "                .merge(test[['testrow']], how='left', left_index=True, right_index=True)\n",
    "                .reset_index())\n",
    "devicelabels.head()"
   ]
  },
  {
   "cell_type": "code",
   "execution_count": 31,
   "metadata": {
    "collapsed": false
   },
   "outputs": [
    {
     "name": "stdout",
     "output_type": "stream",
     "text": [
      "Labels data: train shape (74645, 492), test shape (112071, 492)\n"
     ]
    }
   ],
   "source": [
    "d = devicelabels.dropna(subset=['trainrow'])\n",
    "Xtr_label = csr_matrix((np.ones(d.shape[0]), (d.trainrow, d.label)), shape=(train.shape[0],nlabels))\n",
    "d = devicelabels.dropna(subset=['testrow'])\n",
    "Xte_label = csr_matrix((np.ones(d.shape[0]), (d.testrow, d.label)),shape=(test.shape[0],nlabels))\n",
    "print('Labels data: train shape {}, test shape {}'.format(Xtr_label.shape, Xte_label.shape))"
   ]
  },
  {
   "cell_type": "code",
   "execution_count": 32,
   "metadata": {
    "collapsed": false
   },
   "outputs": [
    {
     "name": "stdout",
     "output_type": "stream",
     "text": [
      "All features: train shape (74645, 21527), test shape (112071, 21527)\n"
     ]
    }
   ],
   "source": [
    "X_train = hstack((Xtr_brand, Xtr_model, Xtr_app, Xtr_label), format='csr')\n",
    "X_test =  hstack((Xte_brand, Xte_model, Xte_app, Xte_label), format='csr')\n",
    "print('All features: train shape {}, test shape {}'.format(X_train.shape, X_test.shape))"
   ]
  },
  {
   "cell_type": "code",
   "execution_count": 33,
   "metadata": {
    "collapsed": false
   },
   "outputs": [],
   "source": [
    "targetencoder = LabelEncoder().fit(train.group)\n",
    "Y_train = targetencoder.transform(train.group)\n",
    "nclasses = len(targetencoder.classes_)"
   ]
  },
  {
   "cell_type": "markdown",
   "metadata": {
    "collapsed": false
   },
   "source": [
    "Now that I have merge all space matrices I do feature selection (f_classif). I test which % works best with Logistic regression:"
   ]
  },
  {
   "cell_type": "code",
   "execution_count": 34,
   "metadata": {
    "collapsed": false
   },
   "outputs": [
    {
     "name": "stdout",
     "output_type": "stream",
     "text": [
      "All features: train shape (74645, 21527), test shape (112071, 21527)\n"
     ]
    },
    {
     "name": "stderr",
     "output_type": "stream",
     "text": [
      "C:\\Anaconda3\\lib\\site-packages\\sklearn\\feature_selection\\univariate_selection.py:113: UserWarning: Features [0 0 0 ..., 0 0 0] are constant.\n",
      "  UserWarning)\n"
     ]
    },
    {
     "name": "stdout",
     "output_type": "stream",
     "text": [
      "Fitting 5 folds for each of 4 candidates, totalling 20 fits\n"
     ]
    },
    {
     "name": "stderr",
     "output_type": "stream",
     "text": [
      "[Parallel(n_jobs=-1)]: Done  20 out of  20 | elapsed:  2.9min finished\n"
     ]
    },
    {
     "name": "stdout",
     "output_type": "stream",
     "text": [
      "Feature sel % 23\n",
      "# Num of Features:  4951\n",
      "Best parameters found by grid search: {'C': 0.02}\n",
      "Best CV score: -2.28075868789\n",
      "Best CV score: [mean: -2.28317, std: 0.03912, params: {'C': 0.01}, mean: -2.28076, std: 0.04088, params: {'C': 0.02}, mean: -2.28296, std: 0.04120, params: {'C': 0.03}, mean: -2.29025, std: 0.04074, params: {'C': 0.05}]\n",
      "All features: train shape (74645, 21527), test shape (112071, 21527)\n"
     ]
    },
    {
     "name": "stderr",
     "output_type": "stream",
     "text": [
      "C:\\Anaconda3\\lib\\site-packages\\sklearn\\feature_selection\\univariate_selection.py:113: UserWarning: Features [0 0 0 ..., 0 0 0] are constant.\n",
      "  UserWarning)\n"
     ]
    },
    {
     "name": "stdout",
     "output_type": "stream",
     "text": [
      "Fitting 5 folds for each of 4 candidates, totalling 20 fits\n"
     ]
    },
    {
     "name": "stderr",
     "output_type": "stream",
     "text": [
      "[Parallel(n_jobs=-1)]: Done  20 out of  20 | elapsed:  2.9min finished\n"
     ]
    },
    {
     "name": "stdout",
     "output_type": "stream",
     "text": [
      "Feature sel % 22\n",
      "# Num of Features:  4735\n",
      "Best parameters found by grid search: {'C': 0.02}\n",
      "Best CV score: -2.28074957969\n",
      "Best CV score: [mean: -2.28322, std: 0.03910, params: {'C': 0.01}, mean: -2.28075, std: 0.04082, params: {'C': 0.02}, mean: -2.28286, std: 0.04135, params: {'C': 0.03}, mean: -2.28961, std: 0.04070, params: {'C': 0.05}]\n",
      "All features: train shape (74645, 21527), test shape (112071, 21527)\n"
     ]
    },
    {
     "name": "stderr",
     "output_type": "stream",
     "text": [
      "C:\\Anaconda3\\lib\\site-packages\\sklearn\\feature_selection\\univariate_selection.py:113: UserWarning: Features [0 0 0 ..., 0 0 0] are constant.\n",
      "  UserWarning)\n"
     ]
    },
    {
     "name": "stdout",
     "output_type": "stream",
     "text": [
      "Fitting 5 folds for each of 4 candidates, totalling 20 fits\n"
     ]
    },
    {
     "name": "stderr",
     "output_type": "stream",
     "text": [
      "[Parallel(n_jobs=-1)]: Done  20 out of  20 | elapsed:  2.8min finished\n"
     ]
    },
    {
     "name": "stdout",
     "output_type": "stream",
     "text": [
      "Feature sel % 24\n",
      "# Num of Features:  5166\n",
      "Best parameters found by grid search: {'C': 0.02}\n",
      "Best CV score: -2.28077968275\n",
      "Best CV score: [mean: -2.28317, std: 0.03913, params: {'C': 0.01}, mean: -2.28078, std: 0.04086, params: {'C': 0.02}, mean: -2.28290, std: 0.04129, params: {'C': 0.03}, mean: -2.29048, std: 0.04156, params: {'C': 0.05}]\n",
      "All features: train shape (74645, 21527), test shape (112071, 21527)\n"
     ]
    },
    {
     "name": "stderr",
     "output_type": "stream",
     "text": [
      "C:\\Anaconda3\\lib\\site-packages\\sklearn\\feature_selection\\univariate_selection.py:113: UserWarning: Features [0 0 0 ..., 0 0 0] are constant.\n",
      "  UserWarning)\n"
     ]
    },
    {
     "name": "stdout",
     "output_type": "stream",
     "text": [
      "Fitting 5 folds for each of 4 candidates, totalling 20 fits\n"
     ]
    },
    {
     "name": "stderr",
     "output_type": "stream",
     "text": [
      "[Parallel(n_jobs=-1)]: Done  20 out of  20 | elapsed:  3.0min finished\n"
     ]
    },
    {
     "name": "stdout",
     "output_type": "stream",
     "text": [
      "Feature sel % 25\n",
      "# Num of Features:  5381\n",
      "Best parameters found by grid search: {'C': 0.02}\n",
      "Best CV score: -2.28075333319\n",
      "Best CV score: [mean: -2.28317, std: 0.03912, params: {'C': 0.01}, mean: -2.28075, std: 0.04084, params: {'C': 0.02}, mean: -2.28283, std: 0.04125, params: {'C': 0.03}, mean: -2.29042, std: 0.04089, params: {'C': 0.05}]\n"
     ]
    }
   ],
   "source": [
    "for i in (20,21,22):\n",
    "    \n",
    "    X_train = hstack((Xtr_brand, Xtr_model, Xtr_app, Xtr_label), format='csr')\n",
    "    X_test =  hstack((Xte_brand, Xte_model, Xte_app, Xte_label), format='csr')\n",
    "    print('All features: train shape {}, test shape {}'.format(X_train.shape, X_test.shape))\n",
    "    \n",
    "    targetencoder = LabelEncoder().fit(train.group)\n",
    "    Y_train = targetencoder.transform(train.group)\n",
    "    nclasses = len(targetencoder.classes_)\n",
    "           \n",
    "    selector = SelectPercentile(f_classif, percentile=i)\n",
    "    selector.fit(X_train, Y_train)\n",
    "\n",
    "    X_train = selector.transform(X_train)\n",
    "    X_test = selector.transform(X_test)\n",
    "\n",
    "    lg = LogisticRegression(random_state=23, fit_intercept=True, class_weight= None,multi_class='multinomial',solver='lbfgs')\n",
    "    param_grid = {'C': [0.01,0.02]}\n",
    "    lg_gs = grid_search.GridSearchCV(estimator = lg, param_grid = param_grid, cv = 5, n_jobs=-1, scoring='log_loss', error_score=0, verbose=2) \n",
    "    lg_gs.fit(X_train, Y_train)\n",
    "    print(\"Feature sel %\",i)\n",
    "    print(\"# Num of Features: \", X_train.shape[1])\n",
    "    print(\"Best parameters found by grid search:\", lg_gs.best_params_)\n",
    "    print(\"Best CV score:\", lg_gs.best_score_)\n",
    "    print(\"Best CV score:\", lg_gs.grid_scores_)\n"
   ]
  },
  {
   "cell_type": "markdown",
   "metadata": {},
   "source": [
    "Now I calculate the probs for every group and join these results with long, lat and time info to run a random forest for final predictions"
   ]
  },
  {
   "cell_type": "code",
   "execution_count": 35,
   "metadata": {
    "collapsed": false
   },
   "outputs": [
    {
     "name": "stdout",
     "output_type": "stream",
     "text": [
      "(74645, 13)\n"
     ]
    },
    {
     "data": {
      "text/html": [
       "<div>\n",
       "<table border=\"1\" class=\"dataframe\">\n",
       "  <thead>\n",
       "    <tr style=\"text-align: right;\">\n",
       "      <th></th>\n",
       "      <th>device_id</th>\n",
       "      <th>F23-</th>\n",
       "      <th>F24-26</th>\n",
       "      <th>F27-28</th>\n",
       "      <th>F29-32</th>\n",
       "      <th>F33-42</th>\n",
       "      <th>F43+</th>\n",
       "      <th>M22-</th>\n",
       "      <th>M23-26</th>\n",
       "      <th>M27-28</th>\n",
       "      <th>M29-31</th>\n",
       "      <th>M32-38</th>\n",
       "      <th>M39+</th>\n",
       "    </tr>\n",
       "  </thead>\n",
       "  <tbody>\n",
       "    <tr>\n",
       "      <th>0</th>\n",
       "      <td>-8076087639492063270</td>\n",
       "      <td>0.046878</td>\n",
       "      <td>0.065165</td>\n",
       "      <td>0.042776</td>\n",
       "      <td>0.062275</td>\n",
       "      <td>0.056507</td>\n",
       "      <td>0.043436</td>\n",
       "      <td>0.091346</td>\n",
       "      <td>0.165146</td>\n",
       "      <td>0.098118</td>\n",
       "      <td>0.102053</td>\n",
       "      <td>0.132843</td>\n",
       "      <td>0.093459</td>\n",
       "    </tr>\n",
       "    <tr>\n",
       "      <th>1</th>\n",
       "      <td>-2897161552818060146</td>\n",
       "      <td>0.046878</td>\n",
       "      <td>0.065165</td>\n",
       "      <td>0.042776</td>\n",
       "      <td>0.062275</td>\n",
       "      <td>0.056507</td>\n",
       "      <td>0.043436</td>\n",
       "      <td>0.091346</td>\n",
       "      <td>0.165146</td>\n",
       "      <td>0.098118</td>\n",
       "      <td>0.102053</td>\n",
       "      <td>0.132843</td>\n",
       "      <td>0.093459</td>\n",
       "    </tr>\n",
       "    <tr>\n",
       "      <th>2</th>\n",
       "      <td>-8260683887967679142</td>\n",
       "      <td>0.129003</td>\n",
       "      <td>0.065807</td>\n",
       "      <td>0.114101</td>\n",
       "      <td>0.065997</td>\n",
       "      <td>0.036978</td>\n",
       "      <td>0.034790</td>\n",
       "      <td>0.027287</td>\n",
       "      <td>0.107192</td>\n",
       "      <td>0.036948</td>\n",
       "      <td>0.067977</td>\n",
       "      <td>0.189286</td>\n",
       "      <td>0.124635</td>\n",
       "    </tr>\n",
       "    <tr>\n",
       "      <th>3</th>\n",
       "      <td>-4938849341048082022</td>\n",
       "      <td>0.059445</td>\n",
       "      <td>0.059776</td>\n",
       "      <td>0.042987</td>\n",
       "      <td>0.066272</td>\n",
       "      <td>0.077406</td>\n",
       "      <td>0.058205</td>\n",
       "      <td>0.102712</td>\n",
       "      <td>0.122706</td>\n",
       "      <td>0.078157</td>\n",
       "      <td>0.100491</td>\n",
       "      <td>0.124623</td>\n",
       "      <td>0.107220</td>\n",
       "    </tr>\n",
       "    <tr>\n",
       "      <th>4</th>\n",
       "      <td>245133531816851882</td>\n",
       "      <td>0.062773</td>\n",
       "      <td>0.070972</td>\n",
       "      <td>0.050278</td>\n",
       "      <td>0.062266</td>\n",
       "      <td>0.071374</td>\n",
       "      <td>0.044189</td>\n",
       "      <td>0.132311</td>\n",
       "      <td>0.142678</td>\n",
       "      <td>0.080909</td>\n",
       "      <td>0.098209</td>\n",
       "      <td>0.097001</td>\n",
       "      <td>0.087039</td>\n",
       "    </tr>\n",
       "  </tbody>\n",
       "</table>\n",
       "</div>"
      ],
      "text/plain": [
       "             device_id      F23-    F24-26    F27-28    F29-32    F33-42  \\\n",
       "0 -8076087639492063270  0.046878  0.065165  0.042776  0.062275  0.056507   \n",
       "1 -2897161552818060146  0.046878  0.065165  0.042776  0.062275  0.056507   \n",
       "2 -8260683887967679142  0.129003  0.065807  0.114101  0.065997  0.036978   \n",
       "3 -4938849341048082022  0.059445  0.059776  0.042987  0.066272  0.077406   \n",
       "4   245133531816851882  0.062773  0.070972  0.050278  0.062266  0.071374   \n",
       "\n",
       "       F43+      M22-    M23-26    M27-28    M29-31    M32-38      M39+  \n",
       "0  0.043436  0.091346  0.165146  0.098118  0.102053  0.132843  0.093459  \n",
       "1  0.043436  0.091346  0.165146  0.098118  0.102053  0.132843  0.093459  \n",
       "2  0.034790  0.027287  0.107192  0.036948  0.067977  0.189286  0.124635  \n",
       "3  0.058205  0.102712  0.122706  0.078157  0.100491  0.124623  0.107220  \n",
       "4  0.044189  0.132311  0.142678  0.080909  0.098209  0.097001  0.087039  "
      ]
     },
     "execution_count": 35,
     "metadata": {},
     "output_type": "execute_result"
    }
   ],
   "source": [
    "pred_train = pd.DataFrame(lg_gs.predict_proba(X_train), index = train.index, columns=targetencoder.classes_).reset_index()\n",
    "print(pred_train.shape)\n",
    "pred_train.head()"
   ]
  },
  {
   "cell_type": "code",
   "execution_count": 36,
   "metadata": {
    "collapsed": false
   },
   "outputs": [
    {
     "name": "stdout",
     "output_type": "stream",
     "text": [
      "(112071, 13)\n"
     ]
    },
    {
     "data": {
      "text/html": [
       "<div>\n",
       "<table border=\"1\" class=\"dataframe\">\n",
       "  <thead>\n",
       "    <tr style=\"text-align: right;\">\n",
       "      <th></th>\n",
       "      <th>device_id</th>\n",
       "      <th>F23-</th>\n",
       "      <th>F24-26</th>\n",
       "      <th>F27-28</th>\n",
       "      <th>F29-32</th>\n",
       "      <th>F33-42</th>\n",
       "      <th>F43+</th>\n",
       "      <th>M22-</th>\n",
       "      <th>M23-26</th>\n",
       "      <th>M27-28</th>\n",
       "      <th>M29-31</th>\n",
       "      <th>M32-38</th>\n",
       "      <th>M39+</th>\n",
       "    </tr>\n",
       "  </thead>\n",
       "  <tbody>\n",
       "    <tr>\n",
       "      <th>0</th>\n",
       "      <td>1002079943728939269</td>\n",
       "      <td>0.001406</td>\n",
       "      <td>0.005902</td>\n",
       "      <td>0.013673</td>\n",
       "      <td>0.013220</td>\n",
       "      <td>0.024521</td>\n",
       "      <td>0.044835</td>\n",
       "      <td>0.011796</td>\n",
       "      <td>0.032044</td>\n",
       "      <td>0.074043</td>\n",
       "      <td>0.120894</td>\n",
       "      <td>0.257728</td>\n",
       "      <td>0.399938</td>\n",
       "    </tr>\n",
       "    <tr>\n",
       "      <th>1</th>\n",
       "      <td>-1547860181818787117</td>\n",
       "      <td>0.007748</td>\n",
       "      <td>0.013682</td>\n",
       "      <td>0.030964</td>\n",
       "      <td>0.059669</td>\n",
       "      <td>0.071888</td>\n",
       "      <td>0.150966</td>\n",
       "      <td>0.005917</td>\n",
       "      <td>0.090234</td>\n",
       "      <td>0.053776</td>\n",
       "      <td>0.076563</td>\n",
       "      <td>0.230768</td>\n",
       "      <td>0.207826</td>\n",
       "    </tr>\n",
       "    <tr>\n",
       "      <th>2</th>\n",
       "      <td>7374582448058474277</td>\n",
       "      <td>0.023906</td>\n",
       "      <td>0.037819</td>\n",
       "      <td>0.036153</td>\n",
       "      <td>0.158270</td>\n",
       "      <td>0.165869</td>\n",
       "      <td>0.080492</td>\n",
       "      <td>0.013340</td>\n",
       "      <td>0.026618</td>\n",
       "      <td>0.043251</td>\n",
       "      <td>0.104368</td>\n",
       "      <td>0.180009</td>\n",
       "      <td>0.129906</td>\n",
       "    </tr>\n",
       "    <tr>\n",
       "      <th>3</th>\n",
       "      <td>-6220210354783429585</td>\n",
       "      <td>0.003138</td>\n",
       "      <td>0.034009</td>\n",
       "      <td>0.009404</td>\n",
       "      <td>0.012093</td>\n",
       "      <td>0.055049</td>\n",
       "      <td>0.185755</td>\n",
       "      <td>0.041355</td>\n",
       "      <td>0.121720</td>\n",
       "      <td>0.067024</td>\n",
       "      <td>0.089099</td>\n",
       "      <td>0.175942</td>\n",
       "      <td>0.205411</td>\n",
       "    </tr>\n",
       "    <tr>\n",
       "      <th>4</th>\n",
       "      <td>-5893464122623104785</td>\n",
       "      <td>0.046878</td>\n",
       "      <td>0.065165</td>\n",
       "      <td>0.042776</td>\n",
       "      <td>0.062275</td>\n",
       "      <td>0.056507</td>\n",
       "      <td>0.043436</td>\n",
       "      <td>0.091346</td>\n",
       "      <td>0.165146</td>\n",
       "      <td>0.098118</td>\n",
       "      <td>0.102053</td>\n",
       "      <td>0.132843</td>\n",
       "      <td>0.093459</td>\n",
       "    </tr>\n",
       "  </tbody>\n",
       "</table>\n",
       "</div>"
      ],
      "text/plain": [
       "             device_id      F23-    F24-26    F27-28    F29-32    F33-42  \\\n",
       "0  1002079943728939269  0.001406  0.005902  0.013673  0.013220  0.024521   \n",
       "1 -1547860181818787117  0.007748  0.013682  0.030964  0.059669  0.071888   \n",
       "2  7374582448058474277  0.023906  0.037819  0.036153  0.158270  0.165869   \n",
       "3 -6220210354783429585  0.003138  0.034009  0.009404  0.012093  0.055049   \n",
       "4 -5893464122623104785  0.046878  0.065165  0.042776  0.062275  0.056507   \n",
       "\n",
       "       F43+      M22-    M23-26    M27-28    M29-31    M32-38      M39+  \n",
       "0  0.044835  0.011796  0.032044  0.074043  0.120894  0.257728  0.399938  \n",
       "1  0.150966  0.005917  0.090234  0.053776  0.076563  0.230768  0.207826  \n",
       "2  0.080492  0.013340  0.026618  0.043251  0.104368  0.180009  0.129906  \n",
       "3  0.185755  0.041355  0.121720  0.067024  0.089099  0.175942  0.205411  \n",
       "4  0.043436  0.091346  0.165146  0.098118  0.102053  0.132843  0.093459  "
      ]
     },
     "execution_count": 36,
     "metadata": {},
     "output_type": "execute_result"
    }
   ],
   "source": [
    "pred_test = pd.DataFrame(lg_gs.predict_proba(X_test), index = test.index, columns=targetencoder.classes_).reset_index()\n",
    "print(pred_test.shape)\n",
    "pred_test.head()"
   ]
  },
  {
   "cell_type": "code",
   "execution_count": 37,
   "metadata": {
    "collapsed": false
   },
   "outputs": [],
   "source": [
    "m1 = pd.merge(pred_train, hour, how='left', on='device_id')\n",
    "m2 = pd.merge(m1, minute, how='left', on='device_id')\n",
    "m3 = pd.merge(m2, longitude, how='left', on='device_id')\n",
    "m4 = pd.merge(m3, day, how='left', on='device_id')\n",
    "X_train = pd.merge(m4, latitude, how='left', on='device_id')\n",
    "\n",
    "del m1\n",
    "del m2\n",
    "del m3\n",
    "del m4\n",
    "\n",
    "m1 = pd.merge(pred_test, hour, how='left', on='device_id')\n",
    "m2 = pd.merge(m1, minute, how='left', on='device_id')\n",
    "m3 = pd.merge(m2, longitude, how='left', on='device_id')\n",
    "m4 = pd.merge(m3, day, how='left', on='device_id')\n",
    "X_test = pd.merge(m4, latitude, how='left', on='device_id')\n",
    "\n",
    "del m1\n",
    "del m2\n",
    "del m3\n",
    "del m4\n",
    "\n",
    "X_test.fillna(-1, inplace=True)\n",
    "X_train.fillna(-1, inplace=True)\n",
    "\n",
    "X_train.drop('device_id',1,inplace=True)\n",
    "X_test.drop('device_id',1,inplace=True)"
   ]
  },
  {
   "cell_type": "code",
   "execution_count": 38,
   "metadata": {
    "collapsed": false
   },
   "outputs": [
    {
     "data": {
      "text/plain": [
       "Index(['F23-', 'F24-26', 'F27-28', 'F29-32', 'F33-42', 'F43+', 'M22-',\n",
       "       'M23-26', 'M27-28', 'M29-31', 'M32-38', 'M39+', 'hour_max', 'hour_min',\n",
       "       'hour_mean', 'hour_std', 'hour_median', 'hour_mode', 'min_max',\n",
       "       'min_min', 'min_mean', 'min_std', 'min_median', 'min_mode', 'long_max',\n",
       "       'long_min', 'long_mean', 'long_std', 'long_median', 'long_mode',\n",
       "       'day_max', 'day_min', 'day_mean', 'day_std', 'day_median', 'day_mode',\n",
       "       'lat_max', 'lat_min', 'lat_mean', 'lat_std', 'lat_median', 'lat_mode'],\n",
       "      dtype='object')"
      ]
     },
     "execution_count": 38,
     "metadata": {},
     "output_type": "execute_result"
    }
   ],
   "source": [
    "X_test.columns"
   ]
  },
  {
   "cell_type": "code",
   "execution_count": 39,
   "metadata": {
    "collapsed": true
   },
   "outputs": [],
   "source": [
    "del hour\n",
    "del minute\n",
    "del longitude\n",
    "del latitude\n",
    "del pred_train\n",
    "del pred_test\n",
    "del day"
   ]
  },
  {
   "cell_type": "markdown",
   "metadata": {},
   "source": [
    "I test several trees ensambles and choose the one that performs best using CV (log_loss)"
   ]
  },
  {
   "cell_type": "code",
   "execution_count": 53,
   "metadata": {
    "collapsed": false
   },
   "outputs": [
    {
     "data": {
      "text/plain": [
       "['lat_min',\n",
       " 'long_max',\n",
       " 'long_mean',\n",
       " 'long_median',\n",
       " 'long_mode',\n",
       " 'lat_mode',\n",
       " 'long_min',\n",
       " 'lat_max',\n",
       " 'lat_mean',\n",
       " 'lat_median',\n",
       " 'day_max',\n",
       " 'day_min',\n",
       " 'long_std',\n",
       " 'lat_std']"
      ]
     },
     "execution_count": 53,
     "metadata": {},
     "output_type": "execute_result"
    }
   ],
   "source": [
    "# Feature selection to remove noise\n",
    "rfc = RandomForestClassifier(n_estimators = 400, n_jobs=-1, random_state=23, min_samples_leaf= 35)\n",
    "rfc.fit(X_train, Y_train)\n",
    "features_lb = sorted(zip(map(lambda x: round(x, 4), rfc.feature_importances_), X_train.columns), reverse=True, key=lambda pair: pair[0])\n",
    "feature = []\n",
    "for pair in features_lb:\n",
    "    feature.append(pair[1])  \n",
    "get_rid = feature[28:]\n",
    "get_rid"
   ]
  },
  {
   "cell_type": "code",
   "execution_count": 56,
   "metadata": {
    "collapsed": false
   },
   "outputs": [
    {
     "name": "stdout",
     "output_type": "stream",
     "text": [
      "\n",
      "Training Ensamble Random Forest ....\n",
      "Fitting 5 folds for each of 2 candidates, totalling 10 fits\n"
     ]
    },
    {
     "name": "stderr",
     "output_type": "stream",
     "text": [
      "[Parallel(n_jobs=-1)]: Done  10 out of  10 | elapsed:  2.1min finished\n"
     ]
    },
    {
     "name": "stdout",
     "output_type": "stream",
     "text": [
      "Best parameters found by grid search: {'min_samples_leaf': 45, 'n_estimators': 250}\n",
      "Best CV score: -2.20609545925\n",
      "Best CV score: [mean: -2.20617, std: 0.05231, params: {'min_samples_leaf': 40, 'n_estimators': 250}, mean: -2.20610, std: 0.05186, params: {'min_samples_leaf': 45, 'n_estimators': 250}]\n"
     ]
    }
   ],
   "source": [
    "X_train.drop(get_rid, 1, inplace=True)\n",
    "X_test.drop(get_rid, 1, inplace=True)\n",
    "\n",
    "print(\"\\nTraining Ensamble Random Forest ....\")\n",
    "rfc = RandomForestClassifier(n_jobs=-1, random_state=23)\n",
    "param_grid = {'n_estimators':[250],'min_samples_leaf': [40,45]}\n",
    "rfc_gs = grid_search.GridSearchCV(estimator = rfc, param_grid = param_grid, cv = 5, n_jobs=-1, scoring='log_loss', error_score=0, verbose=2) \n",
    "rfc_gs.fit(X_train, Y_train)\n",
    "print(\"Best parameters found by grid search:\", rfc_gs.best_params_)\n",
    "print(\"Best CV score:\", rfc_gs.best_score_)\n",
    "print(\"Best CV score:\", rfc_gs.grid_scores_)\n",
    "\n",
    "# 2.25664 [mean: -2.22787, std: 0.04694, params: {'min_samples_leaf': 60, 'n_estimators': 200}]\n",
    "#-2.20669923957"
   ]
  },
  {
   "cell_type": "code",
   "execution_count": null,
   "metadata": {
    "collapsed": false
   },
   "outputs": [],
   "source": [
    "print(\"\\nTraining Ensamble Adaboost ....\")\n",
    "abc = AdaBoostClassifier(n_estimators=50, random_state=3)\n",
    "param_grid = {'learning_rate':[0.01]}\n",
    "abc_gs = grid_search.GridSearchCV(estimator = abc, param_grid = param_grid, cv = 5, n_jobs=-1, scoring='log_loss', error_score=0, verbose=2) \n",
    "abc_gs.fit(X_train, Y_train)\n",
    "print(\"Best parameters found by grid search:\", abc_gs.best_params_)\n",
    "print(\"Best CV score:\", abc_gs.best_score_)\n",
    "print(\"Best CV score:\", abc_gs.grid_scores_)"
   ]
  },
  {
   "cell_type": "code",
   "execution_count": null,
   "metadata": {
    "collapsed": false
   },
   "outputs": [
    {
     "name": "stdout",
     "output_type": "stream",
     "text": [
      "\n",
      "Training Ensamble Gradient Boosting ....\n",
      "Fitting 5 folds for each of 3 candidates, totalling 15 fits\n"
     ]
    }
   ],
   "source": [
    "print(\"\\nTraining Ensamble Gradient Boosting ....\")\n",
    "gbc = GradientBoostingClassifier(random_state=3, n_estimators = 200, max_features ='auto', subsample=0.9)\n",
    "param_grid = {'min_samples_leaf':[10,50,100],'learning_rate':[0.01]}\n",
    "gbc_gs = grid_search.GridSearchCV(estimator = gbc, param_grid = param_grid, cv = 5, n_jobs=-1, scoring='log_loss', error_score=0, verbose=2) \n",
    "gbc_gs.fit(X_train, Y_train)\n",
    "print(\"Best parameters found by grid search:\", gbc_gs.best_params_)\n",
    "print(\"Best CV score:\", gbc_gs.best_score_)\n",
    "print(\"Best CV score:\", gbc_gs.grid_scores_)"
   ]
  },
  {
   "cell_type": "code",
   "execution_count": null,
   "metadata": {
    "collapsed": false
   },
   "outputs": [],
   "source": [
    "print(\"\\nTraining Extra Trees Classifier ....\")\n",
    "etc = ExtraTreesClassifier(n_estimators=200, criterion='gini', max_features='auto', n_jobs=-1, random_state=23)\n",
    "param_grid = {'min_samples_leaf':[2,10,30,45]}\n",
    "etc_gs = grid_search.GridSearchCV(estimator = etc, param_grid = param_grid, cv = 5, n_jobs=-1, scoring='log_loss', error_score=0, verbose=2) \n",
    "etc_gs.fit(X_train, Y_train)\n",
    "print(\"Best parameters found by grid search:\", etc_gs.best_params_)\n",
    "print(\"Best CV score:\", etc_gs.best_score_)\n",
    "print(\"Best CV score:\", etc_gs.grid_scores_)"
   ]
  },
  {
   "cell_type": "code",
   "execution_count": 57,
   "metadata": {
    "collapsed": false
   },
   "outputs": [
    {
     "name": "stdout",
     "output_type": "stream",
     "text": [
      "(112071, 13)\n"
     ]
    },
    {
     "data": {
      "text/html": [
       "<div>\n",
       "<table border=\"1\" class=\"dataframe\">\n",
       "  <thead>\n",
       "    <tr style=\"text-align: right;\">\n",
       "      <th></th>\n",
       "      <th>device_id</th>\n",
       "      <th>F23-</th>\n",
       "      <th>F24-26</th>\n",
       "      <th>F27-28</th>\n",
       "      <th>F29-32</th>\n",
       "      <th>F33-42</th>\n",
       "      <th>F43+</th>\n",
       "      <th>M22-</th>\n",
       "      <th>M23-26</th>\n",
       "      <th>M27-28</th>\n",
       "      <th>M29-31</th>\n",
       "      <th>M32-38</th>\n",
       "      <th>M39+</th>\n",
       "    </tr>\n",
       "  </thead>\n",
       "  <tbody>\n",
       "    <tr>\n",
       "      <th>0</th>\n",
       "      <td>1002079943728939269</td>\n",
       "      <td>0.003436</td>\n",
       "      <td>0.005227</td>\n",
       "      <td>0.008564</td>\n",
       "      <td>0.015283</td>\n",
       "      <td>0.040488</td>\n",
       "      <td>0.037504</td>\n",
       "      <td>0.010398</td>\n",
       "      <td>0.031193</td>\n",
       "      <td>0.046525</td>\n",
       "      <td>0.100406</td>\n",
       "      <td>0.231091</td>\n",
       "      <td>0.469885</td>\n",
       "    </tr>\n",
       "    <tr>\n",
       "      <th>1</th>\n",
       "      <td>-1547860181818787117</td>\n",
       "      <td>0.011409</td>\n",
       "      <td>0.019589</td>\n",
       "      <td>0.024976</td>\n",
       "      <td>0.052607</td>\n",
       "      <td>0.078563</td>\n",
       "      <td>0.146865</td>\n",
       "      <td>0.025110</td>\n",
       "      <td>0.056067</td>\n",
       "      <td>0.051568</td>\n",
       "      <td>0.092691</td>\n",
       "      <td>0.280990</td>\n",
       "      <td>0.159564</td>\n",
       "    </tr>\n",
       "    <tr>\n",
       "      <th>2</th>\n",
       "      <td>7374582448058474277</td>\n",
       "      <td>0.017278</td>\n",
       "      <td>0.037337</td>\n",
       "      <td>0.045107</td>\n",
       "      <td>0.174493</td>\n",
       "      <td>0.224904</td>\n",
       "      <td>0.097840</td>\n",
       "      <td>0.021488</td>\n",
       "      <td>0.031194</td>\n",
       "      <td>0.036185</td>\n",
       "      <td>0.078063</td>\n",
       "      <td>0.128999</td>\n",
       "      <td>0.107113</td>\n",
       "    </tr>\n",
       "    <tr>\n",
       "      <th>3</th>\n",
       "      <td>-6220210354783429585</td>\n",
       "      <td>0.016370</td>\n",
       "      <td>0.022319</td>\n",
       "      <td>0.021027</td>\n",
       "      <td>0.042148</td>\n",
       "      <td>0.065010</td>\n",
       "      <td>0.127933</td>\n",
       "      <td>0.049979</td>\n",
       "      <td>0.118640</td>\n",
       "      <td>0.074297</td>\n",
       "      <td>0.113690</td>\n",
       "      <td>0.174256</td>\n",
       "      <td>0.174331</td>\n",
       "    </tr>\n",
       "    <tr>\n",
       "      <th>4</th>\n",
       "      <td>-5893464122623104785</td>\n",
       "      <td>0.029765</td>\n",
       "      <td>0.088116</td>\n",
       "      <td>0.043785</td>\n",
       "      <td>0.062717</td>\n",
       "      <td>0.035126</td>\n",
       "      <td>0.032274</td>\n",
       "      <td>0.066686</td>\n",
       "      <td>0.180191</td>\n",
       "      <td>0.119594</td>\n",
       "      <td>0.106891</td>\n",
       "      <td>0.140035</td>\n",
       "      <td>0.094821</td>\n",
       "    </tr>\n",
       "  </tbody>\n",
       "</table>\n",
       "</div>"
      ],
      "text/plain": [
       "             device_id      F23-    F24-26    F27-28    F29-32    F33-42  \\\n",
       "0  1002079943728939269  0.003436  0.005227  0.008564  0.015283  0.040488   \n",
       "1 -1547860181818787117  0.011409  0.019589  0.024976  0.052607  0.078563   \n",
       "2  7374582448058474277  0.017278  0.037337  0.045107  0.174493  0.224904   \n",
       "3 -6220210354783429585  0.016370  0.022319  0.021027  0.042148  0.065010   \n",
       "4 -5893464122623104785  0.029765  0.088116  0.043785  0.062717  0.035126   \n",
       "\n",
       "       F43+      M22-    M23-26    M27-28    M29-31    M32-38      M39+  \n",
       "0  0.037504  0.010398  0.031193  0.046525  0.100406  0.231091  0.469885  \n",
       "1  0.146865  0.025110  0.056067  0.051568  0.092691  0.280990  0.159564  \n",
       "2  0.097840  0.021488  0.031194  0.036185  0.078063  0.128999  0.107113  \n",
       "3  0.127933  0.049979  0.118640  0.074297  0.113690  0.174256  0.174331  \n",
       "4  0.032274  0.066686  0.180191  0.119594  0.106891  0.140035  0.094821  "
      ]
     },
     "execution_count": 57,
     "metadata": {},
     "output_type": "execute_result"
    }
   ],
   "source": [
    "pred = pd.DataFrame(rfc_gs.predict_proba(X_test), index = test.index, columns=targetencoder.classes_).reset_index()\n",
    "print(pred.shape)\n",
    "pred.head()"
   ]
  },
  {
   "cell_type": "code",
   "execution_count": 58,
   "metadata": {
    "collapsed": true
   },
   "outputs": [],
   "source": [
    "pred.to_csv('.\\\\submissions\\\\sub_rf.csv',index=False)"
   ]
  },
  {
   "cell_type": "code",
   "execution_count": null,
   "metadata": {
    "collapsed": true
   },
   "outputs": [],
   "source": []
  }
 ],
 "metadata": {
  "kernelspec": {
   "display_name": "Python 3",
   "language": "python",
   "name": "python3"
  },
  "language_info": {
   "codemirror_mode": {
    "name": "ipython",
    "version": 3
   },
   "file_extension": ".py",
   "mimetype": "text/x-python",
   "name": "python",
   "nbconvert_exporter": "python",
   "pygments_lexer": "ipython3",
   "version": "3.5.1"
  }
 },
 "nbformat": 4,
 "nbformat_minor": 0
}
