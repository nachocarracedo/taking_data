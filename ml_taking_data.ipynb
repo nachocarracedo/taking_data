{
 "cells": [
  {
   "cell_type": "markdown",
   "metadata": {
    "collapsed": false
   },
   "source": [
    "This script is based on https://www.kaggle.com/dvasyukova/talkingdata-mobile-user-demographics/a-linear-model-on-apps-and-labels/discussion\n",
    "\n",
    "The script loads, tranforms, and merger the data. Then it constructs a sparce Matrix and applies Logistic Regression to classify each device_id. Then a Random Forest is applied on these prediction and other feature enginering. \n"
   ]
  },
  {
   "cell_type": "code",
   "execution_count": 1,
   "metadata": {
    "collapsed": false,
    "scrolled": true
   },
   "outputs": [
    {
     "name": "stderr",
     "output_type": "stream",
     "text": [
      "C:\\Anaconda3\\lib\\site-packages\\matplotlib\\__init__.py:872: UserWarning: axes.color_cycle is deprecated and replaced with axes.prop_cycle; please use the latter.\n",
      "  warnings.warn(self.msg_depr % (key, alt_key))\n"
     ]
    }
   ],
   "source": [
    "import pandas as pd\n",
    "import numpy as np\n",
    "%matplotlib inline\n",
    "import seaborn as sns\n",
    "import matplotlib.pyplot as plt\n",
    "import os\n",
    "from sklearn.preprocessing import LabelEncoder\n",
    "from scipy.sparse import csr_matrix, hstack\n",
    "from sklearn.linear_model import LogisticRegression\n",
    "from sklearn.cross_validation import StratifiedKFold\n",
    "from sklearn.metrics import log_loss\n",
    "from sklearn.feature_selection import SelectPercentile, f_classif, chi2, SelectKBest\n",
    "from sklearn import pipeline, grid_search\n",
    "from sklearn.ensemble import RandomForestClassifier, AdaBoostClassifier, GradientBoostingClassifier, ExtraTreesClassifier\n",
    "from scipy import stats"
   ]
  },
  {
   "cell_type": "markdown",
   "metadata": {},
   "source": [
    "Load data and check how it looks (More detailed info on the data can be found in EDA_Taking_Data notebook)"
   ]
  },
  {
   "cell_type": "code",
   "execution_count": 2,
   "metadata": {
    "collapsed": false
   },
   "outputs": [],
   "source": [
    "datadir = './raw_data'\n",
    "train = pd.read_csv(os.path.join(datadir,'gender_age_train.csv'),index_col='device_id')\n",
    "test = pd.read_csv(os.path.join(datadir,'gender_age_test.csv'), index_col = 'device_id')\n",
    "phone = pd.read_csv(os.path.join(datadir,'phone_brand_device_model.csv'))\n",
    "\n",
    "# Get rid of duplicate device ids in phone\n",
    "phone = phone.drop_duplicates('device_id',keep='first').set_index('device_id')\n",
    "\n",
    "events = pd.read_csv(os.path.join(datadir,'events.csv'),parse_dates=['timestamp'], index_col='event_id')\n",
    "appevents = pd.read_csv(os.path.join(datadir,'app_events.csv'),usecols=['event_id','app_id','is_active'],dtype={'is_active':bool})\n",
    "applabels = pd.read_csv(os.path.join(datadir,'app_labels.csv'))"
   ]
  },
  {
   "cell_type": "code",
   "execution_count": 3,
   "metadata": {
    "collapsed": false
   },
   "outputs": [
    {
     "data": {
      "text/html": [
       "<div>\n",
       "<table border=\"1\" class=\"dataframe\">\n",
       "  <thead>\n",
       "    <tr style=\"text-align: right;\">\n",
       "      <th></th>\n",
       "      <th>gender</th>\n",
       "      <th>age</th>\n",
       "      <th>group</th>\n",
       "    </tr>\n",
       "    <tr>\n",
       "      <th>device_id</th>\n",
       "      <th></th>\n",
       "      <th></th>\n",
       "      <th></th>\n",
       "    </tr>\n",
       "  </thead>\n",
       "  <tbody>\n",
       "    <tr>\n",
       "      <th>-8076087639492063270</th>\n",
       "      <td>M</td>\n",
       "      <td>35</td>\n",
       "      <td>M32-38</td>\n",
       "    </tr>\n",
       "    <tr>\n",
       "      <th>-2897161552818060146</th>\n",
       "      <td>M</td>\n",
       "      <td>35</td>\n",
       "      <td>M32-38</td>\n",
       "    </tr>\n",
       "    <tr>\n",
       "      <th>-8260683887967679142</th>\n",
       "      <td>M</td>\n",
       "      <td>35</td>\n",
       "      <td>M32-38</td>\n",
       "    </tr>\n",
       "    <tr>\n",
       "      <th>-4938849341048082022</th>\n",
       "      <td>M</td>\n",
       "      <td>30</td>\n",
       "      <td>M29-31</td>\n",
       "    </tr>\n",
       "    <tr>\n",
       "      <th>245133531816851882</th>\n",
       "      <td>M</td>\n",
       "      <td>30</td>\n",
       "      <td>M29-31</td>\n",
       "    </tr>\n",
       "  </tbody>\n",
       "</table>\n",
       "</div>"
      ],
      "text/plain": [
       "                     gender  age   group\n",
       "device_id                               \n",
       "-8076087639492063270      M   35  M32-38\n",
       "-2897161552818060146      M   35  M32-38\n",
       "-8260683887967679142      M   35  M32-38\n",
       "-4938849341048082022      M   30  M29-31\n",
       " 245133531816851882       M   30  M29-31"
      ]
     },
     "execution_count": 3,
     "metadata": {},
     "output_type": "execute_result"
    }
   ],
   "source": [
    "train.head()"
   ]
  },
  {
   "cell_type": "code",
   "execution_count": 4,
   "metadata": {
    "collapsed": false
   },
   "outputs": [
    {
     "data": {
      "text/html": [
       "<div>\n",
       "<table border=\"1\" class=\"dataframe\">\n",
       "  <thead>\n",
       "    <tr style=\"text-align: right;\">\n",
       "      <th></th>\n",
       "    </tr>\n",
       "    <tr>\n",
       "      <th>device_id</th>\n",
       "    </tr>\n",
       "  </thead>\n",
       "  <tbody>\n",
       "    <tr>\n",
       "      <th>1002079943728939269</th>\n",
       "    </tr>\n",
       "    <tr>\n",
       "      <th>-1547860181818787117</th>\n",
       "    </tr>\n",
       "    <tr>\n",
       "      <th>7374582448058474277</th>\n",
       "    </tr>\n",
       "    <tr>\n",
       "      <th>-6220210354783429585</th>\n",
       "    </tr>\n",
       "    <tr>\n",
       "      <th>-5893464122623104785</th>\n",
       "    </tr>\n",
       "  </tbody>\n",
       "</table>\n",
       "</div>"
      ],
      "text/plain": [
       "Empty DataFrame\n",
       "Columns: []\n",
       "Index: [1002079943728939269, -1547860181818787117, 7374582448058474277, -6220210354783429585, -5893464122623104785]"
      ]
     },
     "execution_count": 4,
     "metadata": {},
     "output_type": "execute_result"
    }
   ],
   "source": [
    "test.head()"
   ]
  },
  {
   "cell_type": "code",
   "execution_count": 5,
   "metadata": {
    "collapsed": false
   },
   "outputs": [
    {
     "data": {
      "text/html": [
       "<div>\n",
       "<table border=\"1\" class=\"dataframe\">\n",
       "  <thead>\n",
       "    <tr style=\"text-align: right;\">\n",
       "      <th></th>\n",
       "      <th>phone_brand</th>\n",
       "      <th>device_model</th>\n",
       "    </tr>\n",
       "    <tr>\n",
       "      <th>device_id</th>\n",
       "      <th></th>\n",
       "      <th></th>\n",
       "    </tr>\n",
       "  </thead>\n",
       "  <tbody>\n",
       "    <tr>\n",
       "      <th>-8890648629457979026</th>\n",
       "      <td>小米</td>\n",
       "      <td>红米</td>\n",
       "    </tr>\n",
       "    <tr>\n",
       "      <th>1277779817574759137</th>\n",
       "      <td>小米</td>\n",
       "      <td>MI 2</td>\n",
       "    </tr>\n",
       "    <tr>\n",
       "      <th>5137427614288105724</th>\n",
       "      <td>三星</td>\n",
       "      <td>Galaxy S4</td>\n",
       "    </tr>\n",
       "    <tr>\n",
       "      <th>3669464369358936369</th>\n",
       "      <td>SUGAR</td>\n",
       "      <td>时尚手机</td>\n",
       "    </tr>\n",
       "    <tr>\n",
       "      <th>-5019277647504317457</th>\n",
       "      <td>三星</td>\n",
       "      <td>Galaxy Note 2</td>\n",
       "    </tr>\n",
       "  </tbody>\n",
       "</table>\n",
       "</div>"
      ],
      "text/plain": [
       "                     phone_brand   device_model\n",
       "device_id                                      \n",
       "-8890648629457979026          小米             红米\n",
       " 1277779817574759137          小米           MI 2\n",
       " 5137427614288105724          三星      Galaxy S4\n",
       " 3669464369358936369       SUGAR           时尚手机\n",
       "-5019277647504317457          三星  Galaxy Note 2"
      ]
     },
     "execution_count": 5,
     "metadata": {},
     "output_type": "execute_result"
    }
   ],
   "source": [
    "phone.head()"
   ]
  },
  {
   "cell_type": "code",
   "execution_count": 6,
   "metadata": {
    "collapsed": false
   },
   "outputs": [
    {
     "data": {
      "text/html": [
       "<div>\n",
       "<table border=\"1\" class=\"dataframe\">\n",
       "  <thead>\n",
       "    <tr style=\"text-align: right;\">\n",
       "      <th></th>\n",
       "      <th>event_id</th>\n",
       "      <th>app_id</th>\n",
       "      <th>is_active</th>\n",
       "    </tr>\n",
       "  </thead>\n",
       "  <tbody>\n",
       "    <tr>\n",
       "      <th>0</th>\n",
       "      <td>2</td>\n",
       "      <td>5927333115845830913</td>\n",
       "      <td>True</td>\n",
       "    </tr>\n",
       "    <tr>\n",
       "      <th>1</th>\n",
       "      <td>2</td>\n",
       "      <td>-5720078949152207372</td>\n",
       "      <td>False</td>\n",
       "    </tr>\n",
       "    <tr>\n",
       "      <th>2</th>\n",
       "      <td>2</td>\n",
       "      <td>-1633887856876571208</td>\n",
       "      <td>False</td>\n",
       "    </tr>\n",
       "    <tr>\n",
       "      <th>3</th>\n",
       "      <td>2</td>\n",
       "      <td>-653184325010919369</td>\n",
       "      <td>True</td>\n",
       "    </tr>\n",
       "    <tr>\n",
       "      <th>4</th>\n",
       "      <td>2</td>\n",
       "      <td>8693964245073640147</td>\n",
       "      <td>True</td>\n",
       "    </tr>\n",
       "  </tbody>\n",
       "</table>\n",
       "</div>"
      ],
      "text/plain": [
       "   event_id               app_id is_active\n",
       "0         2  5927333115845830913      True\n",
       "1         2 -5720078949152207372     False\n",
       "2         2 -1633887856876571208     False\n",
       "3         2  -653184325010919369      True\n",
       "4         2  8693964245073640147      True"
      ]
     },
     "execution_count": 6,
     "metadata": {},
     "output_type": "execute_result"
    }
   ],
   "source": [
    "appevents.head()"
   ]
  },
  {
   "cell_type": "code",
   "execution_count": 7,
   "metadata": {
    "collapsed": false
   },
   "outputs": [
    {
     "data": {
      "text/html": [
       "<div>\n",
       "<table border=\"1\" class=\"dataframe\">\n",
       "  <thead>\n",
       "    <tr style=\"text-align: right;\">\n",
       "      <th></th>\n",
       "      <th>app_id</th>\n",
       "      <th>label_id</th>\n",
       "    </tr>\n",
       "  </thead>\n",
       "  <tbody>\n",
       "    <tr>\n",
       "      <th>0</th>\n",
       "      <td>7324884708820027918</td>\n",
       "      <td>251</td>\n",
       "    </tr>\n",
       "    <tr>\n",
       "      <th>1</th>\n",
       "      <td>-4494216993218550286</td>\n",
       "      <td>251</td>\n",
       "    </tr>\n",
       "    <tr>\n",
       "      <th>2</th>\n",
       "      <td>6058196446775239644</td>\n",
       "      <td>406</td>\n",
       "    </tr>\n",
       "    <tr>\n",
       "      <th>3</th>\n",
       "      <td>6058196446775239644</td>\n",
       "      <td>407</td>\n",
       "    </tr>\n",
       "    <tr>\n",
       "      <th>4</th>\n",
       "      <td>8694625920731541625</td>\n",
       "      <td>406</td>\n",
       "    </tr>\n",
       "  </tbody>\n",
       "</table>\n",
       "</div>"
      ],
      "text/plain": [
       "                app_id  label_id\n",
       "0  7324884708820027918       251\n",
       "1 -4494216993218550286       251\n",
       "2  6058196446775239644       406\n",
       "3  6058196446775239644       407\n",
       "4  8694625920731541625       406"
      ]
     },
     "execution_count": 7,
     "metadata": {},
     "output_type": "execute_result"
    }
   ],
   "source": [
    "applabels.head()"
   ]
  },
  {
   "cell_type": "code",
   "execution_count": 8,
   "metadata": {
    "collapsed": false
   },
   "outputs": [],
   "source": [
    "# get size of train and test\n",
    "train['trainrow'] = np.arange(train.shape[0])\n",
    "test['testrow'] = np.arange(test.shape[0])"
   ]
  },
  {
   "cell_type": "markdown",
   "metadata": {},
   "source": [
    "Creation of sparce matrices for Brand, Model, Apps, and Apps Labels"
   ]
  },
  {
   "cell_type": "code",
   "execution_count": 9,
   "metadata": {
    "collapsed": false
   },
   "outputs": [
    {
     "name": "stdout",
     "output_type": "stream",
     "text": [
      "Brand features: train shape (74645, 131), test shape (112071, 131)\n"
     ]
    }
   ],
   "source": [
    "brandencoder = LabelEncoder().fit(phone.phone_brand)\n",
    "phone['brand'] = brandencoder.transform(phone['phone_brand'])\n",
    "\n",
    "train['brand'] = phone['brand']\n",
    "test['brand'] = phone['brand']\n",
    "\n",
    "Xtr_brand = csr_matrix((np.ones(train.shape[0]), (train.trainrow, train.brand)))\n",
    "Xte_brand = csr_matrix((np.ones(test.shape[0]), (test.testrow, test.brand)))\n",
    "\n",
    "print('Brand features: train shape {}, test shape {}'.format(Xtr_brand.shape, Xte_brand.shape))"
   ]
  },
  {
   "cell_type": "code",
   "execution_count": 10,
   "metadata": {
    "collapsed": false
   },
   "outputs": [
    {
     "name": "stdout",
     "output_type": "stream",
     "text": [
      "Model features: train shape (74645, 1667), test shape (112071, 1667)\n"
     ]
    }
   ],
   "source": [
    "m = phone.phone_brand.str.cat(phone.device_model)\n",
    "modelencoder = LabelEncoder().fit(m)\n",
    "phone['model'] = modelencoder.transform(m)\n",
    "train['model'] = phone['model']\n",
    "test['model'] = phone['model']\n",
    "Xtr_model = csr_matrix((np.ones(train.shape[0]), (train.trainrow, train.model)))\n",
    "Xte_model = csr_matrix((np.ones(test.shape[0]), (test.testrow, test.model)))\n",
    "print('Model features: train shape {}, test shape {}'.format(Xtr_model.shape, Xte_model.shape))\n",
    "del phone"
   ]
  },
  {
   "cell_type": "code",
   "execution_count": 11,
   "metadata": {
    "collapsed": false
   },
   "outputs": [
    {
     "data": {
      "text/html": [
       "<div>\n",
       "<table border=\"1\" class=\"dataframe\">\n",
       "  <thead>\n",
       "    <tr style=\"text-align: right;\">\n",
       "      <th></th>\n",
       "      <th>device_id</th>\n",
       "      <th>app</th>\n",
       "      <th>size</th>\n",
       "      <th>trainrow</th>\n",
       "      <th>testrow</th>\n",
       "    </tr>\n",
       "  </thead>\n",
       "  <tbody>\n",
       "    <tr>\n",
       "      <th>0</th>\n",
       "      <td>-9222956879900151005</td>\n",
       "      <td>548</td>\n",
       "      <td>18</td>\n",
       "      <td>21594.0</td>\n",
       "      <td>NaN</td>\n",
       "    </tr>\n",
       "    <tr>\n",
       "      <th>1</th>\n",
       "      <td>-9222956879900151005</td>\n",
       "      <td>1096</td>\n",
       "      <td>18</td>\n",
       "      <td>21594.0</td>\n",
       "      <td>NaN</td>\n",
       "    </tr>\n",
       "    <tr>\n",
       "      <th>2</th>\n",
       "      <td>-9222956879900151005</td>\n",
       "      <td>1248</td>\n",
       "      <td>26</td>\n",
       "      <td>21594.0</td>\n",
       "      <td>NaN</td>\n",
       "    </tr>\n",
       "    <tr>\n",
       "      <th>3</th>\n",
       "      <td>-9222956879900151005</td>\n",
       "      <td>1545</td>\n",
       "      <td>12</td>\n",
       "      <td>21594.0</td>\n",
       "      <td>NaN</td>\n",
       "    </tr>\n",
       "    <tr>\n",
       "      <th>4</th>\n",
       "      <td>-9222956879900151005</td>\n",
       "      <td>1664</td>\n",
       "      <td>18</td>\n",
       "      <td>21594.0</td>\n",
       "      <td>NaN</td>\n",
       "    </tr>\n",
       "  </tbody>\n",
       "</table>\n",
       "</div>"
      ],
      "text/plain": [
       "             device_id   app  size  trainrow  testrow\n",
       "0 -9222956879900151005   548    18   21594.0      NaN\n",
       "1 -9222956879900151005  1096    18   21594.0      NaN\n",
       "2 -9222956879900151005  1248    26   21594.0      NaN\n",
       "3 -9222956879900151005  1545    12   21594.0      NaN\n",
       "4 -9222956879900151005  1664    18   21594.0      NaN"
      ]
     },
     "execution_count": 11,
     "metadata": {},
     "output_type": "execute_result"
    }
   ],
   "source": [
    "appencoder = LabelEncoder().fit(appevents.app_id)\n",
    "appevents['app'] = appencoder.transform(appevents.app_id)\n",
    "napps = len(appencoder.classes_)\n",
    "\n",
    "deviceapps = (appevents.merge(events[['device_id']], how='left',left_on='event_id',right_index=True)\n",
    "                       .groupby(['device_id','app'])['app'].agg(['size'])\n",
    "                       .merge(train[['trainrow']], how='left', left_index=True, right_index=True)\n",
    "                       .merge(test[['testrow']], how='left', left_index=True, right_index=True)\n",
    "                       .reset_index())\n",
    "\n",
    "deviceapps.head()"
   ]
  },
  {
   "cell_type": "code",
   "execution_count": 12,
   "metadata": {
    "collapsed": true
   },
   "outputs": [],
   "source": [
    "events['timestamp'] = pd.to_datetime(events['timestamp'])\n",
    "events['hour'] = events['timestamp'].map(lambda x : x.hour)\n",
    "events['min'] = events['timestamp'].map(lambda x : x.minute)\n",
    "events['day'] = events['timestamp'].map(lambda x : x.day)\n"
   ]
  },
  {
   "cell_type": "markdown",
   "metadata": {
    "collapsed": false
   },
   "source": [
    "I fix latitude and longitud. There are many 0,0 values. These values are there when there was an error measuring. I'll change  this values to the mode of the device_id if this is not 0:"
   ]
  },
  {
   "cell_type": "code",
   "execution_count": null,
   "metadata": {
    "collapsed": false
   },
   "outputs": [],
   "source": [
    "# fix longitud and latitude \n",
    "ids_to_fix = list(events.loc[(events.longitude < 5) & (events.latitude < 5) & (events.latitude > -5) & (events.longitude > -5),'device_id'].unique())\n",
    "print(\"total entries to fix: \", len(ids_to_fix))\n",
    "print(\"progress ... \")\n",
    "\n",
    "counter = 0\n",
    "\n",
    "for i in ids_to_fix:\n",
    "    \n",
    "    all_long = events[events.device_id == i].longitude\n",
    "    all_lat = events[events.device_id == i].latitude\n",
    "    \n",
    "    try:\n",
    "        \n",
    "        mode_long = float(stats.mode(all_long[(all_long > 2) | (all_long < -2)])[0])\n",
    "        mode_lat = float(stats.mode(all_lat[(all_lat > 2) | (all_lat < -2)])[0])\n",
    "    \n",
    "        events.loc[(events.device_id==i) & (events.longitude < 2) & (events.longitude > -2), 'longitude'] = mode_long\n",
    "        events.loc[(events.device_id==i) & (events.latitude < 2) & (events.latitude > -2), 'latitude'] = mode_lat\n",
    "        \n",
    "    except:\n",
    "        events.loc[events.device_id == i,'longitude'] = 0\n",
    "        events.loc[events.device_id == i,'latitude'] = 0\n",
    "    \n",
    "    counter =  counter + 1\n",
    "    if counter % 5000 == 0: \n",
    "        print(counter)\n",
    "\n",
    "#events.to_csv('.\\\\transformed_data\\\\events.csv',index=False)"
   ]
  },
  {
   "cell_type": "code",
   "execution_count": 14,
   "metadata": {
    "collapsed": false
   },
   "outputs": [
    {
     "data": {
      "text/html": [
       "<div>\n",
       "<table border=\"1\" class=\"dataframe\">\n",
       "  <thead>\n",
       "    <tr style=\"text-align: right;\">\n",
       "      <th></th>\n",
       "      <th>device_id</th>\n",
       "      <th>timestamp</th>\n",
       "      <th>longitude</th>\n",
       "      <th>latitude</th>\n",
       "      <th>hour</th>\n",
       "      <th>min</th>\n",
       "      <th>day</th>\n",
       "    </tr>\n",
       "  </thead>\n",
       "  <tbody>\n",
       "    <tr>\n",
       "      <th>0</th>\n",
       "      <td>29182687948017175</td>\n",
       "      <td>2016-05-01 00:55:25</td>\n",
       "      <td>121.38</td>\n",
       "      <td>31.24</td>\n",
       "      <td>0</td>\n",
       "      <td>55</td>\n",
       "      <td>1</td>\n",
       "    </tr>\n",
       "    <tr>\n",
       "      <th>1</th>\n",
       "      <td>-6401643145415154744</td>\n",
       "      <td>2016-05-01 00:54:12</td>\n",
       "      <td>103.65</td>\n",
       "      <td>30.97</td>\n",
       "      <td>0</td>\n",
       "      <td>54</td>\n",
       "      <td>1</td>\n",
       "    </tr>\n",
       "    <tr>\n",
       "      <th>2</th>\n",
       "      <td>-4833982096941402721</td>\n",
       "      <td>2016-05-01 00:08:05</td>\n",
       "      <td>106.60</td>\n",
       "      <td>29.70</td>\n",
       "      <td>0</td>\n",
       "      <td>8</td>\n",
       "      <td>1</td>\n",
       "    </tr>\n",
       "    <tr>\n",
       "      <th>3</th>\n",
       "      <td>-6815121365017318426</td>\n",
       "      <td>2016-05-01 00:06:40</td>\n",
       "      <td>104.27</td>\n",
       "      <td>23.28</td>\n",
       "      <td>0</td>\n",
       "      <td>6</td>\n",
       "      <td>1</td>\n",
       "    </tr>\n",
       "    <tr>\n",
       "      <th>4</th>\n",
       "      <td>-5373797595892518570</td>\n",
       "      <td>2016-05-01 00:07:18</td>\n",
       "      <td>115.88</td>\n",
       "      <td>28.66</td>\n",
       "      <td>0</td>\n",
       "      <td>7</td>\n",
       "      <td>1</td>\n",
       "    </tr>\n",
       "    <tr>\n",
       "      <th>5</th>\n",
       "      <td>1476664663289716375</td>\n",
       "      <td>2016-05-01 00:27:21</td>\n",
       "      <td>0.00</td>\n",
       "      <td>0.00</td>\n",
       "      <td>0</td>\n",
       "      <td>27</td>\n",
       "      <td>1</td>\n",
       "    </tr>\n",
       "    <tr>\n",
       "      <th>6</th>\n",
       "      <td>5990807147117726237</td>\n",
       "      <td>2016-05-01 00:15:13</td>\n",
       "      <td>113.73</td>\n",
       "      <td>23.00</td>\n",
       "      <td>0</td>\n",
       "      <td>15</td>\n",
       "      <td>1</td>\n",
       "    </tr>\n",
       "    <tr>\n",
       "      <th>7</th>\n",
       "      <td>1782450055857303792</td>\n",
       "      <td>2016-05-01 00:15:35</td>\n",
       "      <td>113.94</td>\n",
       "      <td>34.70</td>\n",
       "      <td>0</td>\n",
       "      <td>15</td>\n",
       "      <td>1</td>\n",
       "    </tr>\n",
       "    <tr>\n",
       "      <th>8</th>\n",
       "      <td>-2073340001552902943</td>\n",
       "      <td>2016-05-01 00:15:33</td>\n",
       "      <td>0.00</td>\n",
       "      <td>0.00</td>\n",
       "      <td>0</td>\n",
       "      <td>15</td>\n",
       "      <td>1</td>\n",
       "    </tr>\n",
       "    <tr>\n",
       "      <th>9</th>\n",
       "      <td>-8195816569128397698</td>\n",
       "      <td>2016-05-01 00:41:31</td>\n",
       "      <td>119.34</td>\n",
       "      <td>26.04</td>\n",
       "      <td>0</td>\n",
       "      <td>41</td>\n",
       "      <td>1</td>\n",
       "    </tr>\n",
       "    <tr>\n",
       "      <th>10</th>\n",
       "      <td>8663743929678393765</td>\n",
       "      <td>2016-05-01 00:44:13</td>\n",
       "      <td>106.71</td>\n",
       "      <td>39.51</td>\n",
       "      <td>0</td>\n",
       "      <td>44</td>\n",
       "      <td>1</td>\n",
       "    </tr>\n",
       "    <tr>\n",
       "      <th>11</th>\n",
       "      <td>8663743929678393765</td>\n",
       "      <td>2016-05-01 00:45:30</td>\n",
       "      <td>106.71</td>\n",
       "      <td>39.51</td>\n",
       "      <td>0</td>\n",
       "      <td>45</td>\n",
       "      <td>1</td>\n",
       "    </tr>\n",
       "    <tr>\n",
       "      <th>12</th>\n",
       "      <td>8640114685470534007</td>\n",
       "      <td>2016-05-01 00:44:53</td>\n",
       "      <td>117.73</td>\n",
       "      <td>34.92</td>\n",
       "      <td>0</td>\n",
       "      <td>44</td>\n",
       "      <td>1</td>\n",
       "    </tr>\n",
       "    <tr>\n",
       "      <th>13</th>\n",
       "      <td>-5373797595892518570</td>\n",
       "      <td>2016-05-01 00:36:21</td>\n",
       "      <td>115.88</td>\n",
       "      <td>28.66</td>\n",
       "      <td>0</td>\n",
       "      <td>36</td>\n",
       "      <td>1</td>\n",
       "    </tr>\n",
       "    <tr>\n",
       "      <th>14</th>\n",
       "      <td>2504414082456157897</td>\n",
       "      <td>2016-05-01 00:40:45</td>\n",
       "      <td>120.62</td>\n",
       "      <td>31.31</td>\n",
       "      <td>0</td>\n",
       "      <td>40</td>\n",
       "      <td>1</td>\n",
       "    </tr>\n",
       "    <tr>\n",
       "      <th>15</th>\n",
       "      <td>9070651185984875886</td>\n",
       "      <td>2016-05-01 00:06:06</td>\n",
       "      <td>0.00</td>\n",
       "      <td>0.00</td>\n",
       "      <td>0</td>\n",
       "      <td>6</td>\n",
       "      <td>1</td>\n",
       "    </tr>\n",
       "    <tr>\n",
       "      <th>16</th>\n",
       "      <td>-460438353776005388</td>\n",
       "      <td>2016-05-01 00:06:33</td>\n",
       "      <td>118.44</td>\n",
       "      <td>24.71</td>\n",
       "      <td>0</td>\n",
       "      <td>6</td>\n",
       "      <td>1</td>\n",
       "    </tr>\n",
       "    <tr>\n",
       "      <th>17</th>\n",
       "      <td>2271670507584822423</td>\n",
       "      <td>2016-05-01 00:06:27</td>\n",
       "      <td>111.46</td>\n",
       "      <td>35.64</td>\n",
       "      <td>0</td>\n",
       "      <td>6</td>\n",
       "      <td>1</td>\n",
       "    </tr>\n",
       "    <tr>\n",
       "      <th>18</th>\n",
       "      <td>9161556264947841692</td>\n",
       "      <td>2016-05-01 00:17:37</td>\n",
       "      <td>0.00</td>\n",
       "      <td>0.00</td>\n",
       "      <td>0</td>\n",
       "      <td>17</td>\n",
       "      <td>1</td>\n",
       "    </tr>\n",
       "    <tr>\n",
       "      <th>19</th>\n",
       "      <td>6130108008013735751</td>\n",
       "      <td>2016-05-01 00:17:33</td>\n",
       "      <td>129.51</td>\n",
       "      <td>42.91</td>\n",
       "      <td>0</td>\n",
       "      <td>17</td>\n",
       "      <td>1</td>\n",
       "    </tr>\n",
       "  </tbody>\n",
       "</table>\n",
       "</div>"
      ],
      "text/plain": [
       "              device_id            timestamp  longitude  latitude  hour  min  \\\n",
       "0     29182687948017175  2016-05-01 00:55:25     121.38     31.24     0   55   \n",
       "1  -6401643145415154744  2016-05-01 00:54:12     103.65     30.97     0   54   \n",
       "2  -4833982096941402721  2016-05-01 00:08:05     106.60     29.70     0    8   \n",
       "3  -6815121365017318426  2016-05-01 00:06:40     104.27     23.28     0    6   \n",
       "4  -5373797595892518570  2016-05-01 00:07:18     115.88     28.66     0    7   \n",
       "5   1476664663289716375  2016-05-01 00:27:21       0.00      0.00     0   27   \n",
       "6   5990807147117726237  2016-05-01 00:15:13     113.73     23.00     0   15   \n",
       "7   1782450055857303792  2016-05-01 00:15:35     113.94     34.70     0   15   \n",
       "8  -2073340001552902943  2016-05-01 00:15:33       0.00      0.00     0   15   \n",
       "9  -8195816569128397698  2016-05-01 00:41:31     119.34     26.04     0   41   \n",
       "10  8663743929678393765  2016-05-01 00:44:13     106.71     39.51     0   44   \n",
       "11  8663743929678393765  2016-05-01 00:45:30     106.71     39.51     0   45   \n",
       "12  8640114685470534007  2016-05-01 00:44:53     117.73     34.92     0   44   \n",
       "13 -5373797595892518570  2016-05-01 00:36:21     115.88     28.66     0   36   \n",
       "14  2504414082456157897  2016-05-01 00:40:45     120.62     31.31     0   40   \n",
       "15  9070651185984875886  2016-05-01 00:06:06       0.00      0.00     0    6   \n",
       "16  -460438353776005388  2016-05-01 00:06:33     118.44     24.71     0    6   \n",
       "17  2271670507584822423  2016-05-01 00:06:27     111.46     35.64     0    6   \n",
       "18  9161556264947841692  2016-05-01 00:17:37       0.00      0.00     0   17   \n",
       "19  6130108008013735751  2016-05-01 00:17:33     129.51     42.91     0   17   \n",
       "\n",
       "    day  \n",
       "0     1  \n",
       "1     1  \n",
       "2     1  \n",
       "3     1  \n",
       "4     1  \n",
       "5     1  \n",
       "6     1  \n",
       "7     1  \n",
       "8     1  \n",
       "9     1  \n",
       "10    1  \n",
       "11    1  \n",
       "12    1  \n",
       "13    1  \n",
       "14    1  \n",
       "15    1  \n",
       "16    1  \n",
       "17    1  \n",
       "18    1  \n",
       "19    1  "
      ]
     },
     "execution_count": 14,
     "metadata": {},
     "output_type": "execute_result"
    }
   ],
   "source": [
    "events.head(20)"
   ]
  },
  {
   "cell_type": "code",
   "execution_count": 13,
   "metadata": {
    "collapsed": false
   },
   "outputs": [
    {
     "data": {
      "text/html": [
       "<div>\n",
       "<table border=\"1\" class=\"dataframe\">\n",
       "  <thead>\n",
       "    <tr style=\"text-align: right;\">\n",
       "      <th></th>\n",
       "      <th>device_id</th>\n",
       "      <th>timestamp</th>\n",
       "      <th>longitude</th>\n",
       "      <th>latitude</th>\n",
       "      <th>hour</th>\n",
       "      <th>min</th>\n",
       "      <th>day</th>\n",
       "    </tr>\n",
       "  </thead>\n",
       "  <tbody>\n",
       "    <tr>\n",
       "      <th>0</th>\n",
       "      <td>29182687948017175</td>\n",
       "      <td>2016-05-01 00:55:25</td>\n",
       "      <td>121.38</td>\n",
       "      <td>31.24</td>\n",
       "      <td>0</td>\n",
       "      <td>55</td>\n",
       "      <td>1</td>\n",
       "    </tr>\n",
       "    <tr>\n",
       "      <th>1</th>\n",
       "      <td>-6401643145415154744</td>\n",
       "      <td>2016-05-01 00:54:12</td>\n",
       "      <td>103.65</td>\n",
       "      <td>30.97</td>\n",
       "      <td>0</td>\n",
       "      <td>54</td>\n",
       "      <td>1</td>\n",
       "    </tr>\n",
       "    <tr>\n",
       "      <th>2</th>\n",
       "      <td>-4833982096941402721</td>\n",
       "      <td>2016-05-01 00:08:05</td>\n",
       "      <td>106.60</td>\n",
       "      <td>29.70</td>\n",
       "      <td>0</td>\n",
       "      <td>8</td>\n",
       "      <td>1</td>\n",
       "    </tr>\n",
       "    <tr>\n",
       "      <th>3</th>\n",
       "      <td>-6815121365017318426</td>\n",
       "      <td>2016-05-01 00:06:40</td>\n",
       "      <td>104.27</td>\n",
       "      <td>23.28</td>\n",
       "      <td>0</td>\n",
       "      <td>6</td>\n",
       "      <td>1</td>\n",
       "    </tr>\n",
       "    <tr>\n",
       "      <th>4</th>\n",
       "      <td>-5373797595892518570</td>\n",
       "      <td>2016-05-01 00:07:18</td>\n",
       "      <td>115.88</td>\n",
       "      <td>28.66</td>\n",
       "      <td>0</td>\n",
       "      <td>7</td>\n",
       "      <td>1</td>\n",
       "    </tr>\n",
       "  </tbody>\n",
       "</table>\n",
       "</div>"
      ],
      "text/plain": [
       "             device_id            timestamp  longitude  latitude  hour  min  \\\n",
       "0    29182687948017175  2016-05-01 00:55:25     121.38     31.24     0   55   \n",
       "1 -6401643145415154744  2016-05-01 00:54:12     103.65     30.97     0   54   \n",
       "2 -4833982096941402721  2016-05-01 00:08:05     106.60     29.70     0    8   \n",
       "3 -6815121365017318426  2016-05-01 00:06:40     104.27     23.28     0    6   \n",
       "4 -5373797595892518570  2016-05-01 00:07:18     115.88     28.66     0    7   \n",
       "\n",
       "   day  \n",
       "0    1  \n",
       "1    1  \n",
       "2    1  \n",
       "3    1  \n",
       "4    1  "
      ]
     },
     "execution_count": 13,
     "metadata": {},
     "output_type": "execute_result"
    }
   ],
   "source": [
    "# Comment out to load events already tranformed\n",
    "\n",
    "del events\n",
    "events = pd.read_csv('.\\\\transformed_data\\\\events.csv')\n",
    "events.head()"
   ]
  },
  {
   "cell_type": "code",
   "execution_count": null,
   "metadata": {
    "collapsed": true
   },
   "outputs": [],
   "source": []
  },
  {
   "cell_type": "code",
   "execution_count": 14,
   "metadata": {
    "collapsed": false
   },
   "outputs": [],
   "source": [
    "def replace (row):\n",
    "    if row['amax'] != -1 and row['std']==-1:\n",
    "        row['std']=0\n",
    "    return row\n",
    "\n",
    "gd = events.groupby('device_id')\n",
    "\n",
    "longitude = gd['longitude'].agg([np.max, np.min, np.mean, np.std, np.median, stats.mode]).reset_index()\n",
    "longitude['std'].fillna(-1,inplace=True)\n",
    "longitude.replace(to_replace=0, value=-1, inplace=True)\n",
    "longitude = longitude.rename(columns={'amax':'long_max','amin':'long_min','mean':'long_mean','median':'long_median','std':'long_std', 'mode':'long_mode'})\n",
    "\n",
    "\n",
    "latitude = gd['latitude'].agg([np.max, np.min, np.mean, np.std, np.median, stats.mode]).reset_index()\n",
    "latitude['std'].fillna(-1,inplace=True)\n",
    "latitude.replace(to_replace=0, value=-1, inplace=True)\n",
    "latitude = latitude.rename(columns={'amax':'lat_max','amin':'lat_min','mean':'lat_mean','median':'lat_median','std':'lat_std', 'mode':'lat_mode'})\n",
    "\n",
    "hour = gd['hour'].agg([np.max, np.min, np.mean, np.std, np.median, stats.mode]).reset_index()\n",
    "hour = hour.rename(columns={'amax':'hour_max','amin':'hour_min','mean':'hour_mean','median':'hour_median','std':'hour_std', 'mode':'hour_mode'})\n",
    "hour['hour_std'].fillna(0,inplace=True)\n",
    "\n",
    "\n",
    "minute = gd['min'].agg([np.max, np.min, np.mean, np.std, np.median, stats.mode]).reset_index()\n",
    "minute = minute.rename(columns={'amax':'min_max','amin':'min_min','mean':'min_mean','median':'min_median','std':'min_std', 'mode':'min_mode'})\n",
    "minute['min_std'].fillna(0,inplace=True)\n",
    "\n",
    "\n",
    "day = gd['day'].agg([np.max, np.min, np.mean, np.std, np.median, stats.mode]).reset_index()\n",
    "day = day.rename(columns={'amax':'day_max','amin':'day_min','mean':'day_mean','median':'day_median','std':'day_std', 'mode':'day_mode'})\n",
    "day['day_std'].fillna(0,inplace=True)\n"
   ]
  },
  {
   "cell_type": "code",
   "execution_count": 15,
   "metadata": {
    "collapsed": false
   },
   "outputs": [],
   "source": [
    "longitude['long_mode'] = longitude['long_mode'].map(lambda x: float(x[0]) if float(x[0])!=0 else -1)\n",
    "latitude['lat_mode'] = latitude['lat_mode'].map(lambda x: float(x[0]) if float(x[0])!=0 else -1)\n",
    "hour['hour_mode'] = hour['hour_mode'].map(lambda x: float(x[0]) if float(x[0])!=0 else -1)\n",
    "minute['min_mode'] = minute['min_mode'].map(lambda x: float(x[0]) if float(x[0])!=0 else -1)\n",
    "day['day_mode'] = day['day_mode'].map(lambda x: float(x[0]) if float(x[0])!=0 else -1)"
   ]
  },
  {
   "cell_type": "code",
   "execution_count": 16,
   "metadata": {
    "collapsed": false
   },
   "outputs": [],
   "source": [
    "del events"
   ]
  },
  {
   "cell_type": "code",
   "execution_count": 17,
   "metadata": {
    "collapsed": false
   },
   "outputs": [
    {
     "name": "stdout",
     "output_type": "stream",
     "text": [
      "Apps data: train shape (74645, 19237), test shape (112071, 19237)\n"
     ]
    }
   ],
   "source": [
    "d = deviceapps.dropna(subset=['trainrow'])\n",
    "Xtr_app = csr_matrix((np.ones(d.shape[0]), (d.trainrow, d.app)),shape=(train.shape[0],napps))\n",
    "d = deviceapps.dropna(subset=['testrow'])\n",
    "Xte_app = csr_matrix((np.ones(d.shape[0]), (d.testrow, d.app)), shape=(test.shape[0],napps))\n",
    "\n",
    "print('Apps data: train shape {}, test shape {}'.format(Xtr_app.shape, Xte_app.shape))"
   ]
  },
  {
   "cell_type": "code",
   "execution_count": 18,
   "metadata": {
    "collapsed": false
   },
   "outputs": [
    {
     "data": {
      "text/html": [
       "<div>\n",
       "<table border=\"1\" class=\"dataframe\">\n",
       "  <thead>\n",
       "    <tr style=\"text-align: right;\">\n",
       "      <th></th>\n",
       "      <th>app_id</th>\n",
       "      <th>label_id</th>\n",
       "    </tr>\n",
       "  </thead>\n",
       "  <tbody>\n",
       "    <tr>\n",
       "      <th>0</th>\n",
       "      <td>7324884708820027918</td>\n",
       "      <td>251</td>\n",
       "    </tr>\n",
       "    <tr>\n",
       "      <th>1</th>\n",
       "      <td>-4494216993218550286</td>\n",
       "      <td>251</td>\n",
       "    </tr>\n",
       "    <tr>\n",
       "      <th>2</th>\n",
       "      <td>6058196446775239644</td>\n",
       "      <td>406</td>\n",
       "    </tr>\n",
       "    <tr>\n",
       "      <th>3</th>\n",
       "      <td>6058196446775239644</td>\n",
       "      <td>407</td>\n",
       "    </tr>\n",
       "    <tr>\n",
       "      <th>4</th>\n",
       "      <td>8694625920731541625</td>\n",
       "      <td>406</td>\n",
       "    </tr>\n",
       "  </tbody>\n",
       "</table>\n",
       "</div>"
      ],
      "text/plain": [
       "                app_id  label_id\n",
       "0  7324884708820027918       251\n",
       "1 -4494216993218550286       251\n",
       "2  6058196446775239644       406\n",
       "3  6058196446775239644       407\n",
       "4  8694625920731541625       406"
      ]
     },
     "execution_count": 18,
     "metadata": {},
     "output_type": "execute_result"
    }
   ],
   "source": [
    "#applabels = pd.read_csv('./transformed_data/app_labels.csv')\n",
    "applabels.head()"
   ]
  },
  {
   "cell_type": "code",
   "execution_count": 19,
   "metadata": {
    "collapsed": false
   },
   "outputs": [],
   "source": [
    "applabels = applabels.loc[applabels.app_id.isin(appevents.app_id.unique())]\n",
    "applabels['app'] = appencoder.transform(applabels.app_id)\n",
    "labelencoder = LabelEncoder().fit(applabels.label_id)\n",
    "applabels['label'] = labelencoder.transform(applabels.label_id)\n",
    "nlabels = len(labelencoder.classes_)"
   ]
  },
  {
   "cell_type": "code",
   "execution_count": 20,
   "metadata": {
    "collapsed": false
   },
   "outputs": [
    {
     "data": {
      "text/plain": [
       "492"
      ]
     },
     "execution_count": 20,
     "metadata": {},
     "output_type": "execute_result"
    }
   ],
   "source": [
    "nlabels"
   ]
  },
  {
   "cell_type": "code",
   "execution_count": 21,
   "metadata": {
    "collapsed": false
   },
   "outputs": [
    {
     "data": {
      "text/html": [
       "<div>\n",
       "<table border=\"1\" class=\"dataframe\">\n",
       "  <thead>\n",
       "    <tr style=\"text-align: right;\">\n",
       "      <th></th>\n",
       "      <th>device_id</th>\n",
       "      <th>label</th>\n",
       "      <th>size</th>\n",
       "      <th>trainrow</th>\n",
       "      <th>testrow</th>\n",
       "    </tr>\n",
       "  </thead>\n",
       "  <tbody>\n",
       "    <tr>\n",
       "      <th>0</th>\n",
       "      <td>-9222956879900151005</td>\n",
       "      <td>117</td>\n",
       "      <td>1</td>\n",
       "      <td>21594.0</td>\n",
       "      <td>NaN</td>\n",
       "    </tr>\n",
       "    <tr>\n",
       "      <th>1</th>\n",
       "      <td>-9222956879900151005</td>\n",
       "      <td>120</td>\n",
       "      <td>1</td>\n",
       "      <td>21594.0</td>\n",
       "      <td>NaN</td>\n",
       "    </tr>\n",
       "    <tr>\n",
       "      <th>2</th>\n",
       "      <td>-9222956879900151005</td>\n",
       "      <td>126</td>\n",
       "      <td>1</td>\n",
       "      <td>21594.0</td>\n",
       "      <td>NaN</td>\n",
       "    </tr>\n",
       "    <tr>\n",
       "      <th>3</th>\n",
       "      <td>-9222956879900151005</td>\n",
       "      <td>138</td>\n",
       "      <td>2</td>\n",
       "      <td>21594.0</td>\n",
       "      <td>NaN</td>\n",
       "    </tr>\n",
       "    <tr>\n",
       "      <th>4</th>\n",
       "      <td>-9222956879900151005</td>\n",
       "      <td>147</td>\n",
       "      <td>2</td>\n",
       "      <td>21594.0</td>\n",
       "      <td>NaN</td>\n",
       "    </tr>\n",
       "  </tbody>\n",
       "</table>\n",
       "</div>"
      ],
      "text/plain": [
       "             device_id  label  size  trainrow  testrow\n",
       "0 -9222956879900151005    117     1   21594.0      NaN\n",
       "1 -9222956879900151005    120     1   21594.0      NaN\n",
       "2 -9222956879900151005    126     1   21594.0      NaN\n",
       "3 -9222956879900151005    138     2   21594.0      NaN\n",
       "4 -9222956879900151005    147     2   21594.0      NaN"
      ]
     },
     "execution_count": 21,
     "metadata": {},
     "output_type": "execute_result"
    }
   ],
   "source": [
    "devicelabels = (deviceapps[['device_id','app']]\n",
    "                .merge(applabels[['app','label']])\n",
    "                .groupby(['device_id','label'])['app'].agg(['size'])\n",
    "                .merge(train[['trainrow']], how='left', left_index=True, right_index=True)\n",
    "                .merge(test[['testrow']], how='left', left_index=True, right_index=True)\n",
    "                .reset_index())\n",
    "devicelabels.head()"
   ]
  },
  {
   "cell_type": "code",
   "execution_count": 22,
   "metadata": {
    "collapsed": false
   },
   "outputs": [
    {
     "name": "stdout",
     "output_type": "stream",
     "text": [
      "Labels data: train shape (74645, 492), test shape (112071, 492)\n"
     ]
    }
   ],
   "source": [
    "d = devicelabels.dropna(subset=['trainrow'])\n",
    "Xtr_label = csr_matrix((np.ones(d.shape[0]), (d.trainrow, d.label)), shape=(train.shape[0],nlabels))\n",
    "d = devicelabels.dropna(subset=['testrow'])\n",
    "Xte_label = csr_matrix((np.ones(d.shape[0]), (d.testrow, d.label)),shape=(test.shape[0],nlabels))\n",
    "print('Labels data: train shape {}, test shape {}'.format(Xtr_label.shape, Xte_label.shape))"
   ]
  },
  {
   "cell_type": "code",
   "execution_count": 23,
   "metadata": {
    "collapsed": false
   },
   "outputs": [
    {
     "name": "stdout",
     "output_type": "stream",
     "text": [
      "All features: train shape (74645, 21527), test shape (112071, 21527)\n"
     ]
    }
   ],
   "source": [
    "X_train = hstack((Xtr_brand, Xtr_model, Xtr_app, Xtr_label), format='csr')\n",
    "X_test =  hstack((Xte_brand, Xte_model, Xte_app, Xte_label), format='csr')\n",
    "print('All features: train shape {}, test shape {}'.format(X_train.shape, X_test.shape))"
   ]
  },
  {
   "cell_type": "code",
   "execution_count": 24,
   "metadata": {
    "collapsed": false
   },
   "outputs": [],
   "source": [
    "targetencoder = LabelEncoder().fit(train.group)\n",
    "Y_train = targetencoder.transform(train.group)\n",
    "nclasses = len(targetencoder.classes_)"
   ]
  },
  {
   "cell_type": "markdown",
   "metadata": {
    "collapsed": false
   },
   "source": [
    "Now that I have merge all space matrices I do feature selection (f_classif). I test which % works best with Logistic regression:"
   ]
  },
  {
   "cell_type": "code",
   "execution_count": 26,
   "metadata": {
    "collapsed": false
   },
   "outputs": [
    {
     "name": "stdout",
     "output_type": "stream",
     "text": [
      "All features: train shape (74645, 21527), test shape (112071, 21527)\n"
     ]
    },
    {
     "name": "stderr",
     "output_type": "stream",
     "text": [
      "C:\\Anaconda3\\lib\\site-packages\\sklearn\\feature_selection\\univariate_selection.py:113: UserWarning: Features [0 0 0 ..., 0 0 0] are constant.\n",
      "  UserWarning)\n"
     ]
    },
    {
     "name": "stdout",
     "output_type": "stream",
     "text": [
      "Fitting 5 folds for each of 2 candidates, totalling 10 fits\n"
     ]
    },
    {
     "name": "stderr",
     "output_type": "stream",
     "text": [
      "[Parallel(n_jobs=-1)]: Done  10 out of  10 | elapsed:  1.6min finished\n"
     ]
    },
    {
     "name": "stdout",
     "output_type": "stream",
     "text": [
      "Feature sel % 21\n",
      "# Num of Features:  4520\n",
      "Best parameters found by grid search: {'C': 0.02}\n",
      "Best CV score: -2.2808033846\n",
      "Best CV score: [mean: -2.28323, std: 0.03914, params: {'C': 0.01}, mean: -2.28080, std: 0.04088, params: {'C': 0.02}]\n",
      "All features: train shape (74645, 21527), test shape (112071, 21527)\n"
     ]
    },
    {
     "name": "stderr",
     "output_type": "stream",
     "text": [
      "C:\\Anaconda3\\lib\\site-packages\\sklearn\\feature_selection\\univariate_selection.py:113: UserWarning: Features [0 0 0 ..., 0 0 0] are constant.\n",
      "  UserWarning)\n"
     ]
    },
    {
     "name": "stdout",
     "output_type": "stream",
     "text": [
      "Fitting 5 folds for each of 2 candidates, totalling 10 fits\n"
     ]
    },
    {
     "name": "stderr",
     "output_type": "stream",
     "text": [
      "[Parallel(n_jobs=-1)]: Done  10 out of  10 | elapsed:  1.6min finished\n"
     ]
    },
    {
     "name": "stdout",
     "output_type": "stream",
     "text": [
      "Feature sel % 22\n",
      "# Num of Features:  4735\n",
      "Best parameters found by grid search: {'C': 0.02}\n",
      "Best CV score: -2.28074957969\n",
      "Best CV score: [mean: -2.28322, std: 0.03910, params: {'C': 0.01}, mean: -2.28075, std: 0.04082, params: {'C': 0.02}]\n"
     ]
    }
   ],
   "source": [
    "for i in (21,22):\n",
    "    \n",
    "    X_train = hstack((Xtr_brand, Xtr_model, Xtr_app, Xtr_label), format='csr')\n",
    "    X_test =  hstack((Xte_brand, Xte_model, Xte_app, Xte_label), format='csr')\n",
    "    print('All features: train shape {}, test shape {}'.format(X_train.shape, X_test.shape))\n",
    "    \n",
    "    targetencoder = LabelEncoder().fit(train.group)\n",
    "    Y_train = targetencoder.transform(train.group)\n",
    "    nclasses = len(targetencoder.classes_)\n",
    "           \n",
    "    selector = SelectPercentile(f_classif, percentile=i)\n",
    "    selector.fit(X_train, Y_train)\n",
    "\n",
    "    X_train = selector.transform(X_train)\n",
    "    X_test = selector.transform(X_test)\n",
    "\n",
    "    lg = LogisticRegression(random_state=23, fit_intercept=True, class_weight= None,multi_class='multinomial',solver='lbfgs')\n",
    "    param_grid = {'C': [0.01,0.02]}\n",
    "    lg_gs = grid_search.GridSearchCV(estimator = lg, param_grid = param_grid, cv = 5, n_jobs=-1, scoring='log_loss', error_score=0, verbose=2) \n",
    "    lg_gs.fit(X_train, Y_train)\n",
    "    print(\"Feature sel %\",i)\n",
    "    print(\"# Num of Features: \", X_train.shape[1])\n",
    "    print(\"Best parameters found by grid search:\", lg_gs.best_params_)\n",
    "    print(\"Best CV score:\", lg_gs.best_score_)\n",
    "    print(\"Best CV score:\", lg_gs.grid_scores_)\n"
   ]
  },
  {
   "cell_type": "markdown",
   "metadata": {},
   "source": [
    "Now I calculate the probs for every group and join these results with long, lat and time info to run a random forest for final predictions"
   ]
  },
  {
   "cell_type": "code",
   "execution_count": 27,
   "metadata": {
    "collapsed": false
   },
   "outputs": [
    {
     "name": "stdout",
     "output_type": "stream",
     "text": [
      "(74645, 13)\n"
     ]
    },
    {
     "data": {
      "text/html": [
       "<div>\n",
       "<table border=\"1\" class=\"dataframe\">\n",
       "  <thead>\n",
       "    <tr style=\"text-align: right;\">\n",
       "      <th></th>\n",
       "      <th>device_id</th>\n",
       "      <th>F23-</th>\n",
       "      <th>F24-26</th>\n",
       "      <th>F27-28</th>\n",
       "      <th>F29-32</th>\n",
       "      <th>F33-42</th>\n",
       "      <th>F43+</th>\n",
       "      <th>M22-</th>\n",
       "      <th>M23-26</th>\n",
       "      <th>M27-28</th>\n",
       "      <th>M29-31</th>\n",
       "      <th>M32-38</th>\n",
       "      <th>M39+</th>\n",
       "    </tr>\n",
       "  </thead>\n",
       "  <tbody>\n",
       "    <tr>\n",
       "      <th>0</th>\n",
       "      <td>-8076087639492063270</td>\n",
       "      <td>0.047493</td>\n",
       "      <td>0.065405</td>\n",
       "      <td>0.042820</td>\n",
       "      <td>0.062980</td>\n",
       "      <td>0.056873</td>\n",
       "      <td>0.044005</td>\n",
       "      <td>0.092716</td>\n",
       "      <td>0.162992</td>\n",
       "      <td>0.097672</td>\n",
       "      <td>0.101242</td>\n",
       "      <td>0.133037</td>\n",
       "      <td>0.092765</td>\n",
       "    </tr>\n",
       "    <tr>\n",
       "      <th>1</th>\n",
       "      <td>-2897161552818060146</td>\n",
       "      <td>0.047493</td>\n",
       "      <td>0.065405</td>\n",
       "      <td>0.042820</td>\n",
       "      <td>0.062980</td>\n",
       "      <td>0.056873</td>\n",
       "      <td>0.044005</td>\n",
       "      <td>0.092716</td>\n",
       "      <td>0.162992</td>\n",
       "      <td>0.097672</td>\n",
       "      <td>0.101242</td>\n",
       "      <td>0.133037</td>\n",
       "      <td>0.092765</td>\n",
       "    </tr>\n",
       "    <tr>\n",
       "      <th>2</th>\n",
       "      <td>-8260683887967679142</td>\n",
       "      <td>0.129130</td>\n",
       "      <td>0.065995</td>\n",
       "      <td>0.110943</td>\n",
       "      <td>0.063984</td>\n",
       "      <td>0.032393</td>\n",
       "      <td>0.035304</td>\n",
       "      <td>0.028364</td>\n",
       "      <td>0.102785</td>\n",
       "      <td>0.039319</td>\n",
       "      <td>0.073993</td>\n",
       "      <td>0.194298</td>\n",
       "      <td>0.123493</td>\n",
       "    </tr>\n",
       "    <tr>\n",
       "      <th>3</th>\n",
       "      <td>-4938849341048082022</td>\n",
       "      <td>0.059870</td>\n",
       "      <td>0.060034</td>\n",
       "      <td>0.042982</td>\n",
       "      <td>0.066702</td>\n",
       "      <td>0.077601</td>\n",
       "      <td>0.058478</td>\n",
       "      <td>0.102485</td>\n",
       "      <td>0.121519</td>\n",
       "      <td>0.078207</td>\n",
       "      <td>0.100052</td>\n",
       "      <td>0.125444</td>\n",
       "      <td>0.106626</td>\n",
       "    </tr>\n",
       "    <tr>\n",
       "      <th>4</th>\n",
       "      <td>245133531816851882</td>\n",
       "      <td>0.063184</td>\n",
       "      <td>0.071119</td>\n",
       "      <td>0.050150</td>\n",
       "      <td>0.062791</td>\n",
       "      <td>0.071574</td>\n",
       "      <td>0.044631</td>\n",
       "      <td>0.132182</td>\n",
       "      <td>0.141446</td>\n",
       "      <td>0.080956</td>\n",
       "      <td>0.097760</td>\n",
       "      <td>0.097680</td>\n",
       "      <td>0.086528</td>\n",
       "    </tr>\n",
       "  </tbody>\n",
       "</table>\n",
       "</div>"
      ],
      "text/plain": [
       "             device_id      F23-    F24-26    F27-28    F29-32    F33-42  \\\n",
       "0 -8076087639492063270  0.047493  0.065405  0.042820  0.062980  0.056873   \n",
       "1 -2897161552818060146  0.047493  0.065405  0.042820  0.062980  0.056873   \n",
       "2 -8260683887967679142  0.129130  0.065995  0.110943  0.063984  0.032393   \n",
       "3 -4938849341048082022  0.059870  0.060034  0.042982  0.066702  0.077601   \n",
       "4   245133531816851882  0.063184  0.071119  0.050150  0.062791  0.071574   \n",
       "\n",
       "       F43+      M22-    M23-26    M27-28    M29-31    M32-38      M39+  \n",
       "0  0.044005  0.092716  0.162992  0.097672  0.101242  0.133037  0.092765  \n",
       "1  0.044005  0.092716  0.162992  0.097672  0.101242  0.133037  0.092765  \n",
       "2  0.035304  0.028364  0.102785  0.039319  0.073993  0.194298  0.123493  \n",
       "3  0.058478  0.102485  0.121519  0.078207  0.100052  0.125444  0.106626  \n",
       "4  0.044631  0.132182  0.141446  0.080956  0.097760  0.097680  0.086528  "
      ]
     },
     "execution_count": 27,
     "metadata": {},
     "output_type": "execute_result"
    }
   ],
   "source": [
    "pred_train = pd.DataFrame(lg_gs.predict_proba(X_train), index = train.index, columns=targetencoder.classes_).reset_index()\n",
    "print(pred_train.shape)\n",
    "pred_train.head()"
   ]
  },
  {
   "cell_type": "code",
   "execution_count": 28,
   "metadata": {
    "collapsed": false
   },
   "outputs": [
    {
     "name": "stdout",
     "output_type": "stream",
     "text": [
      "(112071, 13)\n"
     ]
    },
    {
     "data": {
      "text/html": [
       "<div>\n",
       "<table border=\"1\" class=\"dataframe\">\n",
       "  <thead>\n",
       "    <tr style=\"text-align: right;\">\n",
       "      <th></th>\n",
       "      <th>device_id</th>\n",
       "      <th>F23-</th>\n",
       "      <th>F24-26</th>\n",
       "      <th>F27-28</th>\n",
       "      <th>F29-32</th>\n",
       "      <th>F33-42</th>\n",
       "      <th>F43+</th>\n",
       "      <th>M22-</th>\n",
       "      <th>M23-26</th>\n",
       "      <th>M27-28</th>\n",
       "      <th>M29-31</th>\n",
       "      <th>M32-38</th>\n",
       "      <th>M39+</th>\n",
       "    </tr>\n",
       "  </thead>\n",
       "  <tbody>\n",
       "    <tr>\n",
       "      <th>0</th>\n",
       "      <td>1002079943728939269</td>\n",
       "      <td>0.001428</td>\n",
       "      <td>0.005957</td>\n",
       "      <td>0.013528</td>\n",
       "      <td>0.013671</td>\n",
       "      <td>0.024650</td>\n",
       "      <td>0.045969</td>\n",
       "      <td>0.011914</td>\n",
       "      <td>0.032744</td>\n",
       "      <td>0.074542</td>\n",
       "      <td>0.117421</td>\n",
       "      <td>0.253848</td>\n",
       "      <td>0.404329</td>\n",
       "    </tr>\n",
       "    <tr>\n",
       "      <th>1</th>\n",
       "      <td>-1547860181818787117</td>\n",
       "      <td>0.007579</td>\n",
       "      <td>0.013868</td>\n",
       "      <td>0.030752</td>\n",
       "      <td>0.060238</td>\n",
       "      <td>0.071574</td>\n",
       "      <td>0.151359</td>\n",
       "      <td>0.006105</td>\n",
       "      <td>0.089614</td>\n",
       "      <td>0.053106</td>\n",
       "      <td>0.074890</td>\n",
       "      <td>0.233610</td>\n",
       "      <td>0.207304</td>\n",
       "    </tr>\n",
       "    <tr>\n",
       "      <th>2</th>\n",
       "      <td>7374582448058474277</td>\n",
       "      <td>0.024119</td>\n",
       "      <td>0.037797</td>\n",
       "      <td>0.036462</td>\n",
       "      <td>0.158582</td>\n",
       "      <td>0.164146</td>\n",
       "      <td>0.080618</td>\n",
       "      <td>0.013062</td>\n",
       "      <td>0.026213</td>\n",
       "      <td>0.042532</td>\n",
       "      <td>0.103632</td>\n",
       "      <td>0.183762</td>\n",
       "      <td>0.129076</td>\n",
       "    </tr>\n",
       "    <tr>\n",
       "      <th>3</th>\n",
       "      <td>-6220210354783429585</td>\n",
       "      <td>0.003143</td>\n",
       "      <td>0.033565</td>\n",
       "      <td>0.009411</td>\n",
       "      <td>0.012331</td>\n",
       "      <td>0.054864</td>\n",
       "      <td>0.188490</td>\n",
       "      <td>0.042114</td>\n",
       "      <td>0.121374</td>\n",
       "      <td>0.067112</td>\n",
       "      <td>0.086888</td>\n",
       "      <td>0.178283</td>\n",
       "      <td>0.202425</td>\n",
       "    </tr>\n",
       "    <tr>\n",
       "      <th>4</th>\n",
       "      <td>-5893464122623104785</td>\n",
       "      <td>0.047493</td>\n",
       "      <td>0.065405</td>\n",
       "      <td>0.042820</td>\n",
       "      <td>0.062980</td>\n",
       "      <td>0.056873</td>\n",
       "      <td>0.044005</td>\n",
       "      <td>0.092716</td>\n",
       "      <td>0.162992</td>\n",
       "      <td>0.097672</td>\n",
       "      <td>0.101242</td>\n",
       "      <td>0.133037</td>\n",
       "      <td>0.092765</td>\n",
       "    </tr>\n",
       "  </tbody>\n",
       "</table>\n",
       "</div>"
      ],
      "text/plain": [
       "             device_id      F23-    F24-26    F27-28    F29-32    F33-42  \\\n",
       "0  1002079943728939269  0.001428  0.005957  0.013528  0.013671  0.024650   \n",
       "1 -1547860181818787117  0.007579  0.013868  0.030752  0.060238  0.071574   \n",
       "2  7374582448058474277  0.024119  0.037797  0.036462  0.158582  0.164146   \n",
       "3 -6220210354783429585  0.003143  0.033565  0.009411  0.012331  0.054864   \n",
       "4 -5893464122623104785  0.047493  0.065405  0.042820  0.062980  0.056873   \n",
       "\n",
       "       F43+      M22-    M23-26    M27-28    M29-31    M32-38      M39+  \n",
       "0  0.045969  0.011914  0.032744  0.074542  0.117421  0.253848  0.404329  \n",
       "1  0.151359  0.006105  0.089614  0.053106  0.074890  0.233610  0.207304  \n",
       "2  0.080618  0.013062  0.026213  0.042532  0.103632  0.183762  0.129076  \n",
       "3  0.188490  0.042114  0.121374  0.067112  0.086888  0.178283  0.202425  \n",
       "4  0.044005  0.092716  0.162992  0.097672  0.101242  0.133037  0.092765  "
      ]
     },
     "execution_count": 28,
     "metadata": {},
     "output_type": "execute_result"
    }
   ],
   "source": [
    "pred_test = pd.DataFrame(lg_gs.predict_proba(X_test), index = test.index, columns=targetencoder.classes_).reset_index()\n",
    "print(pred_test.shape)\n",
    "pred_test.head()"
   ]
  },
  {
   "cell_type": "code",
   "execution_count": 29,
   "metadata": {
    "collapsed": false
   },
   "outputs": [],
   "source": [
    "m1 = pd.merge(pred_train, hour, how='left', on='device_id')\n",
    "m2 = pd.merge(m1, minute, how='left', on='device_id')\n",
    "m3 = pd.merge(m2, longitude, how='left', on='device_id')\n",
    "m4 = pd.merge(m3, day, how='left', on='device_id')\n",
    "X_train = pd.merge(m4, latitude, how='left', on='device_id')\n",
    "\n",
    "del m1\n",
    "del m2\n",
    "del m3\n",
    "del m4\n",
    "\n",
    "m1 = pd.merge(pred_test, hour, how='left', on='device_id')\n",
    "m2 = pd.merge(m1, minute, how='left', on='device_id')\n",
    "m3 = pd.merge(m2, longitude, how='left', on='device_id')\n",
    "m4 = pd.merge(m3, day, how='left', on='device_id')\n",
    "X_test = pd.merge(m4, latitude, how='left', on='device_id')\n",
    "\n",
    "del m1\n",
    "del m2\n",
    "del m3\n",
    "del m4\n",
    "\n"
   ]
  },
  {
   "cell_type": "code",
   "execution_count": null,
   "metadata": {
    "collapsed": true
   },
   "outputs": [],
   "source": [
    "X_test.fillna(-1, inplace=True)\n",
    "X_train.fillna(-1, inplace=True)\n",
    "\n",
    "X_train.drop('device_id',1,inplace=True)\n",
    "X_test.drop('device_id',1,inplace=True)"
   ]
  },
  {
   "cell_type": "code",
   "execution_count": 30,
   "metadata": {
    "collapsed": false
   },
   "outputs": [],
   "source": [
    "X_train.replace(to_replace=-1, value=np.NaN, inplace=True)\n",
    "X_test.replace(to_replace=-1, value=np.NaN, inplace=True)\n",
    "\n",
    "for col in list(X_train.isnull().sum().index[12:]):\n",
    "    med_train = np.median(X_train[X_train[col].notnull()][col])\n",
    "    X_train[col].fillna(med_train, inplace=True)\n",
    "    \n",
    "    med_test = np.median(X_test[X_test[col].notnull()][col])\n",
    "    X_test[col].fillna(med_test, inplace=True)\n",
    "    \n",
    "X_train.drop('device_id',1,inplace=True)\n",
    "X_test.drop('device_id',1,inplace=True)"
   ]
  },
  {
   "cell_type": "code",
   "execution_count": 31,
   "metadata": {
    "collapsed": true
   },
   "outputs": [],
   "source": [
    "del hour\n",
    "del minute\n",
    "del longitude\n",
    "del latitude\n",
    "del pred_train\n",
    "del pred_test\n",
    "del day"
   ]
  },
  {
   "cell_type": "markdown",
   "metadata": {},
   "source": [
    "I test several trees ensambles and choose the one that performs best using CV (log_loss)"
   ]
  },
  {
   "cell_type": "code",
   "execution_count": 56,
   "metadata": {
    "collapsed": false
   },
   "outputs": [
    {
     "data": {
      "text/plain": [
       "[(0.12570000000000001, 'M39+'),\n",
       " (0.107, 'M32-38'),\n",
       " (0.1031, 'M22-'),\n",
       " (0.099400000000000002, 'M23-26'),\n",
       " (0.0809, 'F23-'),\n",
       " (0.074800000000000005, 'M29-31'),\n",
       " (0.069500000000000006, 'F33-42'),\n",
       " (0.054100000000000002, 'F24-26'),\n",
       " (0.052400000000000002, 'F29-32'),\n",
       " (0.052400000000000002, 'M27-28'),\n",
       " (0.050000000000000003, 'F43+'),\n",
       " (0.045199999999999997, 'F27-28'),\n",
       " (0.0064999999999999997, 'day_std'),\n",
       " (0.0060000000000000001, 'hour_mean'),\n",
       " (0.0060000000000000001, 'hour_std'),\n",
       " (0.0058999999999999999, 'min_std'),\n",
       " (0.0054000000000000003, 'min_mean'),\n",
       " (0.0048999999999999998, 'day_mean'),\n",
       " (0.0043, 'min_max'),\n",
       " (0.0043, 'min_median'),\n",
       " (0.0041000000000000003, 'hour_min'),\n",
       " (0.0041000000000000003, 'min_mode'),\n",
       " (0.0038, 'hour_median'),\n",
       " (0.0037000000000000002, 'min_min'),\n",
       " (0.0033, 'hour_mode'),\n",
       " (0.0025000000000000001, 'hour_max'),\n",
       " (0.0020999999999999999, 'day_mode'),\n",
       " (0.0016999999999999999, 'day_median'),\n",
       " (0.0016000000000000001, 'lat_mean'),\n",
       " (0.0015, 'lat_min'),\n",
       " (0.0014, 'long_min'),\n",
       " (0.0014, 'long_mean'),\n",
       " (0.0014, 'long_median'),\n",
       " (0.0014, 'lat_max'),\n",
       " (0.0014, 'lat_median'),\n",
       " (0.0014, 'lat_mode'),\n",
       " (0.0012999999999999999, 'long_max'),\n",
       " (0.0011000000000000001, 'long_mode'),\n",
       " (0.0011000000000000001, 'day_max'),\n",
       " (0.001, 'day_min'),\n",
       " (0.00059999999999999995, 'long_std'),\n",
       " (0.00050000000000000001, 'lat_std')]"
      ]
     },
     "execution_count": 56,
     "metadata": {},
     "output_type": "execute_result"
    }
   ],
   "source": [
    "# Feature selection to remove noise\n",
    "rfc = RandomForestClassifier(n_estimators = 400, n_jobs=-1, random_state=23, min_samples_leaf= 35)\n",
    "rfc.fit(X_train, Y_train)\n",
    "features_lb = sorted(zip(map(lambda x: round(x, 4), rfc.feature_importances_), X_train.columns), reverse=True, key=lambda pair: pair[0])\n",
    "features_lb"
   ]
  },
  {
   "cell_type": "code",
   "execution_count": 57,
   "metadata": {
    "collapsed": false
   },
   "outputs": [
    {
     "name": "stdout",
     "output_type": "stream",
     "text": [
      "\n",
      "Training Ensamble Random Forest ....\n",
      "Fitting 5 folds for each of 4 candidates, totalling 20 fits\n"
     ]
    },
    {
     "name": "stderr",
     "output_type": "stream",
     "text": [
      "[Parallel(n_jobs=-1)]: Done  20 out of  20 | elapsed:  4.1min finished\n"
     ]
    },
    {
     "name": "stdout",
     "output_type": "stream",
     "text": [
      "Best parameters found by grid search: {'n_estimators': 250, 'min_samples_leaf': 30}\n",
      "Best CV score: -2.20941663257\n",
      "Best CV score: [mean: -2.20963, std: 0.05173, params: {'n_estimators': 250, 'min_samples_leaf': 20}, mean: -2.20942, std: 0.05100, params: {'n_estimators': 250, 'min_samples_leaf': 30}, mean: -2.20999, std: 0.04991, params: {'n_estimators': 250, 'min_samples_leaf': 40}, mean: -2.21049, std: 0.04975, params: {'n_estimators': 250, 'min_samples_leaf': 45}]\n"
     ]
    }
   ],
   "source": [
    "print(\"\\nTraining Ensamble Random Forest ....\")\n",
    "rfc = RandomForestClassifier(n_jobs=-1, random_state=23)\n",
    "param_grid = {'n_estimators':[250],'min_samples_leaf': [20,30,40,45]}\n",
    "rfc_gs = grid_search.GridSearchCV(estimator = rfc, param_grid = param_grid, cv = 5, n_jobs=-1, scoring='log_loss', error_score=0, verbose=2) \n",
    "rfc_gs.fit(X_train, Y_train)\n",
    "print(\"Best parameters found by grid search:\", rfc_gs.best_params_)\n",
    "print(\"Best CV score:\", rfc_gs.best_score_)\n",
    "print(\"Best CV score:\", rfc_gs.grid_scores_)\n",
    "\n",
    "# 2.25664 [mean: -2.22787, std: 0.04694, params: {'min_samples_leaf': 60, 'n_estimators': 200}]\n",
    "#-2.20669923957"
   ]
  },
  {
   "cell_type": "code",
   "execution_count": 58,
   "metadata": {
    "collapsed": false
   },
   "outputs": [
    {
     "name": "stdout",
     "output_type": "stream",
     "text": [
      "\n",
      "Training Ensamble Adaboost ....\n",
      "Fitting 5 folds for each of 1 candidates, totalling 5 fits\n"
     ]
    },
    {
     "name": "stderr",
     "output_type": "stream",
     "text": [
      "[Parallel(n_jobs=-1)]: Done   5 out of   5 | elapsed:   11.7s finished\n"
     ]
    },
    {
     "name": "stdout",
     "output_type": "stream",
     "text": [
      "Best parameters found by grid search: {'learning_rate': 0.01}\n",
      "Best CV score: -2.38545306525\n",
      "Best CV score: [mean: -2.38545, std: 0.01176, params: {'learning_rate': 0.01}]\n"
     ]
    }
   ],
   "source": [
    "print(\"\\nTraining Ensamble Adaboost ....\")\n",
    "abc = AdaBoostClassifier(n_estimators=20, random_state=3)\n",
    "param_grid = {'learning_rate':[0.01]}\n",
    "abc_gs = grid_search.GridSearchCV(estimator = abc, param_grid = param_grid, cv = 5, n_jobs=-1, scoring='log_loss', error_score=0, verbose=2) \n",
    "abc_gs.fit(X_train, Y_train)\n",
    "print(\"Best parameters found by grid search:\", abc_gs.best_params_)\n",
    "print(\"Best CV score:\", abc_gs.best_score_)\n",
    "print(\"Best CV score:\", abc_gs.grid_scores_)"
   ]
  },
  {
   "cell_type": "code",
   "execution_count": null,
   "metadata": {
    "collapsed": false
   },
   "outputs": [],
   "source": [
    "print(\"\\nTraining Ensamble Gradient Boosting ....\")\n",
    "gbc = GradientBoostingClassifier(random_state=3, n_estimators = 200, max_features ='auto', subsample=0.9)\n",
    "param_grid = {'min_samples_leaf':[10,50,100],'learning_rate':[0.01]}\n",
    "gbc_gs = grid_search.GridSearchCV(estimator = gbc, param_grid = param_grid, cv = 5, n_jobs=-1, scoring='log_loss', error_score=0, verbose=2) \n",
    "gbc_gs.fit(X_train, Y_train)\n",
    "print(\"Best parameters found by grid search:\", gbc_gs.best_params_)\n",
    "print(\"Best CV score:\", gbc_gs.best_score_)\n",
    "print(\"Best CV score:\", gbc_gs.grid_scores_)"
   ]
  },
  {
   "cell_type": "code",
   "execution_count": 32,
   "metadata": {
    "collapsed": false
   },
   "outputs": [
    {
     "name": "stdout",
     "output_type": "stream",
     "text": [
      "\n",
      "Training Extra Trees Classifier ....\n",
      "Fitting 5 folds for each of 2 candidates, totalling 10 fits\n"
     ]
    },
    {
     "name": "stderr",
     "output_type": "stream",
     "text": [
      "[Parallel(n_jobs=-1)]: Done  10 out of  10 | elapsed:  2.7min finished\n"
     ]
    },
    {
     "name": "stdout",
     "output_type": "stream",
     "text": [
      "Best parameters found by grid search: {'min_samples_leaf': 5}\n",
      "Best CV score: -2.20629668295\n",
      "Best CV score: [mean: -2.20630, std: 0.05141, params: {'min_samples_leaf': 5}, mean: -2.20878, std: 0.05236, params: {'min_samples_leaf': 3}]\n"
     ]
    }
   ],
   "source": [
    "print(\"\\nTraining Extra Trees Classifier ....\")\n",
    "etc = ExtraTreesClassifier(n_estimators=300, criterion='gini', max_features='auto', n_jobs=-1, random_state=23)\n",
    "param_grid = {'min_samples_leaf':[5,3]}\n",
    "etc_gs = grid_search.GridSearchCV(estimator = etc, param_grid = param_grid, cv = 5, n_jobs=-1, scoring='log_loss', error_score=0, verbose=2) \n",
    "etc_gs.fit(X_train, Y_train)\n",
    "print(\"Best parameters found by grid search:\", etc_gs.best_params_)\n",
    "print(\"Best CV score:\", etc_gs.best_score_)\n",
    "print(\"Best CV score:\", etc_gs.grid_scores_)"
   ]
  },
  {
   "cell_type": "code",
   "execution_count": 33,
   "metadata": {
    "collapsed": false
   },
   "outputs": [
    {
     "name": "stdout",
     "output_type": "stream",
     "text": [
      "(112071, 13)\n"
     ]
    },
    {
     "data": {
      "text/html": [
       "<div>\n",
       "<table border=\"1\" class=\"dataframe\">\n",
       "  <thead>\n",
       "    <tr style=\"text-align: right;\">\n",
       "      <th></th>\n",
       "      <th>device_id</th>\n",
       "      <th>F23-</th>\n",
       "      <th>F24-26</th>\n",
       "      <th>F27-28</th>\n",
       "      <th>F29-32</th>\n",
       "      <th>F33-42</th>\n",
       "      <th>F43+</th>\n",
       "      <th>M22-</th>\n",
       "      <th>M23-26</th>\n",
       "      <th>M27-28</th>\n",
       "      <th>M29-31</th>\n",
       "      <th>M32-38</th>\n",
       "      <th>M39+</th>\n",
       "    </tr>\n",
       "  </thead>\n",
       "  <tbody>\n",
       "    <tr>\n",
       "      <th>0</th>\n",
       "      <td>1002079943728939269</td>\n",
       "      <td>0.003312</td>\n",
       "      <td>0.007772</td>\n",
       "      <td>0.006843</td>\n",
       "      <td>0.015459</td>\n",
       "      <td>0.038605</td>\n",
       "      <td>0.058415</td>\n",
       "      <td>0.008924</td>\n",
       "      <td>0.043286</td>\n",
       "      <td>0.044197</td>\n",
       "      <td>0.117741</td>\n",
       "      <td>0.238715</td>\n",
       "      <td>0.416732</td>\n",
       "    </tr>\n",
       "    <tr>\n",
       "      <th>1</th>\n",
       "      <td>-1547860181818787117</td>\n",
       "      <td>0.012711</td>\n",
       "      <td>0.013363</td>\n",
       "      <td>0.020778</td>\n",
       "      <td>0.063530</td>\n",
       "      <td>0.091204</td>\n",
       "      <td>0.141512</td>\n",
       "      <td>0.021931</td>\n",
       "      <td>0.058956</td>\n",
       "      <td>0.050950</td>\n",
       "      <td>0.082628</td>\n",
       "      <td>0.249958</td>\n",
       "      <td>0.192479</td>\n",
       "    </tr>\n",
       "    <tr>\n",
       "      <th>2</th>\n",
       "      <td>7374582448058474277</td>\n",
       "      <td>0.018663</td>\n",
       "      <td>0.036719</td>\n",
       "      <td>0.044474</td>\n",
       "      <td>0.145370</td>\n",
       "      <td>0.226642</td>\n",
       "      <td>0.097471</td>\n",
       "      <td>0.033321</td>\n",
       "      <td>0.029307</td>\n",
       "      <td>0.036310</td>\n",
       "      <td>0.090964</td>\n",
       "      <td>0.137951</td>\n",
       "      <td>0.102808</td>\n",
       "    </tr>\n",
       "    <tr>\n",
       "      <th>3</th>\n",
       "      <td>-6220210354783429585</td>\n",
       "      <td>0.010604</td>\n",
       "      <td>0.021142</td>\n",
       "      <td>0.025212</td>\n",
       "      <td>0.040569</td>\n",
       "      <td>0.063317</td>\n",
       "      <td>0.119393</td>\n",
       "      <td>0.031926</td>\n",
       "      <td>0.135205</td>\n",
       "      <td>0.068889</td>\n",
       "      <td>0.117324</td>\n",
       "      <td>0.163626</td>\n",
       "      <td>0.202793</td>\n",
       "    </tr>\n",
       "    <tr>\n",
       "      <th>4</th>\n",
       "      <td>-5893464122623104785</td>\n",
       "      <td>0.039893</td>\n",
       "      <td>0.077214</td>\n",
       "      <td>0.045475</td>\n",
       "      <td>0.062758</td>\n",
       "      <td>0.046131</td>\n",
       "      <td>0.037388</td>\n",
       "      <td>0.081623</td>\n",
       "      <td>0.168802</td>\n",
       "      <td>0.107432</td>\n",
       "      <td>0.105616</td>\n",
       "      <td>0.132364</td>\n",
       "      <td>0.095305</td>\n",
       "    </tr>\n",
       "  </tbody>\n",
       "</table>\n",
       "</div>"
      ],
      "text/plain": [
       "             device_id      F23-    F24-26    F27-28    F29-32    F33-42  \\\n",
       "0  1002079943728939269  0.003312  0.007772  0.006843  0.015459  0.038605   \n",
       "1 -1547860181818787117  0.012711  0.013363  0.020778  0.063530  0.091204   \n",
       "2  7374582448058474277  0.018663  0.036719  0.044474  0.145370  0.226642   \n",
       "3 -6220210354783429585  0.010604  0.021142  0.025212  0.040569  0.063317   \n",
       "4 -5893464122623104785  0.039893  0.077214  0.045475  0.062758  0.046131   \n",
       "\n",
       "       F43+      M22-    M23-26    M27-28    M29-31    M32-38      M39+  \n",
       "0  0.058415  0.008924  0.043286  0.044197  0.117741  0.238715  0.416732  \n",
       "1  0.141512  0.021931  0.058956  0.050950  0.082628  0.249958  0.192479  \n",
       "2  0.097471  0.033321  0.029307  0.036310  0.090964  0.137951  0.102808  \n",
       "3  0.119393  0.031926  0.135205  0.068889  0.117324  0.163626  0.202793  \n",
       "4  0.037388  0.081623  0.168802  0.107432  0.105616  0.132364  0.095305  "
      ]
     },
     "execution_count": 33,
     "metadata": {},
     "output_type": "execute_result"
    }
   ],
   "source": [
    "pred = pd.DataFrame(etc_gs.predict_proba(X_test), index = test.index, columns=targetencoder.classes_).reset_index()\n",
    "print(pred.shape)\n",
    "pred.head()"
   ]
  },
  {
   "cell_type": "code",
   "execution_count": 34,
   "metadata": {
    "collapsed": true
   },
   "outputs": [],
   "source": [
    "pred.to_csv('.\\\\submissions\\\\sub_et.csv',index=False)"
   ]
  },
  {
   "cell_type": "code",
   "execution_count": null,
   "metadata": {
    "collapsed": true
   },
   "outputs": [],
   "source": []
  }
 ],
 "metadata": {
  "kernelspec": {
   "display_name": "Python 3",
   "language": "python",
   "name": "python3"
  },
  "language_info": {
   "codemirror_mode": {
    "name": "ipython",
    "version": 3
   },
   "file_extension": ".py",
   "mimetype": "text/x-python",
   "name": "python",
   "nbconvert_exporter": "python",
   "pygments_lexer": "ipython3",
   "version": "3.5.1"
  }
 },
 "nbformat": 4,
 "nbformat_minor": 0
}
